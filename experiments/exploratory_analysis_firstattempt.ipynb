{
 "cells": [
  {
   "cell_type": "markdown",
   "metadata": {},
   "source": [
    "## Exploratory Data Analysis\n",
    "\n",
    "Use this notebook to get familiar with the datasets we have. There is 10 questions we need to answer during the EDA.\n",
    "\n",
    "\n",
    "We shouldn't limit our EDA to these 10 questions. Let's be creative :)."
   ]
  },
  {
   "cell_type": "code",
   "execution_count": 1,
   "metadata": {},
   "outputs": [],
   "source": [
    "# import libraries\n",
    "import numpy as np\n",
    "import pandas as pd\n",
    "import matplotlib.pyplot as plt\n",
    "import seaborn as sns"
   ]
  },
  {
   "cell_type": "code",
   "execution_count": 2,
   "metadata": {},
   "outputs": [],
   "source": [
    "# upload datasets\n",
    "df = pd.read_csv('data/flightsdataEDA.csv')"
   ]
  },
  {
   "cell_type": "code",
   "execution_count": 3,
   "metadata": {},
   "outputs": [
    {
     "data": {
      "text/html": [
       "<div>\n",
       "<style scoped>\n",
       "    .dataframe tbody tr th:only-of-type {\n",
       "        vertical-align: middle;\n",
       "    }\n",
       "\n",
       "    .dataframe tbody tr th {\n",
       "        vertical-align: top;\n",
       "    }\n",
       "\n",
       "    .dataframe thead th {\n",
       "        text-align: right;\n",
       "    }\n",
       "</style>\n",
       "<table border=\"1\" class=\"dataframe\">\n",
       "  <thead>\n",
       "    <tr style=\"text-align: right;\">\n",
       "      <th></th>\n",
       "      <th>fl_date</th>\n",
       "      <th>op_unique_carrier</th>\n",
       "      <th>tail_num</th>\n",
       "      <th>op_carrier_fl_num</th>\n",
       "      <th>origin</th>\n",
       "      <th>dest</th>\n",
       "      <th>crs_dep_time</th>\n",
       "      <th>dep_time</th>\n",
       "      <th>dep_delay</th>\n",
       "      <th>taxi_out</th>\n",
       "      <th>...</th>\n",
       "      <th>dest_city</th>\n",
       "      <th>dest_state</th>\n",
       "      <th>arr_date</th>\n",
       "      <th>dep_datetime</th>\n",
       "      <th>arr_datetime</th>\n",
       "      <th>fl_month</th>\n",
       "      <th>fl_weekday</th>\n",
       "      <th>day_num_of_flights</th>\n",
       "      <th>num_flights_24hr</th>\n",
       "      <th>inbound_fl</th>\n",
       "    </tr>\n",
       "  </thead>\n",
       "  <tbody>\n",
       "    <tr>\n",
       "      <th>0</th>\n",
       "      <td>2018-01-02 00:00:00</td>\n",
       "      <td>DL</td>\n",
       "      <td>N308DE</td>\n",
       "      <td>1124</td>\n",
       "      <td>ATL</td>\n",
       "      <td>RIC</td>\n",
       "      <td>17:25:00</td>\n",
       "      <td>1724.0</td>\n",
       "      <td>-1.0</td>\n",
       "      <td>11.0</td>\n",
       "      <td>...</td>\n",
       "      <td>Richmond</td>\n",
       "      <td>VA</td>\n",
       "      <td>2018-01-02 00:00:00</td>\n",
       "      <td>2018-01-02 17:25:00</td>\n",
       "      <td>2018-01-02 18:55:00</td>\n",
       "      <td>1</td>\n",
       "      <td>1</td>\n",
       "      <td>9</td>\n",
       "      <td>18</td>\n",
       "      <td>0</td>\n",
       "    </tr>\n",
       "    <tr>\n",
       "      <th>1</th>\n",
       "      <td>2018-01-02 00:00:00</td>\n",
       "      <td>DL</td>\n",
       "      <td>N308DE</td>\n",
       "      <td>1124</td>\n",
       "      <td>RIC</td>\n",
       "      <td>ATL</td>\n",
       "      <td>19:30:00</td>\n",
       "      <td>1923.0</td>\n",
       "      <td>-7.0</td>\n",
       "      <td>13.0</td>\n",
       "      <td>...</td>\n",
       "      <td>Atlanta</td>\n",
       "      <td>GA</td>\n",
       "      <td>2018-01-02 00:00:00</td>\n",
       "      <td>2018-01-02 19:30:00</td>\n",
       "      <td>2018-01-02 21:32:00</td>\n",
       "      <td>1</td>\n",
       "      <td>1</td>\n",
       "      <td>1</td>\n",
       "      <td>2</td>\n",
       "      <td>1</td>\n",
       "    </tr>\n",
       "    <tr>\n",
       "      <th>2</th>\n",
       "      <td>2018-01-02 00:00:00</td>\n",
       "      <td>DL</td>\n",
       "      <td>N342NB</td>\n",
       "      <td>1125</td>\n",
       "      <td>CLT</td>\n",
       "      <td>ATL</td>\n",
       "      <td>19:05:00</td>\n",
       "      <td>1911.0</td>\n",
       "      <td>6.0</td>\n",
       "      <td>21.0</td>\n",
       "      <td>...</td>\n",
       "      <td>Atlanta</td>\n",
       "      <td>GA</td>\n",
       "      <td>2018-01-02 00:00:00</td>\n",
       "      <td>2018-01-02 19:05:00</td>\n",
       "      <td>2018-01-02 20:29:00</td>\n",
       "      <td>1</td>\n",
       "      <td>1</td>\n",
       "      <td>1</td>\n",
       "      <td>1</td>\n",
       "      <td>0</td>\n",
       "    </tr>\n",
       "    <tr>\n",
       "      <th>3</th>\n",
       "      <td>2018-01-02 00:00:00</td>\n",
       "      <td>DL</td>\n",
       "      <td>N988DL</td>\n",
       "      <td>1126</td>\n",
       "      <td>BNA</td>\n",
       "      <td>DTW</td>\n",
       "      <td>18:43:00</td>\n",
       "      <td>1931.0</td>\n",
       "      <td>48.0</td>\n",
       "      <td>13.0</td>\n",
       "      <td>...</td>\n",
       "      <td>Detroit</td>\n",
       "      <td>MI</td>\n",
       "      <td>2018-01-02 00:00:00</td>\n",
       "      <td>2018-01-02 18:43:00</td>\n",
       "      <td>2018-01-02 21:25:00</td>\n",
       "      <td>1</td>\n",
       "      <td>1</td>\n",
       "      <td>1</td>\n",
       "      <td>1</td>\n",
       "      <td>0</td>\n",
       "    </tr>\n",
       "    <tr>\n",
       "      <th>4</th>\n",
       "      <td>2018-01-02 00:00:00</td>\n",
       "      <td>DL</td>\n",
       "      <td>N951DL</td>\n",
       "      <td>1127</td>\n",
       "      <td>ATL</td>\n",
       "      <td>IND</td>\n",
       "      <td>09:11:00</td>\n",
       "      <td>910.0</td>\n",
       "      <td>-1.0</td>\n",
       "      <td>15.0</td>\n",
       "      <td>...</td>\n",
       "      <td>Indianapolis</td>\n",
       "      <td>IN</td>\n",
       "      <td>2018-01-02 00:00:00</td>\n",
       "      <td>2018-01-02 09:11:00</td>\n",
       "      <td>2018-01-02 10:42:00</td>\n",
       "      <td>1</td>\n",
       "      <td>1</td>\n",
       "      <td>9</td>\n",
       "      <td>14</td>\n",
       "      <td>0</td>\n",
       "    </tr>\n",
       "  </tbody>\n",
       "</table>\n",
       "<p>5 rows × 46 columns</p>\n",
       "</div>"
      ],
      "text/plain": [
       "               fl_date op_unique_carrier tail_num  op_carrier_fl_num origin  \\\n",
       "0  2018-01-02 00:00:00                DL   N308DE               1124    ATL   \n",
       "1  2018-01-02 00:00:00                DL   N308DE               1124    RIC   \n",
       "2  2018-01-02 00:00:00                DL   N342NB               1125    CLT   \n",
       "3  2018-01-02 00:00:00                DL   N988DL               1126    BNA   \n",
       "4  2018-01-02 00:00:00                DL   N951DL               1127    ATL   \n",
       "\n",
       "  dest crs_dep_time  dep_time  dep_delay  taxi_out  ...     dest_city  \\\n",
       "0  RIC     17:25:00    1724.0       -1.0      11.0  ...      Richmond   \n",
       "1  ATL     19:30:00    1923.0       -7.0      13.0  ...       Atlanta   \n",
       "2  ATL     19:05:00    1911.0        6.0      21.0  ...       Atlanta   \n",
       "3  DTW     18:43:00    1931.0       48.0      13.0  ...       Detroit   \n",
       "4  IND     09:11:00     910.0       -1.0      15.0  ...  Indianapolis   \n",
       "\n",
       "   dest_state             arr_date         dep_datetime         arr_datetime  \\\n",
       "0          VA  2018-01-02 00:00:00  2018-01-02 17:25:00  2018-01-02 18:55:00   \n",
       "1          GA  2018-01-02 00:00:00  2018-01-02 19:30:00  2018-01-02 21:32:00   \n",
       "2          GA  2018-01-02 00:00:00  2018-01-02 19:05:00  2018-01-02 20:29:00   \n",
       "3          MI  2018-01-02 00:00:00  2018-01-02 18:43:00  2018-01-02 21:25:00   \n",
       "4          IN  2018-01-02 00:00:00  2018-01-02 09:11:00  2018-01-02 10:42:00   \n",
       "\n",
       "   fl_month  fl_weekday  day_num_of_flights  num_flights_24hr inbound_fl  \n",
       "0         1           1                   9                18          0  \n",
       "1         1           1                   1                 2          1  \n",
       "2         1           1                   1                 1          0  \n",
       "3         1           1                   1                 1          0  \n",
       "4         1           1                   9                14          0  \n",
       "\n",
       "[5 rows x 46 columns]"
      ]
     },
     "execution_count": 3,
     "metadata": {},
     "output_type": "execute_result"
    }
   ],
   "source": [
    "df.head()"
   ]
  },
  {
   "cell_type": "code",
   "execution_count": 4,
   "metadata": {},
   "outputs": [
    {
     "data": {
      "text/plain": [
       "0    N\n",
       "1    N\n",
       "2    N\n",
       "3    N\n",
       "4    N\n",
       "Name: dup, dtype: object"
      ]
     },
     "execution_count": 4,
     "metadata": {},
     "output_type": "execute_result"
    }
   ],
   "source": [
    "dfcol = df['dup']\n",
    "dfcol.head()"
   ]
  },
  {
   "cell_type": "code",
   "execution_count": 5,
   "metadata": {},
   "outputs": [
    {
     "data": {
      "text/plain": [
       "array(['N'], dtype=object)"
      ]
     },
     "execution_count": 5,
     "metadata": {},
     "output_type": "execute_result"
    }
   ],
   "source": [
    "df['dup'].unique()"
   ]
  },
  {
   "cell_type": "code",
   "execution_count": 6,
   "metadata": {},
   "outputs": [
    {
     "name": "stdout",
     "output_type": "stream",
     "text": [
      "<class 'pandas.core.frame.DataFrame'>\n",
      "RangeIndex: 6923 entries, 0 to 6922\n",
      "Data columns (total 46 columns):\n",
      " #   Column               Non-Null Count  Dtype  \n",
      "---  ------               --------------  -----  \n",
      " 0   fl_date              6923 non-null   object \n",
      " 1   op_unique_carrier    6923 non-null   object \n",
      " 2   tail_num             6923 non-null   object \n",
      " 3   op_carrier_fl_num    6923 non-null   int64  \n",
      " 4   origin               6923 non-null   object \n",
      " 5   dest                 6923 non-null   object \n",
      " 6   crs_dep_time         6923 non-null   object \n",
      " 7   dep_time             6923 non-null   float64\n",
      " 8   dep_delay            6922 non-null   float64\n",
      " 9   taxi_out             6914 non-null   float64\n",
      " 10  wheels_off           6914 non-null   float64\n",
      " 11  wheels_on            6914 non-null   float64\n",
      " 12  taxi_in              6914 non-null   float64\n",
      " 13  crs_arr_time         6923 non-null   object \n",
      " 14  arr_time             6923 non-null   float64\n",
      " 15  arr_delay            6923 non-null   float64\n",
      " 16  cancelled            6923 non-null   float64\n",
      " 17  cancellation_code    0 non-null      float64\n",
      " 18  diverted             6923 non-null   float64\n",
      " 19  dup                  6923 non-null   object \n",
      " 20  crs_elapsed_time     6923 non-null   float64\n",
      " 21  actual_elapsed_time  6923 non-null   float64\n",
      " 22  air_time             6914 non-null   float64\n",
      " 23  distance             6923 non-null   float64\n",
      " 24  carrier_delay        1404 non-null   float64\n",
      " 25  weather_delay        1404 non-null   float64\n",
      " 26  nas_delay            1404 non-null   float64\n",
      " 27  security_delay       1404 non-null   float64\n",
      " 28  late_aircraft_delay  1404 non-null   float64\n",
      " 29  first_dep_time       56 non-null     float64\n",
      " 30  total_add_gtime      56 non-null     float64\n",
      " 31  longest_add_gtime    56 non-null     float64\n",
      " 32  no_name              0 non-null      float64\n",
      " 33  share_code           6923 non-null   int64  \n",
      " 34  origin_city          6923 non-null   object \n",
      " 35  origin_state         6923 non-null   object \n",
      " 36  dest_city            6923 non-null   object \n",
      " 37  dest_state           6923 non-null   object \n",
      " 38  arr_date             6923 non-null   object \n",
      " 39  dep_datetime         6923 non-null   object \n",
      " 40  arr_datetime         6923 non-null   object \n",
      " 41  fl_month             6923 non-null   int64  \n",
      " 42  fl_weekday           6923 non-null   int64  \n",
      " 43  day_num_of_flights   6923 non-null   int64  \n",
      " 44  num_flights_24hr     6923 non-null   int64  \n",
      " 45  inbound_fl           6923 non-null   int64  \n",
      "dtypes: float64(24), int64(7), object(15)\n",
      "memory usage: 2.4+ MB\n"
     ]
    }
   ],
   "source": [
    "df.info()"
   ]
  },
  {
   "cell_type": "markdown",
   "metadata": {},
   "source": [
    "#### **Task 1**: Test the hypothesis that the delay is from Normal distribution. and that **mean** of the delay is 0. Be careful about the outliers."
   ]
  },
  {
   "cell_type": "code",
   "execution_count": 7,
   "metadata": {},
   "outputs": [],
   "source": [
    "from scipy import stats\n",
    "import seaborn as sns\n",
    "from seaborn_qqplot import pplot"
   ]
  },
  {
   "cell_type": "code",
   "execution_count": 8,
   "metadata": {},
   "outputs": [],
   "source": [
    "# arr_delay\n",
    "arr_delay = df['arr_delay']"
   ]
  },
  {
   "cell_type": "code",
   "execution_count": 9,
   "metadata": {},
   "outputs": [
    {
     "data": {
      "image/png": "[encoded data removed]",
      "text/plain": [
       "<Figure size 432x288 with 1 Axes>"
      ]
     },
     "metadata": {
      "needs_background": "light"
     },
     "output_type": "display_data"
    }
   ],
   "source": [
    "# histogram plot\n",
    "plt.hist(arr_delay)\n",
    "plt.xlim(-300, 300)\n",
    "plt.show()"
   ]
  },
  {
   "cell_type": "code",
   "execution_count": 10,
   "metadata": {},
   "outputs": [
    {
     "data": {
      "text/plain": [
       "(-300.0, 300.0)"
      ]
     },
     "execution_count": 10,
     "metadata": {},
     "output_type": "execute_result"
    },
    {
     "data": {
      "image/png": "[encoded data removed]",
      "text/plain": [
       "<Figure size 432x288 with 1 Axes>"
      ]
     },
     "metadata": {
      "needs_background": "light"
     },
     "output_type": "display_data"
    }
   ],
   "source": [
    "sns.histplot(arr_delay)\n",
    "plt.xlim(-300, 300)"
   ]
  },
  {
   "cell_type": "code",
   "execution_count": 11,
   "metadata": {},
   "outputs": [
    {
     "data": {
      "image/png": "[encoded data removed]",
      "text/plain": [
       "<Figure size 432x288 with 1 Axes>"
      ]
     },
     "metadata": {
      "needs_background": "light"
     },
     "output_type": "display_data"
    }
   ],
   "source": [
    "from statsmodels.graphics.gofplots import qqplot\n",
    "# q-q plot\n",
    "qqplot(arr_delay, line='s')\n",
    "plt.show()"
   ]
  },
  {
   "cell_type": "code",
   "execution_count": 59,
   "metadata": {},
   "outputs": [
    {
     "name": "stdout",
     "output_type": "stream",
     "text": [
      "Statistics=0.504, p=0.000\n",
      "Sample does not look Gaussian (reject H0)\n"
     ]
    }
   ],
   "source": [
    "from scipy.stats import shapiro\n",
    "# normality test\n",
    "stat, p = shapiro(arr_delay)\n",
    "print('Statistics=%.3f, p=%.3f' % (stat, p))\n",
    "# interpret\n",
    "alpha = 0.05\n",
    "if p > alpha:\n",
    "    print('Sample looks Gaussian (fail to reject H0)')\n",
    "else:\n",
    "    print('Sample does not look Gaussian (reject H0)')"
   ]
  },
  {
   "cell_type": "code",
   "execution_count": 60,
   "metadata": {},
   "outputs": [
    {
     "name": "stdout",
     "output_type": "stream",
     "text": [
      "Statistics=9045.586, p=0.000\n",
      "Sample does not look Gaussian (reject H0)\n"
     ]
    }
   ],
   "source": [
    "from scipy.stats import normaltest\n",
    "# normality test\n",
    "stat, p = normaltest(arr_delay)\n",
    "print('Statistics=%.3f, p=%.3f' % (stat, p))\n",
    "# interpret\n",
    "alpha = 0.05\n",
    "if p > alpha:\n",
    "    print('Sample looks Gaussian (fail to reject H0)')\n",
    "else:\n",
    "    print('Sample does not look Gaussian (reject H0)')"
   ]
  },
  {
   "cell_type": "code",
   "execution_count": null,
   "metadata": {},
   "outputs": [],
   "source": []
  },
  {
   "cell_type": "code",
   "execution_count": null,
   "metadata": {},
   "outputs": [],
   "source": []
  },
  {
   "cell_type": "markdown",
   "metadata": {},
   "source": [
    "#### **Task 2**: Is average/median monthly delay different during the year? If yes, which are months with the biggest delays and what could be the reason?"
   ]
  },
  {
   "cell_type": "code",
   "execution_count": 31,
   "metadata": {},
   "outputs": [],
   "source": [
    "import datetime as dt\n",
    "from datetime import date\n",
    "from datetime import time"
   ]
  },
  {
   "cell_type": "code",
   "execution_count": 61,
   "metadata": {},
   "outputs": [],
   "source": [
    "df['fl_date'] = pd.to_datetime(df['fl_date'])"
   ]
  },
  {
   "cell_type": "code",
   "execution_count": 62,
   "metadata": {},
   "outputs": [
    {
     "data": {
      "text/plain": [
       "0    1\n",
       "1    1\n",
       "2    1\n",
       "3    1\n",
       "4    1\n",
       "Name: month, dtype: int64"
      ]
     },
     "execution_count": 62,
     "metadata": {},
     "output_type": "execute_result"
    }
   ],
   "source": [
    "df['month'] = df['fl_date'].dt.month\n",
    "\n",
    "df['month'].head()"
   ]
  },
  {
   "cell_type": "code",
   "execution_count": 89,
   "metadata": {},
   "outputs": [],
   "source": [
    "#monthly_count = df.groupby(['month'])['arr_delay'].count()\n",
    "monthly_count = df.groupby(['fl_month'])['arr_delay'].count()"
   ]
  },
  {
   "cell_type": "code",
   "execution_count": 90,
   "metadata": {},
   "outputs": [
    {
     "data": {
      "text/html": [
       "<div>\n",
       "<style scoped>\n",
       "    .dataframe tbody tr th:only-of-type {\n",
       "        vertical-align: middle;\n",
       "    }\n",
       "\n",
       "    .dataframe tbody tr th {\n",
       "        vertical-align: top;\n",
       "    }\n",
       "\n",
       "    .dataframe thead th {\n",
       "        text-align: right;\n",
       "    }\n",
       "</style>\n",
       "<table border=\"1\" class=\"dataframe\">\n",
       "  <thead>\n",
       "    <tr style=\"text-align: right;\">\n",
       "      <th></th>\n",
       "      <th>arr_delay</th>\n",
       "    </tr>\n",
       "    <tr>\n",
       "      <th>fl_month</th>\n",
       "      <th></th>\n",
       "    </tr>\n",
       "  </thead>\n",
       "  <tbody>\n",
       "    <tr>\n",
       "      <th>1</th>\n",
       "      <td>415</td>\n",
       "    </tr>\n",
       "    <tr>\n",
       "      <th>2</th>\n",
       "      <td>952</td>\n",
       "    </tr>\n",
       "    <tr>\n",
       "      <th>3</th>\n",
       "      <td>456</td>\n",
       "    </tr>\n",
       "    <tr>\n",
       "      <th>4</th>\n",
       "      <td>631</td>\n",
       "    </tr>\n",
       "    <tr>\n",
       "      <th>5</th>\n",
       "      <td>451</td>\n",
       "    </tr>\n",
       "    <tr>\n",
       "      <th>6</th>\n",
       "      <td>830</td>\n",
       "    </tr>\n",
       "    <tr>\n",
       "      <th>7</th>\n",
       "      <td>609</td>\n",
       "    </tr>\n",
       "    <tr>\n",
       "      <th>8</th>\n",
       "      <td>587</td>\n",
       "    </tr>\n",
       "    <tr>\n",
       "      <th>9</th>\n",
       "      <td>369</td>\n",
       "    </tr>\n",
       "    <tr>\n",
       "      <th>10</th>\n",
       "      <td>572</td>\n",
       "    </tr>\n",
       "    <tr>\n",
       "      <th>11</th>\n",
       "      <td>513</td>\n",
       "    </tr>\n",
       "    <tr>\n",
       "      <th>12</th>\n",
       "      <td>538</td>\n",
       "    </tr>\n",
       "  </tbody>\n",
       "</table>\n",
       "</div>"
      ],
      "text/plain": [
       "          arr_delay\n",
       "fl_month           \n",
       "1               415\n",
       "2               952\n",
       "3               456\n",
       "4               631\n",
       "5               451\n",
       "6               830\n",
       "7               609\n",
       "8               587\n",
       "9               369\n",
       "10              572\n",
       "11              513\n",
       "12              538"
      ]
     },
     "execution_count": 90,
     "metadata": {},
     "output_type": "execute_result"
    }
   ],
   "source": [
    "monthly_count = pd.DataFrame(monthly_count)\n",
    "monthly_count"
   ]
  },
  {
   "cell_type": "code",
   "execution_count": 91,
   "metadata": {},
   "outputs": [
    {
     "data": {
      "text/plain": [
       "<AxesSubplot:xlabel='fl_month', ylabel='arr_delay'>"
      ]
     },
     "execution_count": 91,
     "metadata": {},
     "output_type": "execute_result"
    },
    {
     "data": {
      "image/png": "[encoded data removed]",
      "text/plain": [
       "<Figure size 432x288 with 1 Axes>"
      ]
     },
     "metadata": {
      "needs_background": "light"
     },
     "output_type": "display_data"
    }
   ],
   "source": [
    "sns.barplot(x= monthly_count.index,y=monthly_count['arr_delay'])"
   ]
  },
  {
   "cell_type": "code",
   "execution_count": 66,
   "metadata": {},
   "outputs": [
    {
     "data": {
      "text/plain": [
       "<AxesSubplot:xlabel='month', ylabel='arr_delay'>"
      ]
     },
     "execution_count": 66,
     "metadata": {},
     "output_type": "execute_result"
    },
    {
     "data": {
      "image/png": "[encoded data removed]",
      "text/plain": [
       "<Figure size 432x288 with 1 Axes>"
      ]
     },
     "metadata": {
      "needs_background": "light"
     },
     "output_type": "display_data"
    }
   ],
   "source": [
    "monthly_avg = df.groupby(['month'])['arr_delay'].mean()\n",
    "sns.barplot(x=df['month'],y=df['arr_delay'])"
   ]
  },
  {
   "cell_type": "code",
   "execution_count": 67,
   "metadata": {},
   "outputs": [
    {
     "data": {
      "text/plain": [
       "month\n",
       "1      4.168675\n",
       "2      6.487395\n",
       "3     -1.848684\n",
       "4      3.519810\n",
       "5      9.798226\n",
       "6      7.055422\n",
       "7      5.505747\n",
       "8     17.235094\n",
       "9      0.216802\n",
       "10     3.643357\n",
       "11    10.076023\n",
       "12    15.486989\n",
       "Name: arr_delay, dtype: float64"
      ]
     },
     "execution_count": 67,
     "metadata": {},
     "output_type": "execute_result"
    }
   ],
   "source": [
    "monthly_avg"
   ]
  },
  {
   "cell_type": "markdown",
   "metadata": {},
   "source": [
    "#### **Task 3**: Does the weather affect the delay? \n",
    "Use the API to pull the weather information for flights. There is no need to get weather for ALL flights. We can choose the right representative sample. Let's focus on four weather types:\n",
    "- sunny\n",
    "- cloudy\n",
    "- rainy\n",
    "- snow.\n",
    "Test the hypothesis that these 4 delays are from the same distribution. If they are not, which ones are significantly different?"
   ]
  },
  {
   "cell_type": "code",
   "execution_count": null,
   "metadata": {},
   "outputs": [],
   "source": []
  },
  {
   "cell_type": "code",
   "execution_count": null,
   "metadata": {},
   "outputs": [],
   "source": []
  },
  {
   "cell_type": "markdown",
   "metadata": {},
   "source": [
    "#### **Task 4**: How taxi times changing during the day? Does higher traffic lead to bigger taxi times?"
   ]
  },
  {
   "cell_type": "code",
   "execution_count": 68,
   "metadata": {},
   "outputs": [
    {
     "data": {
      "text/plain": [
       "0       17:25:00\n",
       "1       19:30:00\n",
       "2       19:05:00\n",
       "3       18:43:00\n",
       "4       09:11:00\n",
       "          ...   \n",
       "6918    16:40:00\n",
       "6919    14:50:00\n",
       "6920    11:00:00\n",
       "6921    18:55:00\n",
       "6922    12:10:00\n",
       "Name: crs_dep_time, Length: 6923, dtype: object"
      ]
     },
     "execution_count": 68,
     "metadata": {},
     "output_type": "execute_result"
    }
   ],
   "source": [
    "df['crs_dep_time']"
   ]
  },
  {
   "cell_type": "code",
   "execution_count": 69,
   "metadata": {},
   "outputs": [
    {
     "data": {
      "text/plain": [
       "<AxesSubplot:xlabel='taxi_out', ylabel='Count'>"
      ]
     },
     "execution_count": 69,
     "metadata": {},
     "output_type": "execute_result"
    },
    {
     "data": {
      "image/png": "[encoded data removed]",
      "text/plain": [
       "<Figure size 432x288 with 1 Axes>"
      ]
     },
     "metadata": {
      "needs_background": "light"
     },
     "output_type": "display_data"
    }
   ],
   "source": [
    "task4a = df.groupby(['crs_dep_time'])['taxi_out'].count()\n",
    "sns.histplot(task4a)"
   ]
  },
  {
   "cell_type": "code",
   "execution_count": 70,
   "metadata": {},
   "outputs": [
    {
     "data": {
      "text/plain": [
       "<AxesSubplot:xlabel='crs_dep_time', ylabel='taxi_out'>"
      ]
     },
     "execution_count": 70,
     "metadata": {},
     "output_type": "execute_result"
    },
    {
     "data": {
      "image/png": "[encoded data removed]",
      "text/plain": [
       "<Figure size 432x288 with 1 Axes>"
      ]
     },
     "metadata": {
      "needs_background": "light"
     },
     "output_type": "display_data"
    }
   ],
   "source": [
    "task4a_count = pd.DataFrame(task4a)\n",
    "sns.barplot(x=task4a_count.index,y=task4a_count['taxi_out'])"
   ]
  },
  {
   "cell_type": "code",
   "execution_count": 71,
   "metadata": {},
   "outputs": [
    {
     "data": {
      "text/plain": [
       "<AxesSubplot:xlabel='arr_time', ylabel='taxi_in'>"
      ]
     },
     "execution_count": 71,
     "metadata": {},
     "output_type": "execute_result"
    },
    {
     "data": {
      "image/png": "[encoded data removed]",
      "text/plain": [
       "<Figure size 432x288 with 1 Axes>"
      ]
     },
     "metadata": {
      "needs_background": "light"
     },
     "output_type": "display_data"
    }
   ],
   "source": [
    "task4b = df.groupby(['arr_time'])['taxi_in'].count()\n",
    "sns.histplot(task4b)\n",
    "\n",
    "task4b_count = pd.DataFrame(task4b)\n",
    "sns.barplot(x=task4b_count.index,y=task4b_count['taxi_in'])"
   ]
  },
  {
   "cell_type": "code",
   "execution_count": 72,
   "metadata": {},
   "outputs": [
    {
     "data": {
      "text/plain": [
       "<AxesSubplot:xlabel='arr_time', ylabel='taxi_in'>"
      ]
     },
     "execution_count": 72,
     "metadata": {},
     "output_type": "execute_result"
    },
    {
     "data": {
      "image/png": "[encoded data removed]",
      "text/plain": [
       "<Figure size 432x288 with 1 Axes>"
      ]
     },
     "metadata": {
      "needs_background": "light"
     },
     "output_type": "display_data"
    }
   ],
   "source": [
    "sns.barplot(x=df['arr_time'],y=df['taxi_in'], ci=None)"
   ]
  },
  {
   "cell_type": "code",
   "execution_count": 73,
   "metadata": {},
   "outputs": [
    {
     "data": {
      "text/plain": [
       "<AxesSubplot:xlabel='dep_time', ylabel='taxi_out'>"
      ]
     },
     "execution_count": 73,
     "metadata": {},
     "output_type": "execute_result"
    },
    {
     "data": {
      "image/png": "[encoded data removed]",
      "text/plain": [
       "<Figure size 432x288 with 1 Axes>"
      ]
     },
     "metadata": {
      "needs_background": "light"
     },
     "output_type": "display_data"
    }
   ],
   "source": [
    "sns.barplot(x=df['dep_time'],y=df['taxi_out'], ci=None)"
   ]
  },
  {
   "cell_type": "code",
   "execution_count": null,
   "metadata": {},
   "outputs": [],
   "source": []
  },
  {
   "cell_type": "markdown",
   "metadata": {},
   "source": [
    "#### **Task 5**: What is the average percentage of delays that is already created before departure? (aka are arrival delays caused by departure delays?) Are airlines able to lower the delay during the flights?"
   ]
  },
  {
   "cell_type": "code",
   "execution_count": 74,
   "metadata": {},
   "outputs": [
    {
     "data": {
      "text/plain": [
       "6778"
      ]
     },
     "execution_count": 74,
     "metadata": {},
     "output_type": "execute_result"
    }
   ],
   "source": [
    "df[df['arr_delay']!=0]['arr_delay'].count()"
   ]
  },
  {
   "cell_type": "code",
   "execution_count": 75,
   "metadata": {},
   "outputs": [],
   "source": [
    "adelay_count = df[df['arr_delay']!=0]['arr_delay'].count()"
   ]
  },
  {
   "cell_type": "code",
   "execution_count": 76,
   "metadata": {},
   "outputs": [
    {
     "name": "stdout",
     "output_type": "stream",
     "text": [
      "2256\n",
      "0.3328415461788138\n"
     ]
    }
   ],
   "source": [
    "#avg count\n",
    "col_5 = [\n",
    "    'carrier_delay',\n",
    "    'weather_delay',\n",
    "    'nas_delay',\n",
    "    'security_delay',\n",
    "    'late_aircraft_delay'\n",
    "]\n",
    "task5_count = 0\n",
    "for i in df[col_5]:\n",
    "    task5_count += (df[df[i]>0]['arr_delay'].count())\n",
    "print(task5_count)\n",
    "\n",
    "\n",
    "print(task5_count/adelay_count)"
   ]
  },
  {
   "cell_type": "code",
   "execution_count": 77,
   "metadata": {},
   "outputs": [
    {
     "data": {
      "text/plain": [
       "0.5145985401459854"
      ]
     },
     "execution_count": 77,
     "metadata": {},
     "output_type": "execute_result"
    }
   ],
   "source": [
    "dep_delay_count = df[df['dep_delay']==1]['dep_delay'].count()\n",
    "arr_delay_count = df[df['arr_delay']==1]['arr_delay'].count()\n",
    "delay_ratio = dep_delay_count/(dep_delay_count+arr_delay_count)\n",
    "delay_ratio"
   ]
  },
  {
   "cell_type": "code",
   "execution_count": null,
   "metadata": {},
   "outputs": [],
   "source": []
  },
  {
   "cell_type": "code",
   "execution_count": null,
   "metadata": {},
   "outputs": [],
   "source": []
  },
  {
   "cell_type": "markdown",
   "metadata": {},
   "source": [
    "#### **Task 6**: How many states cover 50% of US air traffic? "
   ]
  },
  {
   "cell_type": "code",
   "execution_count": 136,
   "metadata": {},
   "outputs": [],
   "source": [
    "#df['origin_city'].unique()\n"
   ]
  },
  {
   "cell_type": "code",
   "execution_count": 137,
   "metadata": {},
   "outputs": [],
   "source": [
    "half = int(len(df)/2)"
   ]
  },
  {
   "cell_type": "code",
   "execution_count": 138,
   "metadata": {},
   "outputs": [],
   "source": [
    "df_half = df[:half]"
   ]
  },
  {
   "cell_type": "code",
   "execution_count": 139,
   "metadata": {},
   "outputs": [
    {
     "name": "stdout",
     "output_type": "stream",
     "text": [
      "[' GA' ' VA' ' NC' ' TN' ' IN' ' UT' ' FL' ' MN' ' CA' ' OR' ' MI' ' OK'\n",
      " ' SC' ' WA' ' NE' ' IL' ' HI' ' CO' ' TX' ' RI' ' NV' ' SD' ' MO' ' OH'\n",
      " ' AZ' ' KY' ' WI' ' ND' ' NM' ' ID' ' AR' ' NY' ' PA' ' VT' ' ME' ' MA'\n",
      " ' NJ' ' DC' ' MT' ' WY' ' AL' ' LA' ' MD' ' CT' ' AK' ' KS' ' IA' ' WV'\n",
      " ' NH' ' TT' ' MS' ' PR' ' VI']\n"
     ]
    }
   ],
   "source": [
    "print(df_half['origin_state'].unique())"
   ]
  },
  {
   "cell_type": "code",
   "execution_count": 149,
   "metadata": {},
   "outputs": [
    {
     "data": {
      "text/plain": [
       "origin_state\n",
       " CA    327\n",
       " IL    267\n",
       " TX    251\n",
       " FL    244\n",
       " NY    235\n",
       " NC    165\n",
       " GA    144\n",
       " WA    131\n",
       " CO    122\n",
       " DC    119\n",
       " PA    105\n",
       " NV    104\n",
       " AZ     98\n",
       " MI     96\n",
       " OH     91\n",
       " HI     79\n",
       " MN     70\n",
       " MA     66\n",
       " NJ     53\n",
       " TN     51\n",
       " OR     49\n",
       " UT     48\n",
       " MD     47\n",
       " MO     41\n",
       " IN     40\n",
       " VA     40\n",
       " SC     38\n",
       " LA     32\n",
       " NM     30\n",
       " WI     28\n",
       " CT     24\n",
       " AL     23\n",
       " ID     20\n",
       " KY     19\n",
       " PR     17\n",
       " IA     16\n",
       " OK     15\n",
       " MT     14\n",
       " ND     13\n",
       " ME     13\n",
       " NE     13\n",
       " AR     12\n",
       " VT      8\n",
       " RI      7\n",
       " KS      6\n",
       " SD      6\n",
       " WY      5\n",
       " MS      5\n",
       " WV      5\n",
       " TT      3\n",
       " NH      2\n",
       " VI      2\n",
       " AK      2\n",
       "Name: origin_state, dtype: int64"
      ]
     },
     "execution_count": 149,
     "metadata": {},
     "output_type": "execute_result"
    }
   ],
   "source": [
    "#df_half = df_half.groupby(['origin_state'])['origin_state'].count()\n",
    "df_half.groupby(['origin_state']).sum().sort_values(ascending=False)"
   ]
  },
  {
   "cell_type": "code",
   "execution_count": null,
   "metadata": {},
   "outputs": [],
   "source": []
  },
  {
   "cell_type": "code",
   "execution_count": null,
   "metadata": {},
   "outputs": [],
   "source": []
  },
  {
   "cell_type": "code",
   "execution_count": null,
   "metadata": {},
   "outputs": [],
   "source": []
  },
  {
   "cell_type": "code",
   "execution_count": null,
   "metadata": {},
   "outputs": [],
   "source": []
  },
  {
   "cell_type": "code",
   "execution_count": null,
   "metadata": {},
   "outputs": [],
   "source": []
  },
  {
   "cell_type": "markdown",
   "metadata": {},
   "source": [
    "#### **Task 7**: Test the hypothesis whether planes fly faster when there is the departure delay? "
   ]
  },
  {
   "cell_type": "code",
   "execution_count": 78,
   "metadata": {},
   "outputs": [],
   "source": [
    "df['avg_velocity'] = df['distance']/df['air_time']*60\n",
    "for i in col_5:\n",
    "    df['dep_del'] = np.where(df[i]>0,1,0)"
   ]
  },
  {
   "cell_type": "code",
   "execution_count": 79,
   "metadata": {},
   "outputs": [
    {
     "data": {
      "text/plain": [
       "count    6922.000000\n",
       "mean       11.527449\n",
       "std        49.151111\n",
       "min       -22.000000\n",
       "25%        -6.000000\n",
       "50%        -2.000000\n",
       "75%         8.000000\n",
       "max       944.000000\n",
       "Name: dep_delay, dtype: float64"
      ]
     },
     "execution_count": 79,
     "metadata": {},
     "output_type": "execute_result"
    }
   ],
   "source": [
    "df['dep_delay'].describe()"
   ]
  },
  {
   "cell_type": "code",
   "execution_count": 80,
   "metadata": {},
   "outputs": [],
   "source": [
    "delay_speed = df[df['dep_del']==1]['avg_velocity']\n",
    "no_delay_speed = df[df['dep_del']==0]['avg_velocity']"
   ]
  },
  {
   "cell_type": "code",
   "execution_count": 81,
   "metadata": {},
   "outputs": [
    {
     "data": {
      "text/plain": [
       "F_onewayResult(statistic=nan, pvalue=nan)"
      ]
     },
     "execution_count": 81,
     "metadata": {},
     "output_type": "execute_result"
    }
   ],
   "source": [
    "stats.f_oneway(delay_speed,no_delay_speed)"
   ]
  },
  {
   "cell_type": "code",
   "execution_count": 82,
   "metadata": {},
   "outputs": [
    {
     "data": {
      "text/plain": [
       "KruskalResult(statistic=nan, pvalue=nan)"
      ]
     },
     "execution_count": 82,
     "metadata": {},
     "output_type": "execute_result"
    }
   ],
   "source": [
    "stats.kruskal(delay_speed,no_delay_speed)"
   ]
  },
  {
   "cell_type": "code",
   "execution_count": 83,
   "metadata": {},
   "outputs": [],
   "source": [
    "df['delay'] = np.where(df['arr_delay']>0, 1, 0)\n",
    "delay_speed2 = df[df['dep_del']==1]['avg_velocity']\n",
    "no_delay_speed2 = df[df['dep_del']==0]['avg_velocity']"
   ]
  },
  {
   "cell_type": "code",
   "execution_count": 84,
   "metadata": {},
   "outputs": [
    {
     "data": {
      "text/plain": [
       "count    6923.000000\n",
       "mean        0.368771\n",
       "std         0.482506\n",
       "min         0.000000\n",
       "25%         0.000000\n",
       "50%         0.000000\n",
       "75%         1.000000\n",
       "max         1.000000\n",
       "Name: delay, dtype: float64"
      ]
     },
     "execution_count": 84,
     "metadata": {},
     "output_type": "execute_result"
    }
   ],
   "source": [
    "df['delay'].describe()"
   ]
  },
  {
   "cell_type": "code",
   "execution_count": 85,
   "metadata": {},
   "outputs": [
    {
     "data": {
      "text/plain": [
       "F_onewayResult(statistic=nan, pvalue=nan)"
      ]
     },
     "execution_count": 85,
     "metadata": {},
     "output_type": "execute_result"
    }
   ],
   "source": [
    "stats.f_oneway(delay_speed2,no_delay_speed2)"
   ]
  },
  {
   "cell_type": "code",
   "execution_count": 86,
   "metadata": {},
   "outputs": [
    {
     "data": {
      "text/plain": [
       "<AxesSubplot:xlabel='avg_velocity', ylabel='Count'>"
      ]
     },
     "execution_count": 86,
     "metadata": {},
     "output_type": "execute_result"
    },
    {
     "data": {
      "image/png": "[encoded data removed]",
      "text/plain": [
       "<Figure size 432x288 with 1 Axes>"
      ]
     },
     "metadata": {
      "needs_background": "light"
     },
     "output_type": "display_data"
    }
   ],
   "source": [
    "sns.histplot(delay_speed2)"
   ]
  },
  {
   "cell_type": "code",
   "execution_count": 87,
   "metadata": {},
   "outputs": [
    {
     "data": {
      "text/plain": [
       "<AxesSubplot:xlabel='avg_velocity', ylabel='Count'>"
      ]
     },
     "execution_count": 87,
     "metadata": {},
     "output_type": "execute_result"
    },
    {
     "data": {
      "image/png": "[encoded data removed]",
      "text/plain": [
       "<Figure size 432x288 with 1 Axes>"
      ]
     },
     "metadata": {
      "needs_background": "light"
     },
     "output_type": "display_data"
    }
   ],
   "source": [
    "sns.histplot(no_delay_speed2)"
   ]
  },
  {
   "cell_type": "raw",
   "metadata": {},
   "source": [
    "#using dep_delay\n",
    "df['dep_del']=np.where(df[df['dep_delay']>0],1,0)\n",
    "delay_speed2 = df[df['dep_del']==1]['avg_velocity']\n",
    "no_delay_speed2 = df[df['dep_del']==0]['avg_velocity']"
   ]
  },
  {
   "cell_type": "code",
   "execution_count": 150,
   "metadata": {},
   "outputs": [
    {
     "data": {
      "text/html": [
       "<div>\n",
       "<style scoped>\n",
       "    .dataframe tbody tr th:only-of-type {\n",
       "        vertical-align: middle;\n",
       "    }\n",
       "\n",
       "    .dataframe tbody tr th {\n",
       "        vertical-align: top;\n",
       "    }\n",
       "\n",
       "    .dataframe thead th {\n",
       "        text-align: right;\n",
       "    }\n",
       "</style>\n",
       "<table border=\"1\" class=\"dataframe\">\n",
       "  <thead>\n",
       "    <tr style=\"text-align: right;\">\n",
       "      <th></th>\n",
       "      <th>actual_elapsed_time</th>\n",
       "      <th>air_time</th>\n",
       "    </tr>\n",
       "  </thead>\n",
       "  <tbody>\n",
       "    <tr>\n",
       "      <th>0</th>\n",
       "      <td>76.0</td>\n",
       "      <td>61.0</td>\n",
       "    </tr>\n",
       "    <tr>\n",
       "      <th>1</th>\n",
       "      <td>113.0</td>\n",
       "      <td>78.0</td>\n",
       "    </tr>\n",
       "    <tr>\n",
       "      <th>2</th>\n",
       "      <td>77.0</td>\n",
       "      <td>45.0</td>\n",
       "    </tr>\n",
       "    <tr>\n",
       "      <th>3</th>\n",
       "      <td>86.0</td>\n",
       "      <td>66.0</td>\n",
       "    </tr>\n",
       "    <tr>\n",
       "      <th>4</th>\n",
       "      <td>85.0</td>\n",
       "      <td>65.0</td>\n",
       "    </tr>\n",
       "    <tr>\n",
       "      <th>...</th>\n",
       "      <td>...</td>\n",
       "      <td>...</td>\n",
       "    </tr>\n",
       "    <tr>\n",
       "      <th>6918</th>\n",
       "      <td>112.0</td>\n",
       "      <td>89.0</td>\n",
       "    </tr>\n",
       "    <tr>\n",
       "      <th>6919</th>\n",
       "      <td>108.0</td>\n",
       "      <td>88.0</td>\n",
       "    </tr>\n",
       "    <tr>\n",
       "      <th>6920</th>\n",
       "      <td>102.0</td>\n",
       "      <td>89.0</td>\n",
       "    </tr>\n",
       "    <tr>\n",
       "      <th>6921</th>\n",
       "      <td>106.0</td>\n",
       "      <td>91.0</td>\n",
       "    </tr>\n",
       "    <tr>\n",
       "      <th>6922</th>\n",
       "      <td>149.0</td>\n",
       "      <td>132.0</td>\n",
       "    </tr>\n",
       "  </tbody>\n",
       "</table>\n",
       "<p>6923 rows × 2 columns</p>\n",
       "</div>"
      ],
      "text/plain": [
       "      actual_elapsed_time  air_time\n",
       "0                    76.0      61.0\n",
       "1                   113.0      78.0\n",
       "2                    77.0      45.0\n",
       "3                    86.0      66.0\n",
       "4                    85.0      65.0\n",
       "...                   ...       ...\n",
       "6918                112.0      89.0\n",
       "6919                108.0      88.0\n",
       "6920                102.0      89.0\n",
       "6921                106.0      91.0\n",
       "6922                149.0     132.0\n",
       "\n",
       "[6923 rows x 2 columns]"
      ]
     },
     "execution_count": 150,
     "metadata": {},
     "output_type": "execute_result"
    }
   ],
   "source": [
    "df[['actual_elapsed_time','air_time']]"
   ]
  },
  {
   "cell_type": "code",
   "execution_count": 151,
   "metadata": {},
   "outputs": [
    {
     "data": {
      "text/plain": [
       "count    6914.000000\n",
       "mean       25.381255\n",
       "std        12.342390\n",
       "min         3.000000\n",
       "25%        18.000000\n",
       "50%        22.000000\n",
       "75%        30.000000\n",
       "max       160.000000\n",
       "Name: e_time_diff, dtype: float64"
      ]
     },
     "execution_count": 151,
     "metadata": {},
     "output_type": "execute_result"
    }
   ],
   "source": [
    "df['e_time_diff'] = df['actual_elapsed_time']-df['air_time']\n",
    "df['e_time_diff'].describe()"
   ]
  },
  {
   "cell_type": "code",
   "execution_count": null,
   "metadata": {},
   "outputs": [],
   "source": []
  },
  {
   "cell_type": "code",
   "execution_count": null,
   "metadata": {},
   "outputs": [],
   "source": []
  },
  {
   "cell_type": "code",
   "execution_count": null,
   "metadata": {},
   "outputs": [],
   "source": []
  },
  {
   "cell_type": "markdown",
   "metadata": {},
   "source": [
    "#### **Task 8**: When (which hour) do most 'LONG', 'SHORT', 'MEDIUM' haul flights take off?"
   ]
  },
  {
   "cell_type": "code",
   "execution_count": 152,
   "metadata": {},
   "outputs": [
    {
     "data": {
      "text/plain": [
       "0       1.016667\n",
       "1       1.300000\n",
       "2       0.750000\n",
       "3       1.100000\n",
       "4       1.083333\n",
       "          ...   \n",
       "6918    1.483333\n",
       "6919    1.466667\n",
       "6920    1.483333\n",
       "6921    1.516667\n",
       "6922    2.200000\n",
       "Name: air_time_hr, Length: 6923, dtype: float64"
      ]
     },
     "execution_count": 152,
     "metadata": {},
     "output_type": "execute_result"
    }
   ],
   "source": [
    "# > 6 = long, 3-6 medium, < 3 short\n",
    "\n",
    "df['air_time_hr'] = df['air_time']/60\n",
    "df['air_time_hr']"
   ]
  },
  {
   "cell_type": "code",
   "execution_count": 153,
   "metadata": {},
   "outputs": [],
   "source": [
    "bins = [0,3,6,np.inf]\n",
    "names = ['short','medium','long']\n",
    "df['air_time_bin'] = pd.cut(df['air_time_hr'],bins,labels=names)"
   ]
  },
  {
   "cell_type": "code",
   "execution_count": 154,
   "metadata": {},
   "outputs": [
    {
     "data": {
      "text/plain": [
       "0       short\n",
       "1       short\n",
       "2       short\n",
       "3       short\n",
       "4       short\n",
       "        ...  \n",
       "6918    short\n",
       "6919    short\n",
       "6920    short\n",
       "6921    short\n",
       "6922    short\n",
       "Name: air_time_bin, Length: 6923, dtype: category\n",
       "Categories (3, object): [short < medium < long]"
      ]
     },
     "execution_count": 154,
     "metadata": {},
     "output_type": "execute_result"
    }
   ],
   "source": [
    "df['air_time_bin']"
   ]
  },
  {
   "cell_type": "code",
   "execution_count": 155,
   "metadata": {},
   "outputs": [
    {
     "data": {
      "text/plain": [
       "[short, medium, long, NaN]\n",
       "Categories (3, object): [short < medium < long]"
      ]
     },
     "execution_count": 155,
     "metadata": {},
     "output_type": "execute_result"
    }
   ],
   "source": [
    "df['air_time_bin'].unique()"
   ]
  },
  {
   "cell_type": "code",
   "execution_count": 156,
   "metadata": {},
   "outputs": [
    {
     "data": {
      "text/plain": [
       "<AxesSubplot:xlabel='dep_time', ylabel='air_time_hr'>"
      ]
     },
     "execution_count": 156,
     "metadata": {},
     "output_type": "execute_result"
    },
    {
     "data": {
      "image/png": "[encoded data removed]",
      "text/plain": [
       "<Figure size 432x288 with 1 Axes>"
      ]
     },
     "metadata": {
      "needs_background": "light"
     },
     "output_type": "display_data"
    }
   ],
   "source": [
    "sns.lineplot(y=df['air_time_hr'],x=df['dep_time'],hue=df['air_time_bin'])"
   ]
  },
  {
   "cell_type": "code",
   "execution_count": null,
   "metadata": {},
   "outputs": [],
   "source": []
  },
  {
   "cell_type": "code",
   "execution_count": null,
   "metadata": {},
   "outputs": [],
   "source": []
  },
  {
   "cell_type": "markdown",
   "metadata": {},
   "source": [
    "#### **Task 9**: Find the top 10 the bussiest airports. Does the biggest number of flights mean that the biggest number of passengers went through the particular airport? How much traffic do these 10 airports cover?"
   ]
  },
  {
   "cell_type": "code",
   "execution_count": 174,
   "metadata": {},
   "outputs": [
    {
     "data": {
      "text/html": [
       "<div>\n",
       "<style scoped>\n",
       "    .dataframe tbody tr th:only-of-type {\n",
       "        vertical-align: middle;\n",
       "    }\n",
       "\n",
       "    .dataframe tbody tr th {\n",
       "        vertical-align: top;\n",
       "    }\n",
       "\n",
       "    .dataframe thead th {\n",
       "        text-align: right;\n",
       "    }\n",
       "</style>\n",
       "<table border=\"1\" class=\"dataframe\">\n",
       "  <thead>\n",
       "    <tr style=\"text-align: right;\">\n",
       "      <th></th>\n",
       "      <th>Unnamed: 0</th>\n",
       "      <th>departures_scheduled</th>\n",
       "      <th>departures_performed</th>\n",
       "      <th>payload</th>\n",
       "      <th>seats</th>\n",
       "      <th>passengers</th>\n",
       "      <th>freight</th>\n",
       "      <th>mail</th>\n",
       "      <th>distance</th>\n",
       "      <th>ramp_to_ramp</th>\n",
       "      <th>...</th>\n",
       "      <th>dest_country</th>\n",
       "      <th>dest_country_name</th>\n",
       "      <th>aircraft_group</th>\n",
       "      <th>aircraft_type</th>\n",
       "      <th>aircraft_config</th>\n",
       "      <th>year</th>\n",
       "      <th>month</th>\n",
       "      <th>distance_group</th>\n",
       "      <th>class</th>\n",
       "      <th>data_source</th>\n",
       "    </tr>\n",
       "  </thead>\n",
       "  <tbody>\n",
       "    <tr>\n",
       "      <th>0</th>\n",
       "      <td>0</td>\n",
       "      <td>0.0</td>\n",
       "      <td>20.0</td>\n",
       "      <td>276001.0</td>\n",
       "      <td>1000.0</td>\n",
       "      <td>936.0</td>\n",
       "      <td>0.0</td>\n",
       "      <td>0.0</td>\n",
       "      <td>254.0</td>\n",
       "      <td>0.0</td>\n",
       "      <td>...</td>\n",
       "      <td>US</td>\n",
       "      <td>United States</td>\n",
       "      <td>4</td>\n",
       "      <td>484</td>\n",
       "      <td>1</td>\n",
       "      <td>2019</td>\n",
       "      <td>6</td>\n",
       "      <td>1</td>\n",
       "      <td>F</td>\n",
       "      <td>IF</td>\n",
       "    </tr>\n",
       "    <tr>\n",
       "      <th>1</th>\n",
       "      <td>1</td>\n",
       "      <td>0.0</td>\n",
       "      <td>27.0</td>\n",
       "      <td>405000.0</td>\n",
       "      <td>1350.0</td>\n",
       "      <td>1281.0</td>\n",
       "      <td>0.0</td>\n",
       "      <td>0.0</td>\n",
       "      <td>254.0</td>\n",
       "      <td>0.0</td>\n",
       "      <td>...</td>\n",
       "      <td>US</td>\n",
       "      <td>United States</td>\n",
       "      <td>6</td>\n",
       "      <td>629</td>\n",
       "      <td>1</td>\n",
       "      <td>2019</td>\n",
       "      <td>6</td>\n",
       "      <td>1</td>\n",
       "      <td>F</td>\n",
       "      <td>IF</td>\n",
       "    </tr>\n",
       "    <tr>\n",
       "      <th>2</th>\n",
       "      <td>2</td>\n",
       "      <td>0.0</td>\n",
       "      <td>15.0</td>\n",
       "      <td>341251.0</td>\n",
       "      <td>1140.0</td>\n",
       "      <td>974.0</td>\n",
       "      <td>0.0</td>\n",
       "      <td>0.0</td>\n",
       "      <td>254.0</td>\n",
       "      <td>0.0</td>\n",
       "      <td>...</td>\n",
       "      <td>US</td>\n",
       "      <td>United States</td>\n",
       "      <td>6</td>\n",
       "      <td>638</td>\n",
       "      <td>1</td>\n",
       "      <td>2019</td>\n",
       "      <td>6</td>\n",
       "      <td>1</td>\n",
       "      <td>F</td>\n",
       "      <td>IF</td>\n",
       "    </tr>\n",
       "    <tr>\n",
       "      <th>3</th>\n",
       "      <td>3</td>\n",
       "      <td>0.0</td>\n",
       "      <td>56.0</td>\n",
       "      <td>840000.0</td>\n",
       "      <td>2800.0</td>\n",
       "      <td>2147.0</td>\n",
       "      <td>0.0</td>\n",
       "      <td>0.0</td>\n",
       "      <td>460.0</td>\n",
       "      <td>0.0</td>\n",
       "      <td>...</td>\n",
       "      <td>US</td>\n",
       "      <td>United States</td>\n",
       "      <td>6</td>\n",
       "      <td>629</td>\n",
       "      <td>1</td>\n",
       "      <td>2019</td>\n",
       "      <td>6</td>\n",
       "      <td>1</td>\n",
       "      <td>F</td>\n",
       "      <td>IF</td>\n",
       "    </tr>\n",
       "    <tr>\n",
       "      <th>4</th>\n",
       "      <td>4</td>\n",
       "      <td>0.0</td>\n",
       "      <td>55.0</td>\n",
       "      <td>825000.0</td>\n",
       "      <td>2750.0</td>\n",
       "      <td>2384.0</td>\n",
       "      <td>0.0</td>\n",
       "      <td>0.0</td>\n",
       "      <td>487.0</td>\n",
       "      <td>0.0</td>\n",
       "      <td>...</td>\n",
       "      <td>US</td>\n",
       "      <td>United States</td>\n",
       "      <td>6</td>\n",
       "      <td>629</td>\n",
       "      <td>1</td>\n",
       "      <td>2019</td>\n",
       "      <td>6</td>\n",
       "      <td>1</td>\n",
       "      <td>F</td>\n",
       "      <td>IF</td>\n",
       "    </tr>\n",
       "  </tbody>\n",
       "</table>\n",
       "<p>5 rows × 39 columns</p>\n",
       "</div>"
      ],
      "text/plain": [
       "   Unnamed: 0  departures_scheduled  departures_performed   payload   seats  \\\n",
       "0           0                   0.0                  20.0  276001.0  1000.0   \n",
       "1           1                   0.0                  27.0  405000.0  1350.0   \n",
       "2           2                   0.0                  15.0  341251.0  1140.0   \n",
       "3           3                   0.0                  56.0  840000.0  2800.0   \n",
       "4           4                   0.0                  55.0  825000.0  2750.0   \n",
       "\n",
       "   passengers  freight  mail  distance  ramp_to_ramp  ...  dest_country  \\\n",
       "0       936.0      0.0   0.0     254.0           0.0  ...            US   \n",
       "1      1281.0      0.0   0.0     254.0           0.0  ...            US   \n",
       "2       974.0      0.0   0.0     254.0           0.0  ...            US   \n",
       "3      2147.0      0.0   0.0     460.0           0.0  ...            US   \n",
       "4      2384.0      0.0   0.0     487.0           0.0  ...            US   \n",
       "\n",
       "  dest_country_name  aircraft_group aircraft_type aircraft_config  year month  \\\n",
       "0     United States               4           484               1  2019     6   \n",
       "1     United States               6           629               1  2019     6   \n",
       "2     United States               6           638               1  2019     6   \n",
       "3     United States               6           629               1  2019     6   \n",
       "4     United States               6           629               1  2019     6   \n",
       "\n",
       "   distance_group  class  data_source  \n",
       "0               1      F           IF  \n",
       "1               1      F           IF  \n",
       "2               1      F           IF  \n",
       "3               1      F           IF  \n",
       "4               1      F           IF  \n",
       "\n",
       "[5 rows x 39 columns]"
      ]
     },
     "execution_count": 174,
     "metadata": {},
     "output_type": "execute_result"
    }
   ],
   "source": [
    "# upload datasets\n",
    "passengers = pd.read_csv('data/passengers_raw.csv')\n",
    "passengers.head()"
   ]
  },
  {
   "cell_type": "code",
   "execution_count": 167,
   "metadata": {},
   "outputs": [
    {
     "data": {
      "text/plain": [
       "225     8\n",
       "131     8\n",
       "677     8\n",
       "687     8\n",
       "2034    7\n",
       "       ..\n",
       "3048    1\n",
       "1001    1\n",
       "1005    1\n",
       "1013    1\n",
       "4080    1\n",
       "Name: op_carrier_fl_num, Length: 3684, dtype: int64"
      ]
     },
     "execution_count": 167,
     "metadata": {},
     "output_type": "execute_result"
    }
   ],
   "source": [
    "Task9 = df['op_carrier_fl_num'].value_counts()\n",
    "Task9"
   ]
  },
  {
   "cell_type": "code",
   "execution_count": 173,
   "metadata": {},
   "outputs": [
    {
     "data": {
      "text/plain": [
       "op_unique_carrier\n",
       "WN    1189\n",
       "AA     785\n",
       "DL     780\n",
       "OO     635\n",
       "UA     475\n",
       "B6     425\n",
       "MQ     289\n",
       "YX     286\n",
       "OH     260\n",
       "9E     221\n",
       "Name: op_carrier_fl_num, dtype: int64"
      ]
     },
     "execution_count": 173,
     "metadata": {},
     "output_type": "execute_result"
    }
   ],
   "source": [
    "#Find the top 10 the bussiest airlines\n",
    "df9 = df.groupby(['op_unique_carrier'])['op_carrier_fl_num'].count().sort_values(ascending=False).head(10)\n",
    "df9"
   ]
  },
  {
   "cell_type": "code",
   "execution_count": 176,
   "metadata": {},
   "outputs": [
    {
     "data": {
      "text/plain": [
       "origin\n",
       "ORD    314\n",
       "ATL    295\n",
       "CLT    255\n",
       "LAX    210\n",
       "DFW    202\n",
       "SEA    194\n",
       "DEN    192\n",
       "DCA    186\n",
       "LGA    175\n",
       "PHX    168\n",
       "Name: op_carrier_fl_num, dtype: int64"
      ]
     },
     "execution_count": 176,
     "metadata": {},
     "output_type": "execute_result"
    }
   ],
   "source": [
    "#Find the top 10 the bussiest origin airports\n",
    "df9b = df.groupby(['origin'])['op_carrier_fl_num'].count().sort_values(ascending=False).head(10)\n",
    "df9b"
   ]
  },
  {
   "cell_type": "code",
   "execution_count": 180,
   "metadata": {},
   "outputs": [
    {
     "data": {
      "image/png": "[encoded data removed]",
      "text/plain": [
       "<Figure size 720x504 with 1 Axes>"
      ]
     },
     "metadata": {
      "needs_background": "light"
     },
     "output_type": "display_data"
    }
   ],
   "source": [
    "#_____________________________________________\n",
    "# Function that define how delays are grouped\n",
    "delay_type = lambda x:((0,1)[x > 5],2)[x > 45]\n",
    "df['DELAY_LEVEL'] = df['arr_delay'].apply(delay_type)\n",
    "#____________________________________________________\n",
    "fig = plt.figure(1, figsize=(10,7))\n",
    "ax = sns.countplot(y=\"op_unique_carrier\", hue='DELAY_LEVEL', data=df)\n",
    "#____________________________________________________________________________________\n",
    "# We replace the abbreviations by the full names of the companies and set the labels\n",
    "labels = [item.get_text() for item in ax.get_yticklabels()]\n",
    "ax.set_yticklabels(labels)\n",
    "plt.setp(ax.get_xticklabels(), fontsize=12, weight = 'normal', rotation = 0);\n",
    "plt.setp(ax.get_yticklabels(), fontsize=12, weight = 'bold', rotation = 0);\n",
    "ax.yaxis.label.set_visible(False)\n",
    "plt.xlabel('Flight count', fontsize=16, weight = 'bold', labelpad=10)\n",
    "#________________\n",
    "# Set the legend\n",
    "L = plt.legend()\n",
    "L.get_texts()[0].set_text('on time (t < 5 min)')\n",
    "L.get_texts()[1].set_text('small delay (5 < t < 45 min)')\n",
    "L.get_texts()[2].set_text('large delay (t > 45 min)')\n",
    "plt.show()"
   ]
  },
  {
   "cell_type": "code",
   "execution_count": 202,
   "metadata": {},
   "outputs": [
    {
     "data": {
      "text/html": [
       "<div>\n",
       "<style scoped>\n",
       "    .dataframe tbody tr th:only-of-type {\n",
       "        vertical-align: middle;\n",
       "    }\n",
       "\n",
       "    .dataframe tbody tr th {\n",
       "        vertical-align: top;\n",
       "    }\n",
       "\n",
       "    .dataframe thead th {\n",
       "        text-align: right;\n",
       "    }\n",
       "</style>\n",
       "<table border=\"1\" class=\"dataframe\">\n",
       "  <thead>\n",
       "    <tr style=\"text-align: right;\">\n",
       "      <th></th>\n",
       "      <th>min</th>\n",
       "      <th>max</th>\n",
       "      <th>count</th>\n",
       "      <th>mean</th>\n",
       "    </tr>\n",
       "    <tr>\n",
       "      <th>op_unique_carrier</th>\n",
       "      <th></th>\n",
       "      <th></th>\n",
       "      <th></th>\n",
       "      <th></th>\n",
       "    </tr>\n",
       "  </thead>\n",
       "  <tbody>\n",
       "    <tr>\n",
       "      <th>WN</th>\n",
       "      <td>-43.0</td>\n",
       "      <td>324.0</td>\n",
       "      <td>1189.0</td>\n",
       "      <td>5.377628</td>\n",
       "    </tr>\n",
       "    <tr>\n",
       "      <th>AA</th>\n",
       "      <td>-45.0</td>\n",
       "      <td>322.0</td>\n",
       "      <td>785.0</td>\n",
       "      <td>11.671338</td>\n",
       "    </tr>\n",
       "    <tr>\n",
       "      <th>DL</th>\n",
       "      <td>-53.0</td>\n",
       "      <td>683.0</td>\n",
       "      <td>780.0</td>\n",
       "      <td>1.383333</td>\n",
       "    </tr>\n",
       "    <tr>\n",
       "      <th>OO</th>\n",
       "      <td>-55.0</td>\n",
       "      <td>926.0</td>\n",
       "      <td>635.0</td>\n",
       "      <td>7.777953</td>\n",
       "    </tr>\n",
       "    <tr>\n",
       "      <th>UA</th>\n",
       "      <td>-43.0</td>\n",
       "      <td>432.0</td>\n",
       "      <td>475.0</td>\n",
       "      <td>2.433684</td>\n",
       "    </tr>\n",
       "    <tr>\n",
       "      <th>B6</th>\n",
       "      <td>-55.0</td>\n",
       "      <td>851.0</td>\n",
       "      <td>425.0</td>\n",
       "      <td>26.510588</td>\n",
       "    </tr>\n",
       "    <tr>\n",
       "      <th>MQ</th>\n",
       "      <td>-40.0</td>\n",
       "      <td>577.0</td>\n",
       "      <td>289.0</td>\n",
       "      <td>3.494810</td>\n",
       "    </tr>\n",
       "    <tr>\n",
       "      <th>YX</th>\n",
       "      <td>-58.0</td>\n",
       "      <td>568.0</td>\n",
       "      <td>286.0</td>\n",
       "      <td>6.541958</td>\n",
       "    </tr>\n",
       "    <tr>\n",
       "      <th>OH</th>\n",
       "      <td>-36.0</td>\n",
       "      <td>262.0</td>\n",
       "      <td>260.0</td>\n",
       "      <td>2.657692</td>\n",
       "    </tr>\n",
       "    <tr>\n",
       "      <th>9E</th>\n",
       "      <td>-36.0</td>\n",
       "      <td>172.0</td>\n",
       "      <td>221.0</td>\n",
       "      <td>0.624434</td>\n",
       "    </tr>\n",
       "    <tr>\n",
       "      <th>HA</th>\n",
       "      <td>-44.0</td>\n",
       "      <td>205.0</td>\n",
       "      <td>220.0</td>\n",
       "      <td>-0.290909</td>\n",
       "    </tr>\n",
       "    <tr>\n",
       "      <th>G4</th>\n",
       "      <td>-36.0</td>\n",
       "      <td>126.0</td>\n",
       "      <td>149.0</td>\n",
       "      <td>-0.167785</td>\n",
       "    </tr>\n",
       "    <tr>\n",
       "      <th>AS</th>\n",
       "      <td>-88.0</td>\n",
       "      <td>83.0</td>\n",
       "      <td>145.0</td>\n",
       "      <td>-5.606897</td>\n",
       "    </tr>\n",
       "    <tr>\n",
       "      <th>YV</th>\n",
       "      <td>-37.0</td>\n",
       "      <td>227.0</td>\n",
       "      <td>138.0</td>\n",
       "      <td>2.942029</td>\n",
       "    </tr>\n",
       "    <tr>\n",
       "      <th>G7</th>\n",
       "      <td>-32.0</td>\n",
       "      <td>238.0</td>\n",
       "      <td>125.0</td>\n",
       "      <td>-1.048000</td>\n",
       "    </tr>\n",
       "    <tr>\n",
       "      <th>QX</th>\n",
       "      <td>-34.0</td>\n",
       "      <td>124.0</td>\n",
       "      <td>113.0</td>\n",
       "      <td>0.876106</td>\n",
       "    </tr>\n",
       "    <tr>\n",
       "      <th>CP</th>\n",
       "      <td>-37.0</td>\n",
       "      <td>265.0</td>\n",
       "      <td>106.0</td>\n",
       "      <td>15.820755</td>\n",
       "    </tr>\n",
       "    <tr>\n",
       "      <th>AX</th>\n",
       "      <td>-31.0</td>\n",
       "      <td>430.0</td>\n",
       "      <td>98.0</td>\n",
       "      <td>23.744898</td>\n",
       "    </tr>\n",
       "    <tr>\n",
       "      <th>ZW</th>\n",
       "      <td>-34.0</td>\n",
       "      <td>97.0</td>\n",
       "      <td>93.0</td>\n",
       "      <td>-1.268817</td>\n",
       "    </tr>\n",
       "    <tr>\n",
       "      <th>NK</th>\n",
       "      <td>-43.0</td>\n",
       "      <td>244.0</td>\n",
       "      <td>87.0</td>\n",
       "      <td>13.298851</td>\n",
       "    </tr>\n",
       "    <tr>\n",
       "      <th>PT</th>\n",
       "      <td>-28.0</td>\n",
       "      <td>86.0</td>\n",
       "      <td>85.0</td>\n",
       "      <td>0.258824</td>\n",
       "    </tr>\n",
       "    <tr>\n",
       "      <th>EV</th>\n",
       "      <td>-35.0</td>\n",
       "      <td>223.0</td>\n",
       "      <td>81.0</td>\n",
       "      <td>15.345679</td>\n",
       "    </tr>\n",
       "    <tr>\n",
       "      <th>F9</th>\n",
       "      <td>-43.0</td>\n",
       "      <td>309.0</td>\n",
       "      <td>60.0</td>\n",
       "      <td>10.583333</td>\n",
       "    </tr>\n",
       "    <tr>\n",
       "      <th>C5</th>\n",
       "      <td>-31.0</td>\n",
       "      <td>945.0</td>\n",
       "      <td>54.0</td>\n",
       "      <td>86.629630</td>\n",
       "    </tr>\n",
       "    <tr>\n",
       "      <th>EM</th>\n",
       "      <td>-22.0</td>\n",
       "      <td>25.0</td>\n",
       "      <td>24.0</td>\n",
       "      <td>-4.416667</td>\n",
       "    </tr>\n",
       "  </tbody>\n",
       "</table>\n",
       "</div>"
      ],
      "text/plain": [
       "                    min    max   count       mean\n",
       "op_unique_carrier                                \n",
       "WN                -43.0  324.0  1189.0   5.377628\n",
       "AA                -45.0  322.0   785.0  11.671338\n",
       "DL                -53.0  683.0   780.0   1.383333\n",
       "OO                -55.0  926.0   635.0   7.777953\n",
       "UA                -43.0  432.0   475.0   2.433684\n",
       "B6                -55.0  851.0   425.0  26.510588\n",
       "MQ                -40.0  577.0   289.0   3.494810\n",
       "YX                -58.0  568.0   286.0   6.541958\n",
       "OH                -36.0  262.0   260.0   2.657692\n",
       "9E                -36.0  172.0   221.0   0.624434\n",
       "HA                -44.0  205.0   220.0  -0.290909\n",
       "G4                -36.0  126.0   149.0  -0.167785\n",
       "AS                -88.0   83.0   145.0  -5.606897\n",
       "YV                -37.0  227.0   138.0   2.942029\n",
       "G7                -32.0  238.0   125.0  -1.048000\n",
       "QX                -34.0  124.0   113.0   0.876106\n",
       "CP                -37.0  265.0   106.0  15.820755\n",
       "AX                -31.0  430.0    98.0  23.744898\n",
       "ZW                -34.0   97.0    93.0  -1.268817\n",
       "NK                -43.0  244.0    87.0  13.298851\n",
       "PT                -28.0   86.0    85.0   0.258824\n",
       "EV                -35.0  223.0    81.0  15.345679\n",
       "F9                -43.0  309.0    60.0  10.583333\n",
       "C5                -31.0  945.0    54.0  86.629630\n",
       "EM                -22.0   25.0    24.0  -4.416667"
      ]
     },
     "execution_count": 202,
     "metadata": {},
     "output_type": "execute_result"
    }
   ],
   "source": [
    "#__________________________________________________________________\n",
    "# function that extract statistical parameters from a grouby objet:\n",
    "def get_stats(group):\n",
    "    return {'min': group.min(), 'max': group.max(),\n",
    "            'count': group.count(), 'mean': group.mean()}\n",
    "#_______________________________________________________________\n",
    "# Creation of a dataframe with statitical infos on each airline:\n",
    "global_stats = df['arr_delay'].groupby(df['op_unique_carrier']).apply(get_stats).unstack()\n",
    "global_stats = global_stats.sort_values('count',ascending=False)\n",
    "global_stats"
   ]
  },
  {
   "cell_type": "code",
   "execution_count": null,
   "metadata": {},
   "outputs": [],
   "source": []
  },
  {
   "cell_type": "code",
   "execution_count": null,
   "metadata": {},
   "outputs": [],
   "source": []
  },
  {
   "cell_type": "code",
   "execution_count": null,
   "metadata": {},
   "outputs": [],
   "source": []
  },
  {
   "cell_type": "code",
   "execution_count": null,
   "metadata": {},
   "outputs": [],
   "source": []
  },
  {
   "cell_type": "code",
   "execution_count": null,
   "metadata": {},
   "outputs": [],
   "source": []
  },
  {
   "cell_type": "code",
   "execution_count": null,
   "metadata": {},
   "outputs": [],
   "source": []
  },
  {
   "cell_type": "markdown",
   "metadata": {},
   "source": [
    "#### **Task 10**: Do bigger delays lead to bigger fuel comsumption per passenger? \n",
    "We need to do four things to answer this as accurate as possible:\n",
    "- Find out average monthly delay per air carrier (monthly delay is sum of all delays in 1 month)\n",
    "- Find out distance covered monthly by different air carriers\n",
    "- Find out number of passengers that were carried by different air carriers\n",
    "- Find out total fuel comsumption per air carrier.\n",
    "\n",
    "Use this information to get the average fuel comsumption per passenger per km. Is this higher for the airlines with bigger average delays?"
   ]
  },
  {
   "cell_type": "code",
   "execution_count": null,
   "metadata": {},
   "outputs": [],
   "source": []
  },
  {
   "cell_type": "code",
   "execution_count": null,
   "metadata": {},
   "outputs": [],
   "source": []
  },
  {
   "cell_type": "code",
   "execution_count": null,
   "metadata": {},
   "outputs": [],
   "source": []
  },
  {
   "cell_type": "code",
   "execution_count": null,
   "metadata": {},
   "outputs": [],
   "source": []
  },
  {
   "cell_type": "code",
   "execution_count": null,
   "metadata": {},
   "outputs": [],
   "source": []
  },
  {
   "cell_type": "code",
   "execution_count": null,
   "metadata": {},
   "outputs": [],
   "source": []
  },
  {
   "cell_type": "markdown",
   "metadata": {},
   "source": [
    "# More Plots"
   ]
  },
  {
   "cell_type": "code",
   "execution_count": null,
   "metadata": {},
   "outputs": [],
   "source": []
  },
  {
   "cell_type": "code",
   "execution_count": 110,
   "metadata": {},
   "outputs": [],
   "source": [
    "carrierdf = df['op_unique_carrier'].unique()"
   ]
  },
  {
   "cell_type": "code",
   "execution_count": 111,
   "metadata": {},
   "outputs": [
    {
     "data": {
      "text/plain": [
       "array(['DL', 'OO', 'G7', 'PT', 'B6', 'AX', 'AA', 'CP', 'HA', 'EM', 'MQ',\n",
       "       'ZW', 'YX', 'G4', '9E', 'UA', 'WN', 'YV', 'OH', 'EV', 'QX', 'AS',\n",
       "       'NK', 'C5', 'F9'], dtype=object)"
      ]
     },
     "execution_count": 111,
     "metadata": {},
     "output_type": "execute_result"
    }
   ],
   "source": [
    "carrierdf"
   ]
  },
  {
   "cell_type": "code",
   "execution_count": 122,
   "metadata": {},
   "outputs": [],
   "source": [
    "carrierplot = df['arr_delay'].groupby(df['op_unique_carrier']).count()"
   ]
  },
  {
   "cell_type": "code",
   "execution_count": 124,
   "metadata": {},
   "outputs": [
    {
     "data": {
      "text/plain": [
       "<AxesSubplot:xlabel='arr_delay', ylabel='Count'>"
      ]
     },
     "execution_count": 124,
     "metadata": {},
     "output_type": "execute_result"
    },
    {
     "data": {
      "image/png": "[encoded data removed]",
      "text/plain": [
       "<Figure size 432x288 with 1 Axes>"
      ]
     },
     "metadata": {
      "needs_background": "light"
     },
     "output_type": "display_data"
    }
   ],
   "source": [
    "sns.histplot(carrierplot)"
   ]
  },
  {
   "cell_type": "code",
   "execution_count": 15,
   "metadata": {},
   "outputs": [],
   "source": []
  },
  {
   "cell_type": "code",
   "execution_count": 17,
   "metadata": {},
   "outputs": [
    {
     "data": {
      "text/plain": [
       "<AxesSubplot:xlabel='dep_delay', ylabel='op_unique_carrier'>"
      ]
     },
     "execution_count": 17,
     "metadata": {},
     "output_type": "execute_result"
    },
    {
     "data": {
      "image/png": "[encoded data removed]",
      "text/plain": [
       "<Figure size 432x288 with 1 Axes>"
      ]
     },
     "metadata": {
      "needs_background": "light"
     },
     "output_type": "display_data"
    }
   ],
   "source": [
    "sns.stripplot(x='dep_delay',y='op_unique_carrier',data=df)"
   ]
  },
  {
   "cell_type": "markdown",
   "metadata": {},
   "source": [
    "## Hight volume airports"
   ]
  },
  {
   "cell_type": "code",
   "execution_count": 24,
   "metadata": {},
   "outputs": [
    {
     "data": {
      "text/plain": [
       "ORD    314\n",
       "ATL    295\n",
       "CLT    255\n",
       "LAX    210\n",
       "DFW    202\n",
       "SEA    194\n",
       "DEN    192\n",
       "DCA    186\n",
       "LGA    175\n",
       "PHX    168\n",
       "PHL    168\n",
       "LAS    147\n",
       "SFO    142\n",
       "BOS    131\n",
       "MSP    130\n",
       "IAH    124\n",
       "JFK    122\n",
       "BWI    122\n",
       "HNL    120\n",
       "MDW    118\n",
       "Name: origin, dtype: int64"
      ]
     },
     "execution_count": 24,
     "metadata": {},
     "output_type": "execute_result"
    }
   ],
   "source": [
    "hi_volume = df['origin'].value_counts()[:20]\n",
    "hi_volume\n",
    "    "
   ]
  },
  {
   "cell_type": "code",
   "execution_count": 26,
   "metadata": {},
   "outputs": [
    {
     "name": "stdout",
     "output_type": "stream",
     "text": [
      "['ORD', 'ATL', 'CLT', 'LAX', 'DFW', 'SEA', 'DEN', 'DCA', 'LGA', 'PHX', 'PHL', 'LAS', 'SFO', 'BOS', 'MSP', 'IAH', 'JFK', 'BWI', 'HNL', 'MDW']\n"
     ]
    }
   ],
   "source": [
    "hi_volume_airports_names = hi_volume.index.tolist()\n",
    "print (hi_volume_airports_names)"
   ]
  },
  {
   "cell_type": "code",
   "execution_count": 27,
   "metadata": {},
   "outputs": [
    {
     "data": {
      "text/html": [
       "<div>\n",
       "<style scoped>\n",
       "    .dataframe tbody tr th:only-of-type {\n",
       "        vertical-align: middle;\n",
       "    }\n",
       "\n",
       "    .dataframe tbody tr th {\n",
       "        vertical-align: top;\n",
       "    }\n",
       "\n",
       "    .dataframe thead th {\n",
       "        text-align: right;\n",
       "    }\n",
       "</style>\n",
       "<table border=\"1\" class=\"dataframe\">\n",
       "  <thead>\n",
       "    <tr style=\"text-align: right;\">\n",
       "      <th></th>\n",
       "      <th>fl_date</th>\n",
       "      <th>op_unique_carrier</th>\n",
       "      <th>tail_num</th>\n",
       "      <th>op_carrier_fl_num</th>\n",
       "      <th>origin</th>\n",
       "      <th>dest</th>\n",
       "      <th>crs_dep_time</th>\n",
       "      <th>dep_time</th>\n",
       "      <th>dep_delay</th>\n",
       "      <th>taxi_out</th>\n",
       "      <th>...</th>\n",
       "      <th>dest_city</th>\n",
       "      <th>dest_state</th>\n",
       "      <th>arr_date</th>\n",
       "      <th>dep_datetime</th>\n",
       "      <th>arr_datetime</th>\n",
       "      <th>fl_month</th>\n",
       "      <th>fl_weekday</th>\n",
       "      <th>day_num_of_flights</th>\n",
       "      <th>num_flights_24hr</th>\n",
       "      <th>inbound_fl</th>\n",
       "    </tr>\n",
       "  </thead>\n",
       "  <tbody>\n",
       "    <tr>\n",
       "      <th>0</th>\n",
       "      <td>2018-01-02 00:00:00</td>\n",
       "      <td>DL</td>\n",
       "      <td>N308DE</td>\n",
       "      <td>1124</td>\n",
       "      <td>ATL</td>\n",
       "      <td>RIC</td>\n",
       "      <td>17:25:00</td>\n",
       "      <td>1724.0</td>\n",
       "      <td>-1.0</td>\n",
       "      <td>11.0</td>\n",
       "      <td>...</td>\n",
       "      <td>Richmond</td>\n",
       "      <td>VA</td>\n",
       "      <td>2018-01-02 00:00:00</td>\n",
       "      <td>2018-01-02 17:25:00</td>\n",
       "      <td>2018-01-02 18:55:00</td>\n",
       "      <td>1</td>\n",
       "      <td>1</td>\n",
       "      <td>9</td>\n",
       "      <td>18</td>\n",
       "      <td>0</td>\n",
       "    </tr>\n",
       "    <tr>\n",
       "      <th>2</th>\n",
       "      <td>2018-01-02 00:00:00</td>\n",
       "      <td>DL</td>\n",
       "      <td>N342NB</td>\n",
       "      <td>1125</td>\n",
       "      <td>CLT</td>\n",
       "      <td>ATL</td>\n",
       "      <td>19:05:00</td>\n",
       "      <td>1911.0</td>\n",
       "      <td>6.0</td>\n",
       "      <td>21.0</td>\n",
       "      <td>...</td>\n",
       "      <td>Atlanta</td>\n",
       "      <td>GA</td>\n",
       "      <td>2018-01-02 00:00:00</td>\n",
       "      <td>2018-01-02 19:05:00</td>\n",
       "      <td>2018-01-02 20:29:00</td>\n",
       "      <td>1</td>\n",
       "      <td>1</td>\n",
       "      <td>1</td>\n",
       "      <td>1</td>\n",
       "      <td>0</td>\n",
       "    </tr>\n",
       "    <tr>\n",
       "      <th>4</th>\n",
       "      <td>2018-01-02 00:00:00</td>\n",
       "      <td>DL</td>\n",
       "      <td>N951DL</td>\n",
       "      <td>1127</td>\n",
       "      <td>ATL</td>\n",
       "      <td>IND</td>\n",
       "      <td>09:11:00</td>\n",
       "      <td>910.0</td>\n",
       "      <td>-1.0</td>\n",
       "      <td>15.0</td>\n",
       "      <td>...</td>\n",
       "      <td>Indianapolis</td>\n",
       "      <td>IN</td>\n",
       "      <td>2018-01-02 00:00:00</td>\n",
       "      <td>2018-01-02 09:11:00</td>\n",
       "      <td>2018-01-02 10:42:00</td>\n",
       "      <td>1</td>\n",
       "      <td>1</td>\n",
       "      <td>9</td>\n",
       "      <td>14</td>\n",
       "      <td>0</td>\n",
       "    </tr>\n",
       "    <tr>\n",
       "      <th>6</th>\n",
       "      <td>2018-01-02 00:00:00</td>\n",
       "      <td>DL</td>\n",
       "      <td>N876DN</td>\n",
       "      <td>1128</td>\n",
       "      <td>ATL</td>\n",
       "      <td>LAX</td>\n",
       "      <td>21:30:00</td>\n",
       "      <td>2243.0</td>\n",
       "      <td>73.0</td>\n",
       "      <td>16.0</td>\n",
       "      <td>...</td>\n",
       "      <td>Los Angeles</td>\n",
       "      <td>CA</td>\n",
       "      <td>2018-01-02 00:00:00</td>\n",
       "      <td>2018-01-02 21:30:00</td>\n",
       "      <td>2018-01-02 23:37:00</td>\n",
       "      <td>1</td>\n",
       "      <td>1</td>\n",
       "      <td>9</td>\n",
       "      <td>13</td>\n",
       "      <td>0</td>\n",
       "    </tr>\n",
       "    <tr>\n",
       "      <th>7</th>\n",
       "      <td>2018-01-02 00:00:00</td>\n",
       "      <td>DL</td>\n",
       "      <td>N665DN</td>\n",
       "      <td>1130</td>\n",
       "      <td>ATL</td>\n",
       "      <td>MSP</td>\n",
       "      <td>22:30:00</td>\n",
       "      <td>2228.0</td>\n",
       "      <td>-2.0</td>\n",
       "      <td>18.0</td>\n",
       "      <td>...</td>\n",
       "      <td>Minneapolis</td>\n",
       "      <td>MN</td>\n",
       "      <td>2018-01-03 00:00:00</td>\n",
       "      <td>2018-01-02 22:30:00</td>\n",
       "      <td>2018-01-03 00:16:00</td>\n",
       "      <td>1</td>\n",
       "      <td>1</td>\n",
       "      <td>9</td>\n",
       "      <td>13</td>\n",
       "      <td>0</td>\n",
       "    </tr>\n",
       "  </tbody>\n",
       "</table>\n",
       "<p>5 rows × 46 columns</p>\n",
       "</div>"
      ],
      "text/plain": [
       "               fl_date op_unique_carrier tail_num  op_carrier_fl_num origin  \\\n",
       "0  2018-01-02 00:00:00                DL   N308DE               1124    ATL   \n",
       "2  2018-01-02 00:00:00                DL   N342NB               1125    CLT   \n",
       "4  2018-01-02 00:00:00                DL   N951DL               1127    ATL   \n",
       "6  2018-01-02 00:00:00                DL   N876DN               1128    ATL   \n",
       "7  2018-01-02 00:00:00                DL   N665DN               1130    ATL   \n",
       "\n",
       "  dest crs_dep_time  dep_time  dep_delay  taxi_out  ...     dest_city  \\\n",
       "0  RIC     17:25:00    1724.0       -1.0      11.0  ...      Richmond   \n",
       "2  ATL     19:05:00    1911.0        6.0      21.0  ...       Atlanta   \n",
       "4  IND     09:11:00     910.0       -1.0      15.0  ...  Indianapolis   \n",
       "6  LAX     21:30:00    2243.0       73.0      16.0  ...   Los Angeles   \n",
       "7  MSP     22:30:00    2228.0       -2.0      18.0  ...   Minneapolis   \n",
       "\n",
       "   dest_state             arr_date         dep_datetime         arr_datetime  \\\n",
       "0          VA  2018-01-02 00:00:00  2018-01-02 17:25:00  2018-01-02 18:55:00   \n",
       "2          GA  2018-01-02 00:00:00  2018-01-02 19:05:00  2018-01-02 20:29:00   \n",
       "4          IN  2018-01-02 00:00:00  2018-01-02 09:11:00  2018-01-02 10:42:00   \n",
       "6          CA  2018-01-02 00:00:00  2018-01-02 21:30:00  2018-01-02 23:37:00   \n",
       "7          MN  2018-01-03 00:00:00  2018-01-02 22:30:00  2018-01-03 00:16:00   \n",
       "\n",
       "   fl_month  fl_weekday  day_num_of_flights  num_flights_24hr inbound_fl  \n",
       "0         1           1                   9                18          0  \n",
       "2         1           1                   1                 1          0  \n",
       "4         1           1                   9                14          0  \n",
       "6         1           1                   9                13          0  \n",
       "7         1           1                   9                13          0  \n",
       "\n",
       "[5 rows x 46 columns]"
      ]
     },
     "execution_count": 27,
     "metadata": {},
     "output_type": "execute_result"
    }
   ],
   "source": [
    "hi_volume_airports = df[df['origin'].isin(hi_volume_airports_names)]\n",
    "hi_volume_airports.head()"
   ]
  },
  {
   "cell_type": "code",
   "execution_count": 29,
   "metadata": {},
   "outputs": [
    {
     "data": {
      "text/html": [
       "<div>\n",
       "<style scoped>\n",
       "    .dataframe tbody tr th:only-of-type {\n",
       "        vertical-align: middle;\n",
       "    }\n",
       "\n",
       "    .dataframe tbody tr th {\n",
       "        vertical-align: top;\n",
       "    }\n",
       "\n",
       "    .dataframe thead th {\n",
       "        text-align: right;\n",
       "    }\n",
       "</style>\n",
       "<table border=\"1\" class=\"dataframe\">\n",
       "  <thead>\n",
       "    <tr style=\"text-align: right;\">\n",
       "      <th>origin</th>\n",
       "      <th>ATL</th>\n",
       "      <th>BOS</th>\n",
       "      <th>BWI</th>\n",
       "      <th>CLT</th>\n",
       "      <th>DCA</th>\n",
       "      <th>DEN</th>\n",
       "      <th>DFW</th>\n",
       "      <th>HNL</th>\n",
       "      <th>IAH</th>\n",
       "      <th>JFK</th>\n",
       "      <th>LAS</th>\n",
       "      <th>LAX</th>\n",
       "      <th>LGA</th>\n",
       "      <th>MDW</th>\n",
       "      <th>MSP</th>\n",
       "      <th>ORD</th>\n",
       "      <th>PHL</th>\n",
       "      <th>PHX</th>\n",
       "      <th>SEA</th>\n",
       "      <th>SFO</th>\n",
       "    </tr>\n",
       "    <tr>\n",
       "      <th>fl_date</th>\n",
       "      <th></th>\n",
       "      <th></th>\n",
       "      <th></th>\n",
       "      <th></th>\n",
       "      <th></th>\n",
       "      <th></th>\n",
       "      <th></th>\n",
       "      <th></th>\n",
       "      <th></th>\n",
       "      <th></th>\n",
       "      <th></th>\n",
       "      <th></th>\n",
       "      <th></th>\n",
       "      <th></th>\n",
       "      <th></th>\n",
       "      <th></th>\n",
       "      <th></th>\n",
       "      <th></th>\n",
       "      <th></th>\n",
       "      <th></th>\n",
       "    </tr>\n",
       "  </thead>\n",
       "  <tbody>\n",
       "    <tr>\n",
       "      <th>2018-01-02 00:00:00</th>\n",
       "      <td>-7.444444</td>\n",
       "      <td>NaN</td>\n",
       "      <td>NaN</td>\n",
       "      <td>-1.000000</td>\n",
       "      <td>NaN</td>\n",
       "      <td>NaN</td>\n",
       "      <td>NaN</td>\n",
       "      <td>NaN</td>\n",
       "      <td>NaN</td>\n",
       "      <td>NaN</td>\n",
       "      <td>NaN</td>\n",
       "      <td>-19.0</td>\n",
       "      <td>NaN</td>\n",
       "      <td>NaN</td>\n",
       "      <td>-8.0</td>\n",
       "      <td>NaN</td>\n",
       "      <td>NaN</td>\n",
       "      <td>NaN</td>\n",
       "      <td>NaN</td>\n",
       "      <td>NaN</td>\n",
       "    </tr>\n",
       "    <tr>\n",
       "      <th>2018-01-10 00:00:00</th>\n",
       "      <td>-13.142857</td>\n",
       "      <td>NaN</td>\n",
       "      <td>NaN</td>\n",
       "      <td>NaN</td>\n",
       "      <td>NaN</td>\n",
       "      <td>-16.000000</td>\n",
       "      <td>NaN</td>\n",
       "      <td>-31.0</td>\n",
       "      <td>NaN</td>\n",
       "      <td>NaN</td>\n",
       "      <td>NaN</td>\n",
       "      <td>-11.0</td>\n",
       "      <td>NaN</td>\n",
       "      <td>NaN</td>\n",
       "      <td>-25.0</td>\n",
       "      <td>16.000000</td>\n",
       "      <td>NaN</td>\n",
       "      <td>NaN</td>\n",
       "      <td>-8.333333</td>\n",
       "      <td>NaN</td>\n",
       "    </tr>\n",
       "    <tr>\n",
       "      <th>2018-01-18 00:00:00</th>\n",
       "      <td>45.500000</td>\n",
       "      <td>NaN</td>\n",
       "      <td>NaN</td>\n",
       "      <td>NaN</td>\n",
       "      <td>NaN</td>\n",
       "      <td>NaN</td>\n",
       "      <td>-14.000000</td>\n",
       "      <td>NaN</td>\n",
       "      <td>NaN</td>\n",
       "      <td>NaN</td>\n",
       "      <td>85.0</td>\n",
       "      <td>18.0</td>\n",
       "      <td>NaN</td>\n",
       "      <td>NaN</td>\n",
       "      <td>21.0</td>\n",
       "      <td>18.000000</td>\n",
       "      <td>NaN</td>\n",
       "      <td>NaN</td>\n",
       "      <td>NaN</td>\n",
       "      <td>NaN</td>\n",
       "    </tr>\n",
       "    <tr>\n",
       "      <th>2018-01-20 00:00:00</th>\n",
       "      <td>-8.000000</td>\n",
       "      <td>NaN</td>\n",
       "      <td>NaN</td>\n",
       "      <td>NaN</td>\n",
       "      <td>NaN</td>\n",
       "      <td>-11.666667</td>\n",
       "      <td>NaN</td>\n",
       "      <td>NaN</td>\n",
       "      <td>NaN</td>\n",
       "      <td>NaN</td>\n",
       "      <td>NaN</td>\n",
       "      <td>NaN</td>\n",
       "      <td>NaN</td>\n",
       "      <td>NaN</td>\n",
       "      <td>NaN</td>\n",
       "      <td>-22.666667</td>\n",
       "      <td>NaN</td>\n",
       "      <td>NaN</td>\n",
       "      <td>NaN</td>\n",
       "      <td>NaN</td>\n",
       "    </tr>\n",
       "    <tr>\n",
       "      <th>2018-01-29 00:00:00</th>\n",
       "      <td>NaN</td>\n",
       "      <td>NaN</td>\n",
       "      <td>NaN</td>\n",
       "      <td>10.666667</td>\n",
       "      <td>NaN</td>\n",
       "      <td>24.000000</td>\n",
       "      <td>NaN</td>\n",
       "      <td>NaN</td>\n",
       "      <td>-8.0</td>\n",
       "      <td>NaN</td>\n",
       "      <td>NaN</td>\n",
       "      <td>NaN</td>\n",
       "      <td>-13.0</td>\n",
       "      <td>NaN</td>\n",
       "      <td>NaN</td>\n",
       "      <td>12.500000</td>\n",
       "      <td>-2.769231</td>\n",
       "      <td>NaN</td>\n",
       "      <td>NaN</td>\n",
       "      <td>-14.000000</td>\n",
       "    </tr>\n",
       "    <tr>\n",
       "      <th>...</th>\n",
       "      <td>...</td>\n",
       "      <td>...</td>\n",
       "      <td>...</td>\n",
       "      <td>...</td>\n",
       "      <td>...</td>\n",
       "      <td>...</td>\n",
       "      <td>...</td>\n",
       "      <td>...</td>\n",
       "      <td>...</td>\n",
       "      <td>...</td>\n",
       "      <td>...</td>\n",
       "      <td>...</td>\n",
       "      <td>...</td>\n",
       "      <td>...</td>\n",
       "      <td>...</td>\n",
       "      <td>...</td>\n",
       "      <td>...</td>\n",
       "      <td>...</td>\n",
       "      <td>...</td>\n",
       "      <td>...</td>\n",
       "    </tr>\n",
       "    <tr>\n",
       "      <th>2019-12-02 00:00:00</th>\n",
       "      <td>95.000000</td>\n",
       "      <td>146.3</td>\n",
       "      <td>NaN</td>\n",
       "      <td>NaN</td>\n",
       "      <td>218.5</td>\n",
       "      <td>NaN</td>\n",
       "      <td>NaN</td>\n",
       "      <td>NaN</td>\n",
       "      <td>NaN</td>\n",
       "      <td>20.500000</td>\n",
       "      <td>NaN</td>\n",
       "      <td>31.0</td>\n",
       "      <td>NaN</td>\n",
       "      <td>NaN</td>\n",
       "      <td>34.0</td>\n",
       "      <td>NaN</td>\n",
       "      <td>NaN</td>\n",
       "      <td>NaN</td>\n",
       "      <td>NaN</td>\n",
       "      <td>NaN</td>\n",
       "    </tr>\n",
       "    <tr>\n",
       "      <th>2019-12-04 00:00:00</th>\n",
       "      <td>NaN</td>\n",
       "      <td>NaN</td>\n",
       "      <td>NaN</td>\n",
       "      <td>NaN</td>\n",
       "      <td>NaN</td>\n",
       "      <td>-14.666667</td>\n",
       "      <td>NaN</td>\n",
       "      <td>NaN</td>\n",
       "      <td>NaN</td>\n",
       "      <td>NaN</td>\n",
       "      <td>NaN</td>\n",
       "      <td>NaN</td>\n",
       "      <td>NaN</td>\n",
       "      <td>NaN</td>\n",
       "      <td>NaN</td>\n",
       "      <td>3.875000</td>\n",
       "      <td>NaN</td>\n",
       "      <td>NaN</td>\n",
       "      <td>NaN</td>\n",
       "      <td>NaN</td>\n",
       "    </tr>\n",
       "    <tr>\n",
       "      <th>2019-12-06 00:00:00</th>\n",
       "      <td>NaN</td>\n",
       "      <td>26.0</td>\n",
       "      <td>NaN</td>\n",
       "      <td>NaN</td>\n",
       "      <td>NaN</td>\n",
       "      <td>NaN</td>\n",
       "      <td>-2.833333</td>\n",
       "      <td>NaN</td>\n",
       "      <td>NaN</td>\n",
       "      <td>-6.666667</td>\n",
       "      <td>43.0</td>\n",
       "      <td>NaN</td>\n",
       "      <td>NaN</td>\n",
       "      <td>NaN</td>\n",
       "      <td>NaN</td>\n",
       "      <td>NaN</td>\n",
       "      <td>NaN</td>\n",
       "      <td>14.0</td>\n",
       "      <td>NaN</td>\n",
       "      <td>-3.000000</td>\n",
       "    </tr>\n",
       "    <tr>\n",
       "      <th>2019-12-10 00:00:00</th>\n",
       "      <td>17.000000</td>\n",
       "      <td>NaN</td>\n",
       "      <td>5.172414</td>\n",
       "      <td>NaN</td>\n",
       "      <td>NaN</td>\n",
       "      <td>-19.000000</td>\n",
       "      <td>NaN</td>\n",
       "      <td>-41.0</td>\n",
       "      <td>5.0</td>\n",
       "      <td>NaN</td>\n",
       "      <td>NaN</td>\n",
       "      <td>NaN</td>\n",
       "      <td>NaN</td>\n",
       "      <td>NaN</td>\n",
       "      <td>NaN</td>\n",
       "      <td>18.250000</td>\n",
       "      <td>NaN</td>\n",
       "      <td>4.0</td>\n",
       "      <td>7.000000</td>\n",
       "      <td>-2.833333</td>\n",
       "    </tr>\n",
       "    <tr>\n",
       "      <th>2019-12-17 00:00:00</th>\n",
       "      <td>NaN</td>\n",
       "      <td>137.4</td>\n",
       "      <td>NaN</td>\n",
       "      <td>NaN</td>\n",
       "      <td>481.0</td>\n",
       "      <td>NaN</td>\n",
       "      <td>NaN</td>\n",
       "      <td>NaN</td>\n",
       "      <td>NaN</td>\n",
       "      <td>29.400000</td>\n",
       "      <td>90.0</td>\n",
       "      <td>NaN</td>\n",
       "      <td>NaN</td>\n",
       "      <td>NaN</td>\n",
       "      <td>106.0</td>\n",
       "      <td>NaN</td>\n",
       "      <td>5.000000</td>\n",
       "      <td>NaN</td>\n",
       "      <td>NaN</td>\n",
       "      <td>-13.000000</td>\n",
       "    </tr>\n",
       "  </tbody>\n",
       "</table>\n",
       "<p>190 rows × 20 columns</p>\n",
       "</div>"
      ],
      "text/plain": [
       "origin                     ATL    BOS       BWI        CLT    DCA        DEN  \\\n",
       "fl_date                                                                        \n",
       "2018-01-02 00:00:00  -7.444444    NaN       NaN  -1.000000    NaN        NaN   \n",
       "2018-01-10 00:00:00 -13.142857    NaN       NaN        NaN    NaN -16.000000   \n",
       "2018-01-18 00:00:00  45.500000    NaN       NaN        NaN    NaN        NaN   \n",
       "2018-01-20 00:00:00  -8.000000    NaN       NaN        NaN    NaN -11.666667   \n",
       "2018-01-29 00:00:00        NaN    NaN       NaN  10.666667    NaN  24.000000   \n",
       "...                        ...    ...       ...        ...    ...        ...   \n",
       "2019-12-02 00:00:00  95.000000  146.3       NaN        NaN  218.5        NaN   \n",
       "2019-12-04 00:00:00        NaN    NaN       NaN        NaN    NaN -14.666667   \n",
       "2019-12-06 00:00:00        NaN   26.0       NaN        NaN    NaN        NaN   \n",
       "2019-12-10 00:00:00  17.000000    NaN  5.172414        NaN    NaN -19.000000   \n",
       "2019-12-17 00:00:00        NaN  137.4       NaN        NaN  481.0        NaN   \n",
       "\n",
       "origin                     DFW   HNL  IAH        JFK   LAS   LAX   LGA  MDW  \\\n",
       "fl_date                                                                       \n",
       "2018-01-02 00:00:00        NaN   NaN  NaN        NaN   NaN -19.0   NaN  NaN   \n",
       "2018-01-10 00:00:00        NaN -31.0  NaN        NaN   NaN -11.0   NaN  NaN   \n",
       "2018-01-18 00:00:00 -14.000000   NaN  NaN        NaN  85.0  18.0   NaN  NaN   \n",
       "2018-01-20 00:00:00        NaN   NaN  NaN        NaN   NaN   NaN   NaN  NaN   \n",
       "2018-01-29 00:00:00        NaN   NaN -8.0        NaN   NaN   NaN -13.0  NaN   \n",
       "...                        ...   ...  ...        ...   ...   ...   ...  ...   \n",
       "2019-12-02 00:00:00        NaN   NaN  NaN  20.500000   NaN  31.0   NaN  NaN   \n",
       "2019-12-04 00:00:00        NaN   NaN  NaN        NaN   NaN   NaN   NaN  NaN   \n",
       "2019-12-06 00:00:00  -2.833333   NaN  NaN  -6.666667  43.0   NaN   NaN  NaN   \n",
       "2019-12-10 00:00:00        NaN -41.0  5.0        NaN   NaN   NaN   NaN  NaN   \n",
       "2019-12-17 00:00:00        NaN   NaN  NaN  29.400000  90.0   NaN   NaN  NaN   \n",
       "\n",
       "origin                 MSP        ORD       PHL   PHX       SEA        SFO  \n",
       "fl_date                                                                     \n",
       "2018-01-02 00:00:00   -8.0        NaN       NaN   NaN       NaN        NaN  \n",
       "2018-01-10 00:00:00  -25.0  16.000000       NaN   NaN -8.333333        NaN  \n",
       "2018-01-18 00:00:00   21.0  18.000000       NaN   NaN       NaN        NaN  \n",
       "2018-01-20 00:00:00    NaN -22.666667       NaN   NaN       NaN        NaN  \n",
       "2018-01-29 00:00:00    NaN  12.500000 -2.769231   NaN       NaN -14.000000  \n",
       "...                    ...        ...       ...   ...       ...        ...  \n",
       "2019-12-02 00:00:00   34.0        NaN       NaN   NaN       NaN        NaN  \n",
       "2019-12-04 00:00:00    NaN   3.875000       NaN   NaN       NaN        NaN  \n",
       "2019-12-06 00:00:00    NaN        NaN       NaN  14.0       NaN  -3.000000  \n",
       "2019-12-10 00:00:00    NaN  18.250000       NaN   4.0  7.000000  -2.833333  \n",
       "2019-12-17 00:00:00  106.0        NaN  5.000000   NaN       NaN -13.000000  \n",
       "\n",
       "[190 rows x 20 columns]"
      ]
     },
     "execution_count": 29,
     "metadata": {},
     "output_type": "execute_result"
    }
   ],
   "source": [
    "hi_volume_airports_pivots = hi_volume_airports.pivot_table(index='fl_date', columns='origin', values='arr_delay')\n",
    "hi_volume_airports_pivots"
   ]
  },
  {
   "cell_type": "code",
   "execution_count": 30,
   "metadata": {},
   "outputs": [
    {
     "data": {
      "text/html": [
       "<div>\n",
       "<style scoped>\n",
       "    .dataframe tbody tr th:only-of-type {\n",
       "        vertical-align: middle;\n",
       "    }\n",
       "\n",
       "    .dataframe tbody tr th {\n",
       "        vertical-align: top;\n",
       "    }\n",
       "\n",
       "    .dataframe thead th {\n",
       "        text-align: right;\n",
       "    }\n",
       "</style>\n",
       "<table border=\"1\" class=\"dataframe\">\n",
       "  <thead>\n",
       "    <tr style=\"text-align: right;\">\n",
       "      <th>origin</th>\n",
       "      <th>ATL</th>\n",
       "      <th>BOS</th>\n",
       "      <th>BWI</th>\n",
       "      <th>CLT</th>\n",
       "      <th>DCA</th>\n",
       "      <th>DEN</th>\n",
       "      <th>DFW</th>\n",
       "      <th>HNL</th>\n",
       "      <th>IAH</th>\n",
       "      <th>JFK</th>\n",
       "      <th>LAS</th>\n",
       "      <th>LAX</th>\n",
       "      <th>LGA</th>\n",
       "      <th>MDW</th>\n",
       "      <th>MSP</th>\n",
       "      <th>ORD</th>\n",
       "      <th>PHL</th>\n",
       "      <th>PHX</th>\n",
       "      <th>SEA</th>\n",
       "      <th>SFO</th>\n",
       "    </tr>\n",
       "  </thead>\n",
       "  <tbody>\n",
       "    <tr>\n",
       "      <th>count</th>\n",
       "      <td>68.000000</td>\n",
       "      <td>50.000000</td>\n",
       "      <td>25.000000</td>\n",
       "      <td>59.000000</td>\n",
       "      <td>63.000000</td>\n",
       "      <td>61.000000</td>\n",
       "      <td>58.000000</td>\n",
       "      <td>25.000000</td>\n",
       "      <td>44.000000</td>\n",
       "      <td>53.000000</td>\n",
       "      <td>45.000000</td>\n",
       "      <td>77.000000</td>\n",
       "      <td>63.000000</td>\n",
       "      <td>7.000000</td>\n",
       "      <td>51.000000</td>\n",
       "      <td>88.000000</td>\n",
       "      <td>52.000000</td>\n",
       "      <td>45.000000</td>\n",
       "      <td>56.000000</td>\n",
       "      <td>57.000000</td>\n",
       "    </tr>\n",
       "    <tr>\n",
       "      <th>mean</th>\n",
       "      <td>1.779665</td>\n",
       "      <td>11.928929</td>\n",
       "      <td>3.211430</td>\n",
       "      <td>5.701018</td>\n",
       "      <td>24.601444</td>\n",
       "      <td>9.084856</td>\n",
       "      <td>15.004676</td>\n",
       "      <td>6.426000</td>\n",
       "      <td>11.624215</td>\n",
       "      <td>-0.932615</td>\n",
       "      <td>9.845795</td>\n",
       "      <td>-0.944072</td>\n",
       "      <td>14.998384</td>\n",
       "      <td>-2.248123</td>\n",
       "      <td>1.062558</td>\n",
       "      <td>12.952069</td>\n",
       "      <td>9.139360</td>\n",
       "      <td>13.284292</td>\n",
       "      <td>5.918883</td>\n",
       "      <td>2.708480</td>\n",
       "    </tr>\n",
       "    <tr>\n",
       "      <th>std</th>\n",
       "      <td>21.128551</td>\n",
       "      <td>47.494716</td>\n",
       "      <td>27.929446</td>\n",
       "      <td>33.585056</td>\n",
       "      <td>77.266847</td>\n",
       "      <td>26.100866</td>\n",
       "      <td>46.240886</td>\n",
       "      <td>66.679655</td>\n",
       "      <td>36.595114</td>\n",
       "      <td>31.428876</td>\n",
       "      <td>33.739068</td>\n",
       "      <td>31.159400</td>\n",
       "      <td>61.501036</td>\n",
       "      <td>17.671449</td>\n",
       "      <td>47.546294</td>\n",
       "      <td>44.570524</td>\n",
       "      <td>43.960027</td>\n",
       "      <td>45.089988</td>\n",
       "      <td>54.502884</td>\n",
       "      <td>39.837912</td>\n",
       "    </tr>\n",
       "    <tr>\n",
       "      <th>min</th>\n",
       "      <td>-32.000000</td>\n",
       "      <td>-53.000000</td>\n",
       "      <td>-28.000000</td>\n",
       "      <td>-27.000000</td>\n",
       "      <td>-49.000000</td>\n",
       "      <td>-22.000000</td>\n",
       "      <td>-33.000000</td>\n",
       "      <td>-41.000000</td>\n",
       "      <td>-24.000000</td>\n",
       "      <td>-88.000000</td>\n",
       "      <td>-24.000000</td>\n",
       "      <td>-37.000000</td>\n",
       "      <td>-28.000000</td>\n",
       "      <td>-21.000000</td>\n",
       "      <td>-38.000000</td>\n",
       "      <td>-40.000000</td>\n",
       "      <td>-40.000000</td>\n",
       "      <td>-26.000000</td>\n",
       "      <td>-35.000000</td>\n",
       "      <td>-45.000000</td>\n",
       "    </tr>\n",
       "    <tr>\n",
       "      <th>25%</th>\n",
       "      <td>-10.517857</td>\n",
       "      <td>-13.000000</td>\n",
       "      <td>-13.000000</td>\n",
       "      <td>-12.431818</td>\n",
       "      <td>-8.350000</td>\n",
       "      <td>-9.166667</td>\n",
       "      <td>-8.458333</td>\n",
       "      <td>-11.000000</td>\n",
       "      <td>-8.656250</td>\n",
       "      <td>-19.000000</td>\n",
       "      <td>-10.000000</td>\n",
       "      <td>-17.400000</td>\n",
       "      <td>-14.000000</td>\n",
       "      <td>-16.500000</td>\n",
       "      <td>-19.833333</td>\n",
       "      <td>-7.659091</td>\n",
       "      <td>-11.250000</td>\n",
       "      <td>-7.000000</td>\n",
       "      <td>-15.750000</td>\n",
       "      <td>-14.000000</td>\n",
       "    </tr>\n",
       "    <tr>\n",
       "      <th>50%</th>\n",
       "      <td>-3.000000</td>\n",
       "      <td>-2.583333</td>\n",
       "      <td>-2.000000</td>\n",
       "      <td>-1.000000</td>\n",
       "      <td>-2.000000</td>\n",
       "      <td>-2.000000</td>\n",
       "      <td>-0.333333</td>\n",
       "      <td>-4.615385</td>\n",
       "      <td>-0.250000</td>\n",
       "      <td>-6.666667</td>\n",
       "      <td>-2.000000</td>\n",
       "      <td>-9.000000</td>\n",
       "      <td>-1.000000</td>\n",
       "      <td>-4.666667</td>\n",
       "      <td>-8.000000</td>\n",
       "      <td>2.354167</td>\n",
       "      <td>-2.384615</td>\n",
       "      <td>0.000000</td>\n",
       "      <td>-5.000000</td>\n",
       "      <td>-6.000000</td>\n",
       "    </tr>\n",
       "    <tr>\n",
       "      <th>75%</th>\n",
       "      <td>3.750000</td>\n",
       "      <td>17.500000</td>\n",
       "      <td>5.172414</td>\n",
       "      <td>10.583333</td>\n",
       "      <td>37.250000</td>\n",
       "      <td>22.500000</td>\n",
       "      <td>20.100000</td>\n",
       "      <td>5.500000</td>\n",
       "      <td>13.500000</td>\n",
       "      <td>16.000000</td>\n",
       "      <td>13.000000</td>\n",
       "      <td>8.000000</td>\n",
       "      <td>12.500000</td>\n",
       "      <td>10.304187</td>\n",
       "      <td>5.000000</td>\n",
       "      <td>18.062500</td>\n",
       "      <td>9.950000</td>\n",
       "      <td>9.615385</td>\n",
       "      <td>7.000000</td>\n",
       "      <td>3.000000</td>\n",
       "    </tr>\n",
       "    <tr>\n",
       "      <th>max</th>\n",
       "      <td>95.000000</td>\n",
       "      <td>217.000000</td>\n",
       "      <td>105.300000</td>\n",
       "      <td>164.000000</td>\n",
       "      <td>481.000000</td>\n",
       "      <td>93.500000</td>\n",
       "      <td>262.333333</td>\n",
       "      <td>319.000000</td>\n",
       "      <td>129.000000</td>\n",
       "      <td>115.000000</td>\n",
       "      <td>95.000000</td>\n",
       "      <td>185.000000</td>\n",
       "      <td>281.000000</td>\n",
       "      <td>22.321429</td>\n",
       "      <td>287.333333</td>\n",
       "      <td>275.000000</td>\n",
       "      <td>202.000000</td>\n",
       "      <td>225.000000</td>\n",
       "      <td>364.000000</td>\n",
       "      <td>244.000000</td>\n",
       "    </tr>\n",
       "  </tbody>\n",
       "</table>\n",
       "</div>"
      ],
      "text/plain": [
       "origin        ATL         BOS         BWI         CLT         DCA        DEN  \\\n",
       "count   68.000000   50.000000   25.000000   59.000000   63.000000  61.000000   \n",
       "mean     1.779665   11.928929    3.211430    5.701018   24.601444   9.084856   \n",
       "std     21.128551   47.494716   27.929446   33.585056   77.266847  26.100866   \n",
       "min    -32.000000  -53.000000  -28.000000  -27.000000  -49.000000 -22.000000   \n",
       "25%    -10.517857  -13.000000  -13.000000  -12.431818   -8.350000  -9.166667   \n",
       "50%     -3.000000   -2.583333   -2.000000   -1.000000   -2.000000  -2.000000   \n",
       "75%      3.750000   17.500000    5.172414   10.583333   37.250000  22.500000   \n",
       "max     95.000000  217.000000  105.300000  164.000000  481.000000  93.500000   \n",
       "\n",
       "origin         DFW         HNL         IAH         JFK        LAS         LAX  \\\n",
       "count    58.000000   25.000000   44.000000   53.000000  45.000000   77.000000   \n",
       "mean     15.004676    6.426000   11.624215   -0.932615   9.845795   -0.944072   \n",
       "std      46.240886   66.679655   36.595114   31.428876  33.739068   31.159400   \n",
       "min     -33.000000  -41.000000  -24.000000  -88.000000 -24.000000  -37.000000   \n",
       "25%      -8.458333  -11.000000   -8.656250  -19.000000 -10.000000  -17.400000   \n",
       "50%      -0.333333   -4.615385   -0.250000   -6.666667  -2.000000   -9.000000   \n",
       "75%      20.100000    5.500000   13.500000   16.000000  13.000000    8.000000   \n",
       "max     262.333333  319.000000  129.000000  115.000000  95.000000  185.000000   \n",
       "\n",
       "origin         LGA        MDW         MSP         ORD         PHL         PHX  \\\n",
       "count    63.000000   7.000000   51.000000   88.000000   52.000000   45.000000   \n",
       "mean     14.998384  -2.248123    1.062558   12.952069    9.139360   13.284292   \n",
       "std      61.501036  17.671449   47.546294   44.570524   43.960027   45.089988   \n",
       "min     -28.000000 -21.000000  -38.000000  -40.000000  -40.000000  -26.000000   \n",
       "25%     -14.000000 -16.500000  -19.833333   -7.659091  -11.250000   -7.000000   \n",
       "50%      -1.000000  -4.666667   -8.000000    2.354167   -2.384615    0.000000   \n",
       "75%      12.500000  10.304187    5.000000   18.062500    9.950000    9.615385   \n",
       "max     281.000000  22.321429  287.333333  275.000000  202.000000  225.000000   \n",
       "\n",
       "origin         SEA         SFO  \n",
       "count    56.000000   57.000000  \n",
       "mean      5.918883    2.708480  \n",
       "std      54.502884   39.837912  \n",
       "min     -35.000000  -45.000000  \n",
       "25%     -15.750000  -14.000000  \n",
       "50%      -5.000000   -6.000000  \n",
       "75%       7.000000    3.000000  \n",
       "max     364.000000  244.000000  "
      ]
     },
     "execution_count": 30,
     "metadata": {},
     "output_type": "execute_result"
    }
   ],
   "source": [
    "hi_volume_airports_pivots.describe()"
   ]
  },
  {
   "cell_type": "code",
   "execution_count": 31,
   "metadata": {},
   "outputs": [
    {
     "data": {
      "text/plain": [
       "<AxesSubplot:ylabel='Frequency'>"
      ]
     },
     "execution_count": 31,
     "metadata": {},
     "output_type": "execute_result"
    },
    {
     "data": {
      "image/png": "[encoded data removed]",
      "text/plain": [
       "<Figure size 864x432 with 1 Axes>"
      ]
     },
     "metadata": {
      "needs_background": "light"
     },
     "output_type": "display_data"
    }
   ],
   "source": [
    "airport_bins = np.arange(-10,100,3)\n",
    "hi_volume_airports_pivots.plot(kind='hist', bins=airport_bins, figsize=[12,6], alpha=.4, legend=True)"
   ]
  },
  {
   "cell_type": "code",
   "execution_count": 33,
   "metadata": {},
   "outputs": [
    {
     "data": {
      "text/plain": [
       "<AxesSubplot:>"
      ]
     },
     "execution_count": 33,
     "metadata": {},
     "output_type": "execute_result"
    },
    {
     "data": {
      "image/png": "[encoded data removed]",
      "text/plain": [
       "<Figure size 1152x576 with 1 Axes>"
      ]
     },
     "metadata": {
      "needs_background": "light"
     },
     "output_type": "display_data"
    }
   ],
   "source": [
    "hi_volume_airports_pivots = hi_volume_airports.pivot_table(index='fl_date', columns='origin', values='arr_delay')\n",
    "hi_volume_airports_pivots.plot(kind='box', figsize=[16,8])"
   ]
  },
  {
   "cell_type": "code",
   "execution_count": null,
   "metadata": {},
   "outputs": [],
   "source": []
  },
  {
   "cell_type": "code",
   "execution_count": null,
   "metadata": {},
   "outputs": [],
   "source": []
  },
  {
   "cell_type": "code",
   "execution_count": null,
   "metadata": {},
   "outputs": [],
   "source": []
  },
  {
   "cell_type": "code",
   "execution_count": null,
   "metadata": {},
   "outputs": [],
   "source": []
  },
  {
   "cell_type": "code",
   "execution_count": null,
   "metadata": {},
   "outputs": [],
   "source": []
  },
  {
   "cell_type": "code",
   "execution_count": null,
   "metadata": {},
   "outputs": [],
   "source": []
  },
  {
   "cell_type": "code",
   "execution_count": null,
   "metadata": {},
   "outputs": [],
   "source": []
  },
  {
   "cell_type": "code",
   "execution_count": null,
   "metadata": {},
   "outputs": [],
   "source": []
  },
  {
   "cell_type": "code",
   "execution_count": null,
   "metadata": {},
   "outputs": [],
   "source": []
  },
  {
   "cell_type": "code",
   "execution_count": null,
   "metadata": {},
   "outputs": [],
   "source": []
  },
  {
   "cell_type": "code",
   "execution_count": null,
   "metadata": {},
   "outputs": [],
   "source": []
  },
  {
   "cell_type": "code",
   "execution_count": null,
   "metadata": {},
   "outputs": [],
   "source": []
  }
 ],
 "metadata": {
  "kernelspec": {
   "display_name": "Python 3",
   "language": "python",
   "name": "python3"
  },
  "language_info": {
   "codemirror_mode": {
    "name": "ipython",
    "version": 3
   },
   "file_extension": ".py",
   "mimetype": "text/x-python",
   "name": "python",
   "nbconvert_exporter": "python",
   "pygments_lexer": "ipython3",
   "version": "3.8.5"
  },
  "toc": {
   "base_numbering": 1,
   "nav_menu": {},
   "number_sections": true,
   "sideBar": true,
   "skip_h1_title": false,
   "title_cell": "Table of Contents",
   "title_sidebar": "Contents",
   "toc_cell": false,
   "toc_position": {},
   "toc_section_display": true,
   "toc_window_display": false
  },
  "varInspector": {
   "cols": {
    "lenName": 16,
    "lenType": 16,
    "lenVar": 40
   },
   "kernels_config": {
    "python": {
     "delete_cmd_postfix": "",
     "delete_cmd_prefix": "del ",
     "library": "var_list.py",
     "varRefreshCmd": "print(var_dic_list())"
    },
    "r": {
     "delete_cmd_postfix": ") ",
     "delete_cmd_prefix": "rm(",
     "library": "var_list.r",
     "varRefreshCmd": "cat(var_dic_list()) "
    }
   },
   "types_to_exclude": [
    "module",
    "function",
    "builtin_function_or_method",
    "instance",
    "_Feature"
   ],
   "window_display": false
  }
 },
 "nbformat": 4,
 "nbformat_minor": 4
}
