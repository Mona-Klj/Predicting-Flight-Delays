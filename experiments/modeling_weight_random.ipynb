{
 "cells": [
  {
   "cell_type": "markdown",
   "metadata": {},
   "source": [
    "# Machine Learning\n",
    "\n",
    "In this file, instructions how to approach the challenge can be found."
   ]
  },
  {
   "cell_type": "markdown",
   "metadata": {},
   "source": [
    "We are going to work on different types of Machine Learning problems:\n",
    "\n",
    "- **Regression Problem**: The goal is to predict delay of flights.\n",
    "- **(Stretch) Multiclass Classification**: If the plane was delayed, we will predict what type of delay it is (will be).\n",
    "- **(Stretch) Binary Classification**: The goal is to predict if the flight will be cancelled."
   ]
  },
  {
   "cell_type": "code",
   "execution_count": 1,
   "metadata": {},
   "outputs": [
    {
     "name": "stderr",
     "output_type": "stream",
     "text": [
      "C:\\Users\\cfsui\\anaconda3\\lib\\site-packages\\xgboost\\compat.py:36: FutureWarning: pandas.Int64Index is deprecated and will be removed from pandas in a future version. Use pandas.Index with the appropriate dtype instead.\n",
      "  from pandas import MultiIndex, Int64Index\n"
     ]
    }
   ],
   "source": [
    "# import pandas\n",
    "import pandas as pd\n",
    "import numpy as np\n",
    "import copy\n",
    "\n",
    "import seaborn as sns\n",
    "import matplotlib.pyplot as plt\n",
    "\n",
    "from scipy import stats\n",
    "from sklearn.preprocessing import StandardScaler\n",
    "scaler = StandardScaler()\n",
    "from sklearn.decomposition import PCA\n",
    "\n",
    "from sklearn.model_selection import train_test_split, GridSearchCV, cross_validate, cross_val_score\n",
    "from sklearn.linear_model import LinearRegression, Ridge, Lasso\n",
    "from sklearn.ensemble import GradientBoostingRegressor, RandomForestRegressor\n",
    "from sklearn.svm import SVR\n",
    "from xgboost import XGBRegressor, XGBClassifier, plot_importance\n",
    "from sklearn.metrics import r2_score, mean_squared_error\n",
    "\n",
    "import warnings\n",
    "warnings.simplefilter(action='ignore', category=FutureWarning)"
   ]
  },
  {
   "cell_type": "markdown",
   "metadata": {},
   "source": [
    "### Read Preprocessed Data"
   ]
  },
  {
   "cell_type": "code",
   "execution_count": 2,
   "metadata": {},
   "outputs": [
    {
     "data": {
      "text/html": [
       "<div>\n",
       "<style scoped>\n",
       "    .dataframe tbody tr th:only-of-type {\n",
       "        vertical-align: middle;\n",
       "    }\n",
       "\n",
       "    .dataframe tbody tr th {\n",
       "        vertical-align: top;\n",
       "    }\n",
       "\n",
       "    .dataframe thead th {\n",
       "        text-align: right;\n",
       "    }\n",
       "</style>\n",
       "<table border=\"1\" class=\"dataframe\">\n",
       "  <thead>\n",
       "    <tr style=\"text-align: right;\">\n",
       "      <th></th>\n",
       "      <th>fl_date</th>\n",
       "      <th>op_unique_carrier</th>\n",
       "      <th>tail_num</th>\n",
       "      <th>op_carrier_fl_num</th>\n",
       "      <th>origin_airport_id</th>\n",
       "      <th>dest_airport_id</th>\n",
       "      <th>crs_dep_time</th>\n",
       "      <th>dep_time</th>\n",
       "      <th>dep_delay</th>\n",
       "      <th>taxi_out</th>\n",
       "      <th>...</th>\n",
       "      <th>arr_min_cos</th>\n",
       "      <th>arr_hr_sin</th>\n",
       "      <th>arr_hr_cos</th>\n",
       "      <th>fl_mnth_sin</th>\n",
       "      <th>fl_mnth_cos</th>\n",
       "      <th>fl_wkday_sin</th>\n",
       "      <th>fl_wkday_cos</th>\n",
       "      <th>num_flights_6hr</th>\n",
       "      <th>inbound_fl_num</th>\n",
       "      <th>inbound_fl</th>\n",
       "    </tr>\n",
       "  </thead>\n",
       "  <tbody>\n",
       "    <tr>\n",
       "      <th>0</th>\n",
       "      <td>2018-01-01</td>\n",
       "      <td>YV</td>\n",
       "      <td>N89308</td>\n",
       "      <td>6246</td>\n",
       "      <td>12992</td>\n",
       "      <td>12266</td>\n",
       "      <td>18:55:00</td>\n",
       "      <td>1849.0</td>\n",
       "      <td>-6.0</td>\n",
       "      <td>12.0</td>\n",
       "      <td>...</td>\n",
       "      <td>0.608761</td>\n",
       "      <td>-0.866025</td>\n",
       "      <td>0.500000</td>\n",
       "      <td>0.0</td>\n",
       "      <td>1.0</td>\n",
       "      <td>-0.781831</td>\n",
       "      <td>0.62349</td>\n",
       "      <td>1</td>\n",
       "      <td>0</td>\n",
       "      <td>0</td>\n",
       "    </tr>\n",
       "    <tr>\n",
       "      <th>1</th>\n",
       "      <td>2018-01-01</td>\n",
       "      <td>YV</td>\n",
       "      <td>N88331</td>\n",
       "      <td>6183</td>\n",
       "      <td>13158</td>\n",
       "      <td>12266</td>\n",
       "      <td>09:45:00</td>\n",
       "      <td>1013.0</td>\n",
       "      <td>28.0</td>\n",
       "      <td>9.0</td>\n",
       "      <td>...</td>\n",
       "      <td>-0.980785</td>\n",
       "      <td>0.258819</td>\n",
       "      <td>-0.965926</td>\n",
       "      <td>0.0</td>\n",
       "      <td>1.0</td>\n",
       "      <td>-0.781831</td>\n",
       "      <td>0.62349</td>\n",
       "      <td>1</td>\n",
       "      <td>0</td>\n",
       "      <td>0</td>\n",
       "    </tr>\n",
       "    <tr>\n",
       "      <th>2</th>\n",
       "      <td>2018-01-01</td>\n",
       "      <td>YV</td>\n",
       "      <td>N519LR</td>\n",
       "      <td>6034</td>\n",
       "      <td>13198</td>\n",
       "      <td>12264</td>\n",
       "      <td>12:20:00</td>\n",
       "      <td>1217.0</td>\n",
       "      <td>-3.0</td>\n",
       "      <td>11.0</td>\n",
       "      <td>...</td>\n",
       "      <td>-0.587785</td>\n",
       "      <td>-0.707107</td>\n",
       "      <td>-0.707107</td>\n",
       "      <td>0.0</td>\n",
       "      <td>1.0</td>\n",
       "      <td>-0.781831</td>\n",
       "      <td>0.62349</td>\n",
       "      <td>3</td>\n",
       "      <td>0</td>\n",
       "      <td>0</td>\n",
       "    </tr>\n",
       "  </tbody>\n",
       "</table>\n",
       "<p>3 rows × 62 columns</p>\n",
       "</div>"
      ],
      "text/plain": [
       "      fl_date op_unique_carrier tail_num  op_carrier_fl_num  \\\n",
       "0  2018-01-01                YV   N89308               6246   \n",
       "1  2018-01-01                YV   N88331               6183   \n",
       "2  2018-01-01                YV   N519LR               6034   \n",
       "\n",
       "   origin_airport_id  dest_airport_id crs_dep_time  dep_time  dep_delay  \\\n",
       "0              12992            12266     18:55:00    1849.0       -6.0   \n",
       "1              13158            12266     09:45:00    1013.0       28.0   \n",
       "2              13198            12264     12:20:00    1217.0       -3.0   \n",
       "\n",
       "   taxi_out  ...  arr_min_cos  arr_hr_sin  arr_hr_cos fl_mnth_sin  \\\n",
       "0      12.0  ...     0.608761   -0.866025    0.500000         0.0   \n",
       "1       9.0  ...    -0.980785    0.258819   -0.965926         0.0   \n",
       "2      11.0  ...    -0.587785   -0.707107   -0.707107         0.0   \n",
       "\n",
       "   fl_mnth_cos  fl_wkday_sin  fl_wkday_cos num_flights_6hr  inbound_fl_num  \\\n",
       "0          1.0     -0.781831       0.62349               1               0   \n",
       "1          1.0     -0.781831       0.62349               1               0   \n",
       "2          1.0     -0.781831       0.62349               3               0   \n",
       "\n",
       "   inbound_fl  \n",
       "0           0  \n",
       "1           0  \n",
       "2           0  \n",
       "\n",
       "[3 rows x 62 columns]"
      ]
     },
     "execution_count": 2,
     "metadata": {},
     "output_type": "execute_result"
    }
   ],
   "source": [
    "# load data\n",
    "df = pd.read_csv(\"data/flights_preprocessed_62.csv\", index_col=0)\n",
    "df.head(3)"
   ]
  },
  {
   "cell_type": "markdown",
   "metadata": {},
   "source": [
    "#### More Feature Engineering"
   ]
  },
  {
   "cell_type": "markdown",
   "metadata": {},
   "source": [
    "##### Transform some new features by using 'arr_delay'"
   ]
  },
  {
   "cell_type": "code",
   "execution_count": 3,
   "metadata": {},
   "outputs": [],
   "source": [
    "# Split traing and test set first\n",
    "# In training set, I'm going to add more feature generated by combining 'arr_delay' and some categorial features\n",
    "# For test set, same features as above mentioned should be added with values computed from training set\n",
    "# i.e. DON NOT touch target variable in test set from now on\n",
    "df_train, df_test = train_test_split(df, test_size=0.3)"
   ]
  },
  {
   "cell_type": "code",
   "execution_count": 4,
   "metadata": {},
   "outputs": [],
   "source": [
    "# calculate how many times has delay ('arr_delay' > 15) happened on each carrier/flight_num/tail_num/carrier/origin_airport/dest_airport/origin_city/origin_state/dest_city/dest_state \n",
    "# calculate average/median delay time of each ... (same as above)\n",
    "# merge with df\n",
    "\n",
    "tran_features = ['op_unique_carrier', 'tail_num',  'op_carrier_fl_num', 'origin_airport_id', 'dest_airport_id', 'origin_city', 'origin_state', 'dest_city', 'dest_state']\n",
    "\n",
    "for col in tran_features:\n",
    "    # delay count group by col\n",
    "    feature_delay_ct = df_train[df_train['arr_delay'] > 15][[col, 'arr_delay']].groupby(col, as_index=False).count().rename(columns={'arr_delay': f'{col}_delayct'})\n",
    "    df_train = pd.merge(df_train, feature_delay_ct, on=col, how='left').fillna(0)\n",
    "    # average delay time group by col\n",
    "    feature_delay_avg = df[[col, 'arr_delay']].groupby(col, as_index=False).mean().rename(columns={'arr_delay': f'{col}_delayavg'})\n",
    "    df_train = pd.merge(df_train, feature_delay_avg, on=col, how='left').fillna(0)\n",
    "    # median delay time group by col\n",
    "    feature_delay_median = df[[col, 'arr_delay']].groupby(col, as_index=False).median().rename(columns={'arr_delay': f'{col}_delaymedian'})\n",
    "    df_train = pd.merge(df_train, feature_delay_median, on=col, how='left').fillna(0)"
   ]
  },
  {
   "cell_type": "code",
   "execution_count": 5,
   "metadata": {},
   "outputs": [
    {
     "data": {
      "text/html": [
       "<div>\n",
       "<style scoped>\n",
       "    .dataframe tbody tr th:only-of-type {\n",
       "        vertical-align: middle;\n",
       "    }\n",
       "\n",
       "    .dataframe tbody tr th {\n",
       "        vertical-align: top;\n",
       "    }\n",
       "\n",
       "    .dataframe thead th {\n",
       "        text-align: right;\n",
       "    }\n",
       "</style>\n",
       "<table border=\"1\" class=\"dataframe\">\n",
       "  <thead>\n",
       "    <tr style=\"text-align: right;\">\n",
       "      <th></th>\n",
       "      <th>fl_date</th>\n",
       "      <th>op_unique_carrier</th>\n",
       "      <th>tail_num</th>\n",
       "      <th>op_carrier_fl_num</th>\n",
       "      <th>origin_airport_id</th>\n",
       "      <th>dest_airport_id</th>\n",
       "      <th>crs_dep_time</th>\n",
       "      <th>dep_time</th>\n",
       "      <th>dep_delay</th>\n",
       "      <th>taxi_out</th>\n",
       "      <th>...</th>\n",
       "      <th>origin_city_delaymedian</th>\n",
       "      <th>origin_state_delayct</th>\n",
       "      <th>origin_state_delayavg</th>\n",
       "      <th>origin_state_delaymedian</th>\n",
       "      <th>dest_city_delayct</th>\n",
       "      <th>dest_city_delayavg</th>\n",
       "      <th>dest_city_delaymedian</th>\n",
       "      <th>dest_state_delayct</th>\n",
       "      <th>dest_state_delayavg</th>\n",
       "      <th>dest_state_delaymedian</th>\n",
       "    </tr>\n",
       "  </thead>\n",
       "  <tbody>\n",
       "    <tr>\n",
       "      <th>0</th>\n",
       "      <td>2019-07-22</td>\n",
       "      <td>OO</td>\n",
       "      <td>N8965E</td>\n",
       "      <td>4291</td>\n",
       "      <td>11433</td>\n",
       "      <td>12335</td>\n",
       "      <td>10:00:00</td>\n",
       "      <td>952.0</td>\n",
       "      <td>-8.0</td>\n",
       "      <td>12.0</td>\n",
       "      <td>...</td>\n",
       "      <td>-7.0</td>\n",
       "      <td>51.0</td>\n",
       "      <td>4.155963</td>\n",
       "      <td>-8.0</td>\n",
       "      <td>0.0</td>\n",
       "      <td>-19.000000</td>\n",
       "      <td>-19.0</td>\n",
       "      <td>42.0</td>\n",
       "      <td>6.452785</td>\n",
       "      <td>-8.0</td>\n",
       "    </tr>\n",
       "    <tr>\n",
       "      <th>1</th>\n",
       "      <td>2018-12-13</td>\n",
       "      <td>G7</td>\n",
       "      <td>N367CA</td>\n",
       "      <td>6208</td>\n",
       "      <td>13244</td>\n",
       "      <td>11433</td>\n",
       "      <td>11:56:00</td>\n",
       "      <td>1150.0</td>\n",
       "      <td>-6.0</td>\n",
       "      <td>11.0</td>\n",
       "      <td>...</td>\n",
       "      <td>-10.0</td>\n",
       "      <td>21.0</td>\n",
       "      <td>0.412037</td>\n",
       "      <td>-9.0</td>\n",
       "      <td>32.0</td>\n",
       "      <td>6.308970</td>\n",
       "      <td>-9.0</td>\n",
       "      <td>42.0</td>\n",
       "      <td>6.452785</td>\n",
       "      <td>-8.0</td>\n",
       "    </tr>\n",
       "    <tr>\n",
       "      <th>2</th>\n",
       "      <td>2019-05-22</td>\n",
       "      <td>AS</td>\n",
       "      <td>N586AS</td>\n",
       "      <td>659</td>\n",
       "      <td>14107</td>\n",
       "      <td>14057</td>\n",
       "      <td>11:50:00</td>\n",
       "      <td>1219.0</td>\n",
       "      <td>29.0</td>\n",
       "      <td>12.0</td>\n",
       "      <td>...</td>\n",
       "      <td>-5.0</td>\n",
       "      <td>44.0</td>\n",
       "      <td>5.767810</td>\n",
       "      <td>-5.0</td>\n",
       "      <td>21.0</td>\n",
       "      <td>0.936842</td>\n",
       "      <td>-7.0</td>\n",
       "      <td>20.0</td>\n",
       "      <td>-1.122642</td>\n",
       "      <td>-7.0</td>\n",
       "    </tr>\n",
       "    <tr>\n",
       "      <th>3</th>\n",
       "      <td>2019-01-09</td>\n",
       "      <td>WN</td>\n",
       "      <td>N8633A</td>\n",
       "      <td>5199</td>\n",
       "      <td>14831</td>\n",
       "      <td>10423</td>\n",
       "      <td>13:20:00</td>\n",
       "      <td>1319.0</td>\n",
       "      <td>-1.0</td>\n",
       "      <td>10.0</td>\n",
       "      <td>...</td>\n",
       "      <td>-5.0</td>\n",
       "      <td>198.0</td>\n",
       "      <td>1.533220</td>\n",
       "      <td>-6.0</td>\n",
       "      <td>12.0</td>\n",
       "      <td>3.111111</td>\n",
       "      <td>-7.0</td>\n",
       "      <td>182.0</td>\n",
       "      <td>4.307997</td>\n",
       "      <td>-6.0</td>\n",
       "    </tr>\n",
       "    <tr>\n",
       "      <th>4</th>\n",
       "      <td>2018-11-11</td>\n",
       "      <td>B6</td>\n",
       "      <td>N358JB</td>\n",
       "      <td>1105</td>\n",
       "      <td>12478</td>\n",
       "      <td>13930</td>\n",
       "      <td>07:59:00</td>\n",
       "      <td>754.0</td>\n",
       "      <td>-5.0</td>\n",
       "      <td>12.0</td>\n",
       "      <td>...</td>\n",
       "      <td>-11.0</td>\n",
       "      <td>98.0</td>\n",
       "      <td>4.634615</td>\n",
       "      <td>-9.5</td>\n",
       "      <td>128.0</td>\n",
       "      <td>10.623644</td>\n",
       "      <td>-6.0</td>\n",
       "      <td>130.0</td>\n",
       "      <td>9.996878</td>\n",
       "      <td>-6.0</td>\n",
       "    </tr>\n",
       "  </tbody>\n",
       "</table>\n",
       "<p>5 rows × 89 columns</p>\n",
       "</div>"
      ],
      "text/plain": [
       "      fl_date op_unique_carrier tail_num  op_carrier_fl_num  \\\n",
       "0  2019-07-22                OO   N8965E               4291   \n",
       "1  2018-12-13                G7   N367CA               6208   \n",
       "2  2019-05-22                AS   N586AS                659   \n",
       "3  2019-01-09                WN   N8633A               5199   \n",
       "4  2018-11-11                B6   N358JB               1105   \n",
       "\n",
       "   origin_airport_id  dest_airport_id crs_dep_time  dep_time  dep_delay  \\\n",
       "0              11433            12335     10:00:00     952.0       -8.0   \n",
       "1              13244            11433     11:56:00    1150.0       -6.0   \n",
       "2              14107            14057     11:50:00    1219.0       29.0   \n",
       "3              14831            10423     13:20:00    1319.0       -1.0   \n",
       "4              12478            13930     07:59:00     754.0       -5.0   \n",
       "\n",
       "   taxi_out  ...  origin_city_delaymedian  origin_state_delayct  \\\n",
       "0      12.0  ...                     -7.0                  51.0   \n",
       "1      11.0  ...                    -10.0                  21.0   \n",
       "2      12.0  ...                     -5.0                  44.0   \n",
       "3      10.0  ...                     -5.0                 198.0   \n",
       "4      12.0  ...                    -11.0                  98.0   \n",
       "\n",
       "   origin_state_delayavg origin_state_delaymedian  dest_city_delayct  \\\n",
       "0               4.155963                     -8.0                0.0   \n",
       "1               0.412037                     -9.0               32.0   \n",
       "2               5.767810                     -5.0               21.0   \n",
       "3               1.533220                     -6.0               12.0   \n",
       "4               4.634615                     -9.5              128.0   \n",
       "\n",
       "   dest_city_delayavg  dest_city_delaymedian dest_state_delayct  \\\n",
       "0          -19.000000                  -19.0               42.0   \n",
       "1            6.308970                   -9.0               42.0   \n",
       "2            0.936842                   -7.0               20.0   \n",
       "3            3.111111                   -7.0              182.0   \n",
       "4           10.623644                   -6.0              130.0   \n",
       "\n",
       "   dest_state_delayavg  dest_state_delaymedian  \n",
       "0             6.452785                    -8.0  \n",
       "1             6.452785                    -8.0  \n",
       "2            -1.122642                    -7.0  \n",
       "3             4.307997                    -6.0  \n",
       "4             9.996878                    -6.0  \n",
       "\n",
       "[5 rows x 89 columns]"
      ]
     },
     "execution_count": 5,
     "metadata": {},
     "output_type": "execute_result"
    }
   ],
   "source": [
    "df_train.head()"
   ]
  },
  {
   "cell_type": "code",
   "execution_count": 6,
   "metadata": {},
   "outputs": [],
   "source": [
    "# reset dtypes\n",
    "categorical_features = ['op_unique_carrier',\n",
    "                        'tail_num', \n",
    "                        'op_carrier_fl_num',\n",
    "                        'origin_airport_id',\n",
    "                        'dest_airport_id',\n",
    "                        # 'share_code',\n",
    "                        'origin_city',\n",
    "                        'origin_state',\n",
    "                        'dest_city',\n",
    "                        'dest_state',\n",
    "                        'fl_month',\n",
    "                        'fl_weekday',\n",
    "                        'season',\n",
    "                        'inbound_fl']\n",
    "\n",
    "df_train[categorical_features] = df_train[categorical_features].astype('str')\n",
    "df_test[categorical_features] =df_test[categorical_features].astype('str')"
   ]
  },
  {
   "cell_type": "code",
   "execution_count": 7,
   "metadata": {},
   "outputs": [
    {
     "data": {
      "text/plain": [
       "(4547, 62)"
      ]
     },
     "execution_count": 7,
     "metadata": {},
     "output_type": "execute_result"
    }
   ],
   "source": [
    "df_test.shape"
   ]
  },
  {
   "cell_type": "code",
   "execution_count": 8,
   "metadata": {},
   "outputs": [],
   "source": [
    "# add features to test set with values computed by training set\n",
    "# NOTICE: THE VALUES ADDED HERE ARE STILL FROM TRAINING SET\n",
    "# for example, flight No.#### used to have 7 delays in training set, then add 7 to same flight No. in test set\n",
    "# It's like assigning weight to categories (assign weight of 7 to flight No.##### in this example)\n",
    "\n",
    "origin_new = [['op_unique_carrier', 'op_unique_carrier_delayct', 'op_unique_carrier_delaymedian', 'op_unique_carrier_delayavg'],\n",
    "              ['tail_num', 'tail_num_delayct', 'tail_num_delaymedian', 'tail_num_delayavg'],\n",
    "              ['op_carrier_fl_num', 'op_carrier_fl_num_delayct', 'op_carrier_fl_num_delaymedian', 'op_carrier_fl_num_delayavg'],\n",
    "              ['origin_airport_id', 'origin_airport_id_delayct', 'origin_airport_id_delaymedian', 'origin_airport_id_delayavg'],\n",
    "              ['dest_airport_id', 'dest_airport_id_delayct', 'dest_airport_id_delaymedian', 'dest_airport_id_delayavg'],\n",
    "              ['origin_city', 'origin_city_delayct', 'origin_city_delaymedian', 'origin_city_delayavg'],\n",
    "              ['origin_state', 'origin_state_delayct', 'origin_state_delaymedian', 'origin_state_delayavg'],\n",
    "              ['dest_city', 'dest_city_delayct', 'dest_city_delaymedian', 'dest_city_delayavg'],\n",
    "              ['dest_state', 'dest_state_delayct', 'dest_state_delaymedian', 'dest_state_delayavg']]\n",
    "              \n",
    "for cols in origin_new:\n",
    "    df_test = pd.merge(df_test, df_train[cols].drop_duplicates(), on=cols[0], how='left').fillna(0)"
   ]
  },
  {
   "cell_type": "code",
   "execution_count": 9,
   "metadata": {},
   "outputs": [
    {
     "data": {
      "text/plain": [
       "(4547, 89)"
      ]
     },
     "execution_count": 9,
     "metadata": {},
     "output_type": "execute_result"
    }
   ],
   "source": [
    "df_test.shape"
   ]
  },
  {
   "cell_type": "markdown",
   "metadata": {},
   "source": [
    "#### Transform Target Variable"
   ]
  },
  {
   "cell_type": "code",
   "execution_count": 10,
   "metadata": {},
   "outputs": [
    {
     "data": {
      "image/png": "[encoded data removed]",
      "text/plain": [
       "<Figure size 432x288 with 1 Axes>"
      ]
     },
     "metadata": {
      "needs_background": "light"
     },
     "output_type": "display_data"
    }
   ],
   "source": [
    "# target variable distribution\n",
    "# left skewed with long tail\n",
    "target_train = df_train['arr_delay']\n",
    "target_test = df_test['arr_delay']\n",
    "sns.histplot(data=target_train)\n",
    "plt.show()"
   ]
  },
  {
   "cell_type": "code",
   "execution_count": 11,
   "metadata": {},
   "outputs": [
    {
     "data": {
      "image/png": "[encoded data removed]",
      "text/plain": [
       "<Figure size 432x288 with 1 Axes>"
      ]
     },
     "metadata": {
      "needs_background": "light"
     },
     "output_type": "display_data"
    }
   ],
   "source": [
    "# target variable distribution after log transformation in training set\n",
    "# If use transformed target variable to train, when evaluate prediction results, REMEMBER to transform predicted value back first\n",
    "diff = df['arr_delay'].min() - 10 # min value of whole dataset\n",
    "target_train_log = np.log(target_train - diff)\n",
    "sns.histplot(data=target_train_log)\n",
    "plt.show()"
   ]
  },
  {
   "cell_type": "markdown",
   "metadata": {
    "tags": []
   },
   "source": [
    "## Main Task: Regression Problem"
   ]
  },
  {
   "cell_type": "markdown",
   "metadata": {},
   "source": [
    "The target variable is **ARR_DELAY**. We need to be careful which columns to use and which don't. For example, DEP_DELAY is going to be the perfect predictor, but we can't use it because in real-life scenario, we want to predict the delay before the flight takes of --> We can use average delay from earlier days but not the one from the actual flight we predict.  \n",
    "\n",
    "For example, variables **CARRIER_DELAY, WEATHER_DELAY, NAS_DELAY, SECURITY_DELAY, LATE_AIRCRAFT_DELAY** shouldn't be used directly as predictors as well. However, we can create various transformations from earlier values.\n",
    "\n",
    "We will be evaluating your models by predicting the ARR_DELAY for all flights **1 week in advance**."
   ]
  },
  {
   "cell_type": "markdown",
   "metadata": {
    "tags": []
   },
   "source": [
    "### Feature Selection / Dimensionality Reduction"
   ]
  },
  {
   "cell_type": "markdown",
   "metadata": {},
   "source": [
    "We need to apply different selection techniques to find out which one will be the best for our problems.\n",
    "\n",
    "- Original Features vs. PCA conponents?"
   ]
  },
  {
   "cell_type": "markdown",
   "metadata": {
    "tags": []
   },
   "source": [
    "### Modeling"
   ]
  },
  {
   "cell_type": "markdown",
   "metadata": {},
   "source": [
    "Use different ML techniques to predict each problem.\n",
    "\n",
    "- linear / logistic / multinomial logistic regression\n",
    "- Naive Bayes\n",
    "- Random Forest\n",
    "- SVM\n",
    "- XGBoost\n",
    "- The ensemble of your own choice"
   ]
  },
  {
   "cell_type": "code",
   "execution_count": 12,
   "metadata": {
    "tags": []
   },
   "outputs": [],
   "source": [
    "# scores = []\n",
    "# for f in features:\n",
    "#     X = pd.get_dummies(data=data[['dep_min_sin', 'dep_min_cos', 'fl_month', 'op_unique_carrier', 'inbound_fl_num', 'arr_min_of_day', 'crs_elapsed_time', 'distance', 'fl_weekday', f]], drop_first=True)\n",
    "#     y = y_log\n",
    "    \n",
    "#     X_scaled = scaler.fit_transform(X)\n",
    "#     y_scaled = scaler.fit_transform(y)\n",
    "\n",
    "#     X_train, X_test, y_train, y_test = train_test_split(X_scaled, y_scaled, train_size=0.5, test_size=0.3, random_state=88)\n",
    "    \n",
    "#     rr = cross_validate(estimator=Ridge(alpha=0.1),\n",
    "#                         X=X_train,\n",
    "#                         y=y_train,\n",
    "#                         cv=5,\n",
    "#                         scoring='r2',\n",
    "#                         return_train_score=True)\n",
    "    \n",
    "#     scores.append([f, rr['test_score'].mean()])"
   ]
  },
  {
   "cell_type": "code",
   "execution_count": 13,
   "metadata": {
    "tags": []
   },
   "outputs": [],
   "source": [
    "# score = pd.DataFrame(scores)\n",
    "# score[score[1]==score[1].max()]"
   ]
  },
  {
   "cell_type": "code",
   "execution_count": 14,
   "metadata": {},
   "outputs": [],
   "source": [
    "# X = pd.get_dummies(data=data[['dep_min_sin', 'dep_min_cos', 'fl_month', 'op_unique_carrier', 'inbound_fl_num', 'arr_min_of_day', 'crs_elapsed_time', 'distance', 'fl_wkday_sin', 'fl_wkday_cos']], drop_first=True)\n",
    "# y = y_log\n",
    "    \n",
    "# X_scaled = scaler.fit_transform(X)\n",
    "# y_scaled = scaler.fit_transform(y)\n",
    "\n",
    "# X_train, X_test, y_train, y_test = train_test_split(X_scaled, y_scaled, train_size=0.5, test_size=0.3, random_state=88)\n",
    "    \n",
    "# rr = cross_validate(estimator=Ridge(alpha=0.1),\n",
    "#                         X=X_train,\n",
    "#                         y=y_train,\n",
    "#                         cv=5,\n",
    "#                         scoring='r2',\n",
    "#                         return_train_score=True)\n",
    "    \n",
    "# rr['test_score']\n",
    "# rr['test_score'].mean()"
   ]
  },
  {
   "cell_type": "code",
   "execution_count": null,
   "metadata": {},
   "outputs": [],
   "source": []
  },
  {
   "cell_type": "code",
   "execution_count": null,
   "metadata": {},
   "outputs": [],
   "source": []
  },
  {
   "cell_type": "code",
   "execution_count": null,
   "metadata": {},
   "outputs": [],
   "source": []
  },
  {
   "cell_type": "markdown",
   "metadata": {},
   "source": [
    "#### XGBoost"
   ]
  },
  {
   "cell_type": "code",
   "execution_count": 15,
   "metadata": {},
   "outputs": [],
   "source": [
    "avail_features = [\n",
    "    # 'fl_date',\n",
    "    # 'op_unique_carrier',\n",
    "    # 'tail_num', \n",
    "    # 'op_carrier_fl_num',\n",
    "    # 'origin_airport_id',\n",
    "    # 'dest_airport_id',\n",
    "    # 'crs_dep_time',\n",
    "    # 'crs_arr_time',\n",
    "    # 'crs_elapsed_time',\n",
    "    'distance',\n",
    "    # 'share_code',\n",
    "    # 'origin_city',\n",
    "    # 'origin_state',\n",
    "    # 'dest_city',\n",
    "    # 'dest_state',\n",
    "    # 'arr_date',\n",
    "    # 'dep_datetime',\n",
    "    # 'arr_datetime',\n",
    "    # 'fl_month',\n",
    "    # 'fl_weekday',\n",
    "    # 'season',\n",
    "    # 'day_num_of_flights',\n",
    "    'num_flights_6hr',\n",
    "    'inbound_fl_num',\n",
    "    # 'inbound_fl',\n",
    "    # 'dep_min_of_day',\n",
    "    # 'arr_min_of_day',\n",
    "    # 'dep_hr',\n",
    "    # 'arr_hr',\n",
    "    'arr_min_sin',\n",
    "    'arr_min_cos',\n",
    "    # 'arr_hr_sin',\n",
    "    # 'arr_hr_cos',\n",
    "    'dep_min_sin', \n",
    "    'dep_min_cos', \n",
    "    # 'dep_hr_sin', \n",
    "    # 'dep_hr_cos',\n",
    "    'fl_mnth_sin', \n",
    "    'fl_mnth_cos',\n",
    "    'fl_wkday_sin',\n",
    "    'fl_wkday_cos',\n",
    "    'op_unique_carrier_delayct',\n",
    "    'op_unique_carrier_delaymedian',\n",
    "    # 'op_unique_carrier_delayavg',\n",
    "    # 'tail_num_delayct', \n",
    "    # 'tail_num_delaymedian',\n",
    "    'tail_num_delayavg',\n",
    "    # 'op_carrier_fl_num_delayct',\n",
    "    # 'op_carrier_fl_num_delaymedian', \n",
    "    'op_carrier_fl_num_delayavg',\n",
    "    'origin_airport_id_delayct', \n",
    "    # 'origin_airport_id_delaymedian',\n",
    "    'origin_airport_id_delayavg',\n",
    "    'dest_airport_id_delayct',\n",
    "    # 'dest_airport_id_delaymedian',\n",
    "    'dest_airport_id_delayavg',\n",
    "    'origin_city_delayct',\n",
    "    'origin_city_delaymedian', \n",
    "    # 'origin_city_delayavg',\n",
    "    'origin_state_delayct', \n",
    "    'origin_state_delaymedian',\n",
    "    # 'origin_state_delayavg',\n",
    "    'dest_city_delayct', \n",
    "    'dest_city_delaymedian',\n",
    "    # 'dest_city_delayavg',\n",
    "    # 'dest_state_delayct',\n",
    "    # 'dest_state_delaymedian',\n",
    "    'dest_state_delayavg'\n",
    "]"
   ]
  },
  {
   "cell_type": "code",
   "execution_count": 28,
   "metadata": {},
   "outputs": [],
   "source": [
    "X_train = df_train[avail_features]\n",
    "# y_train = target_train_log\n",
    "y_train = target_train\n",
    "X_test = df_test[avail_features]\n",
    "y_test = target_test\n",
    "\n",
    "xg_reg = XGBRegressor(objective ='reg:squarederror',\n",
    "                      learning_rate = 0.1,\n",
    "                      max_depth = 6,\n",
    "                      # reg_lambda = 10,\n",
    "                      n_estimators = 300)\n",
    "xg_reg.fit(X_train, y_train)\n",
    "y_pred = xg_reg.predict(X_test)\n",
    "# y_pred = np.exp(xg_reg.predict(X_test)) + diff"
   ]
  },
  {
   "cell_type": "code",
   "execution_count": 29,
   "metadata": {},
   "outputs": [
    {
     "data": {
      "text/plain": [
       "0.9530710560765032"
      ]
     },
     "execution_count": 29,
     "metadata": {},
     "output_type": "execute_result"
    }
   ],
   "source": [
    "xg_reg.score(X_train, y_train)"
   ]
  },
  {
   "cell_type": "code",
   "execution_count": 30,
   "metadata": {},
   "outputs": [
    {
     "data": {
      "text/plain": [
       "0.49758117556661596"
      ]
     },
     "execution_count": 30,
     "metadata": {},
     "output_type": "execute_result"
    }
   ],
   "source": [
    "xg_reg.score(X_test, y_test)"
   ]
  },
  {
   "cell_type": "code",
   "execution_count": 31,
   "metadata": {},
   "outputs": [
    {
     "data": {
      "text/plain": [
       "0.49758117556661596"
      ]
     },
     "execution_count": 31,
     "metadata": {},
     "output_type": "execute_result"
    }
   ],
   "source": [
    "## Best Score got so far\n",
    "r2_score(y_test, y_pred)"
   ]
  },
  {
   "cell_type": "markdown",
   "metadata": {},
   "source": [
    "##### PCA"
   ]
  },
  {
   "cell_type": "code",
   "execution_count": 20,
   "metadata": {},
   "outputs": [],
   "source": [
    "pca_features = [\n",
    "    # 'op_unique_carrier',\n",
    "    # 'tail_num'.\n",
    "    # 'op_carrier_fl_num',\n",
    "    # 'origin_airport_id',\n",
    "    # 'dest_airport_id',\n",
    "    'crs_elapsed_time',\n",
    "    'distance',\n",
    "    'share_code',\n",
    "    # 'origin_city',\n",
    "    # 'origin_state',\n",
    "    # 'dest_city',\n",
    "    # 'dest_state',\n",
    "    'fl_month',\n",
    "    'fl_weekday',\n",
    "    'season',\n",
    "    'day_num_of_flights',\n",
    "    'num_flights_6hr',\n",
    "    'inbound_fl_num',\n",
    "    'inbound_fl',\n",
    "    'dep_min_of_day',\n",
    "    'arr_min_of_day',\n",
    "    'dep_hr',\n",
    "    'arr_hr',\n",
    "    'arr_hr_sin',\n",
    "    'arr_hr_cos',\n",
    "    'arr_min_sin',\n",
    "    'arr_min_cos',\n",
    "    'dep_min_sin',\n",
    "    'dep_min_cos',\n",
    "    'dep_hr_sin',\n",
    "    'dep_hr_cos',\n",
    "    'fl_mnth_sin',\n",
    "    'fl_mnth_cos',\n",
    "    'fl_wkday_sin',\n",
    "    'fl_wkday_cos',\n",
    "    'op_unique_carrier_delayct',\n",
    "    'op_unique_carrier_delaymedian',\n",
    "    'tail_num_delayct',\n",
    "    'tail_num_delaymedian',\n",
    "    'op_carrier_fl_num_delayct',\n",
    "    'op_carrier_fl_num_delaymedian',\n",
    "    'origin_airport_id_delayct',\n",
    "    'origin_airport_id_delaymedian',\n",
    "    'dest_airport_id_delayct',\n",
    "    'dest_airport_id_delaymedian',\n",
    "    'origin_city_delayct',\n",
    "    'origin_city_delaymedian',\n",
    "    'origin_state_delayct',\n",
    "    'origin_state_delaymedian',\n",
    "    'dest_city_delayct',\n",
    "    'dest_city_delaymedian',\n",
    "    'dest_state_delayct',\n",
    "    'dest_state_delaymedian'\n",
    "]"
   ]
  },
  {
   "cell_type": "code",
   "execution_count": 21,
   "metadata": {},
   "outputs": [
    {
     "data": {
      "text/plain": [
       "10609"
      ]
     },
     "execution_count": 21,
     "metadata": {},
     "output_type": "execute_result"
    }
   ],
   "source": [
    "df_X = pd.concat([df_train[pca_features], df_test[pca_features]])\n",
    "df_train.shape[0]"
   ]
  },
  {
   "cell_type": "code",
   "execution_count": 25,
   "metadata": {},
   "outputs": [],
   "source": [
    "X_scaled = scaler.fit_transform(df_X)\n",
    "\n",
    "pca = PCA(n_components='mle')\n",
    "pca.fit(X_scaled)\n",
    "X_pca = pca.transform(X_scaled)"
   ]
  },
  {
   "cell_type": "code",
   "execution_count": 26,
   "metadata": {},
   "outputs": [],
   "source": [
    "X_scaled_train = X_pca[:10609, :]\n",
    "X_scaled_test = X_pca[10609:, :]\n",
    "y_train = target_train_log\n",
    "y_test = target_test\n",
    "\n",
    "xg_reg = XGBRegressor(objective ='reg:squarederror',\n",
    "                      learning_rate = 0.1,\n",
    "                      max_depth = 6,\n",
    "                      # reg_lambda = 10,\n",
    "                      n_estimators = 300)\n",
    "xg_reg.fit(X_scaled_train, y_train)\n",
    "# y_pred = xg_reg.predict(X_test)\n",
    "y_pred = np.exp(xg_reg.predict(X_scaled_test)) + diff"
   ]
  },
  {
   "cell_type": "code",
   "execution_count": 27,
   "metadata": {},
   "outputs": [
    {
     "data": {
      "text/plain": [
       "0.11846731863060067"
      ]
     },
     "execution_count": 27,
     "metadata": {},
     "output_type": "execute_result"
    }
   ],
   "source": [
    "r2_score(y_test, y_pred)"
   ]
  },
  {
   "cell_type": "code",
   "execution_count": 43,
   "metadata": {},
   "outputs": [],
   "source": [
    "# features = [\n",
    "#     # 'op_unique_carrier',\n",
    "#     # 'tail_num'.\n",
    "#     # 'op_carrier_fl_num',\n",
    "#     # 'origin_airport_id',\n",
    "#     # 'dest_airport_id',\n",
    "#     # 'crs_elapsed_time',\n",
    "#     'distance',\n",
    "#     'share_code',\n",
    "#     # 'origin_city',\n",
    "#     # 'origin_state',\n",
    "#     # 'dest_city',\n",
    "#     # 'dest_state',\n",
    "#     # 'fl_month',\n",
    "#     # 'fl_weekday',\n",
    "#     # 'season',\n",
    "#     # 'day_num_of_flights',\n",
    "#     # 'num_flights_6hr',\n",
    "#     # 'inbound_fl_num',\n",
    "#     # 'inbound_fl',\n",
    "#     # 'dep_min_of_day',\n",
    "#     # 'arr_min_of_day',\n",
    "#     # 'dep_hr',\n",
    "#     # 'arr_hr',\n",
    "#     # 'arr_hr_sin',\n",
    "#     # 'arr_hr_cos',\n",
    "#     # 'arr_min_sin',\n",
    "#     # 'arr_min_cos',\n",
    "#     'dep_min_sin',\n",
    "#     # 'dep_min_cos',\n",
    "#     # 'dep_hr_sin',\n",
    "#     # 'dep_hr_cos',\n",
    "#     # 'fl_mnth_sin',\n",
    "#     # 'fl_mnth_cos',\n",
    "#     # 'fl_wkday_sin',\n",
    "#     # 'fl_wkday_cos',\n",
    "#     # 'op_unique_carrier_delayct',\n",
    "#     # 'op_unique_carrier_delaymedian',\n",
    "#     'tail_num_delayct',\n",
    "#     # 'tail_num_delaymedian',\n",
    "#     'op_carrier_fl_num_delayct',\n",
    "#     # 'op_carrier_fl_num_delaymedian',\n",
    "#     # 'origin_airport_id_delayct',\n",
    "#     # 'origin_airport_id_delaymedian',\n",
    "#     # 'dest_airport_id_delayct',\n",
    "#     # 'dest_airport_id_delaymedian',\n",
    "#     # 'origin_city_delayct',\n",
    "#     'origin_city_delaymedian',\n",
    "#     # 'origin_state_delayct',\n",
    "#     'origin_state_delaymedian',\n",
    "#     'dest_city_delayct',\n",
    "#     # 'dest_city_delaymedian',\n",
    "#     # 'dest_state_delayct',\n",
    "#     'dest_state_delaymedian'\n",
    "# ]"
   ]
  },
  {
   "cell_type": "code",
   "execution_count": 44,
   "metadata": {},
   "outputs": [],
   "source": [
    "# scores = []\n",
    "# for f in features:\n",
    "#     X_train = df_train[[f]]\n",
    "#     y_train = target_train_log\n",
    "#     X_test = df_test[[f]]\n",
    "#     y_test = target_test\n",
    "    \n",
    "#     xg_reg = XGBRegressor(objective ='reg:squarederror',\n",
    "#                       learning_rate = 0.1,\n",
    "#                       max_depth = 6,\n",
    "#                       # reg_lambda = 10,\n",
    "#                       n_estimators = 300)\n",
    "#     xg_reg.fit(X_train, y_train)\n",
    "#     y_pred = np.exp(xg_reg.predict(X_test)) + diff\n",
    "#     # y_pred = xg_reg.predict(X_test)\n",
    "    \n",
    "#     scores.append([f, xg_reg.score(X_train, y_train), r2_score(y_test, y_pred)])"
   ]
  },
  {
   "cell_type": "code",
   "execution_count": 45,
   "metadata": {
    "collapsed": true,
    "jupyter": {
     "outputs_hidden": true
    },
    "tags": []
   },
   "outputs": [
    {
     "data": {
      "text/html": [
       "<div>\n",
       "<style scoped>\n",
       "    .dataframe tbody tr th:only-of-type {\n",
       "        vertical-align: middle;\n",
       "    }\n",
       "\n",
       "    .dataframe tbody tr th {\n",
       "        vertical-align: top;\n",
       "    }\n",
       "\n",
       "    .dataframe thead th {\n",
       "        text-align: right;\n",
       "    }\n",
       "</style>\n",
       "<table border=\"1\" class=\"dataframe\">\n",
       "  <thead>\n",
       "    <tr style=\"text-align: right;\">\n",
       "      <th></th>\n",
       "      <th>0</th>\n",
       "      <th>1</th>\n",
       "      <th>2</th>\n",
       "    </tr>\n",
       "  </thead>\n",
       "  <tbody>\n",
       "    <tr>\n",
       "      <th>5</th>\n",
       "      <td>origin_city_delaymedian</td>\n",
       "      <td>0.824356</td>\n",
       "      <td>0.240021</td>\n",
       "    </tr>\n",
       "  </tbody>\n",
       "</table>\n",
       "</div>"
      ],
      "text/plain": [
       "                         0         1         2\n",
       "5  origin_city_delaymedian  0.824356  0.240021"
      ]
     },
     "execution_count": 45,
     "metadata": {},
     "output_type": "execute_result"
    }
   ],
   "source": [
    "# s = pd.DataFrame(scores)\n",
    "# s[s[2]==s[2].max()]"
   ]
  },
  {
   "cell_type": "code",
   "execution_count": null,
   "metadata": {},
   "outputs": [],
   "source": []
  },
  {
   "cell_type": "code",
   "execution_count": null,
   "metadata": {},
   "outputs": [],
   "source": []
  },
  {
   "cell_type": "code",
   "execution_count": null,
   "metadata": {},
   "outputs": [],
   "source": []
  },
  {
   "cell_type": "markdown",
   "metadata": {},
   "source": [
    "### Evaluation"
   ]
  },
  {
   "cell_type": "markdown",
   "metadata": {},
   "source": [
    "You have data from 2018 and 2019 to develop models. Use different evaluation metrics for each problem and compare the performance of different models.\n",
    "\n",
    "You are required to predict delays on **out of sample** data from **first 7 days (1st-7th) of January 2020** and to share the file with LighthouseLabs. Sample submission can be found in the file **_sample_submission.csv_**"
   ]
  },
  {
   "cell_type": "code",
   "execution_count": null,
   "metadata": {},
   "outputs": [],
   "source": []
  },
  {
   "cell_type": "code",
   "execution_count": null,
   "metadata": {},
   "outputs": [],
   "source": []
  },
  {
   "cell_type": "code",
   "execution_count": null,
   "metadata": {},
   "outputs": [],
   "source": []
  },
  {
   "cell_type": "code",
   "execution_count": null,
   "metadata": {},
   "outputs": [],
   "source": []
  },
  {
   "cell_type": "markdown",
   "metadata": {},
   "source": [
    "======================================================================\n",
    "## Stretch Tasks"
   ]
  },
  {
   "cell_type": "markdown",
   "metadata": {},
   "source": [
    "### Multiclass Classification"
   ]
  },
  {
   "cell_type": "markdown",
   "metadata": {},
   "source": [
    "The target variables are **CARRIER_DELAY, WEATHER_DELAY, NAS_DELAY, SECURITY_DELAY, LATE_AIRCRAFT_DELAY**. We need to do additional transformations because these variables are not binary but continuos. For each flight that was delayed, we need to have one of these variables as 1 and others 0.\n",
    "\n",
    "It can happen that we have two types of delays with more than 0 minutes. In this case, take the bigger one as 1 and others as 0."
   ]
  },
  {
   "cell_type": "code",
   "execution_count": null,
   "metadata": {},
   "outputs": [],
   "source": []
  },
  {
   "cell_type": "code",
   "execution_count": null,
   "metadata": {},
   "outputs": [],
   "source": []
  },
  {
   "cell_type": "code",
   "execution_count": null,
   "metadata": {},
   "outputs": [],
   "source": []
  },
  {
   "cell_type": "markdown",
   "metadata": {},
   "source": [
    "### Binary Classification"
   ]
  },
  {
   "cell_type": "markdown",
   "metadata": {},
   "source": [
    "The target variable is **CANCELLED**. The main problem here is going to be huge class imbalance. We have only very little cancelled flights with comparison to all flights. It is important to do the right sampling before training and to choose correct evaluation metrics."
   ]
  },
  {
   "cell_type": "code",
   "execution_count": null,
   "metadata": {},
   "outputs": [],
   "source": []
  },
  {
   "cell_type": "code",
   "execution_count": null,
   "metadata": {},
   "outputs": [],
   "source": []
  },
  {
   "cell_type": "code",
   "execution_count": null,
   "metadata": {},
   "outputs": [],
   "source": []
  }
 ],
 "metadata": {
  "kernelspec": {
   "display_name": "Python 3 (ipykernel)",
   "language": "python",
   "name": "python3"
  },
  "language_info": {
   "codemirror_mode": {
    "name": "ipython",
    "version": 3
   },
   "file_extension": ".py",
   "mimetype": "text/x-python",
   "name": "python",
   "nbconvert_exporter": "python",
   "pygments_lexer": "ipython3",
   "version": "3.9.7"
  }
 },
 "nbformat": 4,
 "nbformat_minor": 4
}
