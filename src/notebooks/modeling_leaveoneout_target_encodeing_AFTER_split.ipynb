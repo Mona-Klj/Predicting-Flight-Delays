{
 "cells": [
  {
   "cell_type": "markdown",
   "metadata": {},
   "source": [
    "# Machine Learning\n",
    "\n",
    "In this file, instructions how to approach the challenge can be found."
   ]
  },
  {
   "cell_type": "markdown",
   "metadata": {},
   "source": [
    "We are going to work on different types of Machine Learning problems:\n",
    "\n",
    "- **Regression Problem**: The goal is to predict delay of flights.\n",
    "- **(Stretch) Multiclass Classification**: If the plane was delayed, we will predict what type of delay it is (will be).\n",
    "- **(Stretch) Binary Classification**: The goal is to predict if the flight will be cancelled."
   ]
  },
  {
   "cell_type": "code",
   "execution_count": 28,
   "metadata": {},
   "outputs": [],
   "source": [
    "# import pandas\n",
    "import pandas as pd\n",
    "import numpy as np\n",
    "import copy\n",
    "\n",
    "import seaborn as sns\n",
    "import matplotlib.pyplot as plt\n",
    "\n",
    "from scipy import stats\n",
    "from sklearn.preprocessing import StandardScaler\n",
    "scaler = StandardScaler()\n",
    "from sklearn.decomposition import PCA\n",
    "\n",
    "from sklearn.model_selection import train_test_split, GridSearchCV, cross_validate, cross_val_score\n",
    "from sklearn.linear_model import LinearRegression, Ridge, Lasso\n",
    "from sklearn.ensemble import GradientBoostingRegressor, RandomForestRegressor\n",
    "from sklearn.svm import SVR\n",
    "from xgboost import XGBRegressor, XGBClassifier, plot_importance\n",
    "from sklearn.metrics import r2_score, mean_squared_error\n",
    "\n",
    "import warnings\n",
    "warnings.simplefilter(action='ignore', category=FutureWarning)"
   ]
  },
  {
   "cell_type": "markdown",
   "metadata": {},
   "source": [
    "### Read Preprocessed Data"
   ]
  },
  {
   "cell_type": "code",
   "execution_count": 29,
   "metadata": {},
   "outputs": [
    {
     "data": {
      "text/html": [
       "<div>\n",
       "<style scoped>\n",
       "    .dataframe tbody tr th:only-of-type {\n",
       "        vertical-align: middle;\n",
       "    }\n",
       "\n",
       "    .dataframe tbody tr th {\n",
       "        vertical-align: top;\n",
       "    }\n",
       "\n",
       "    .dataframe thead th {\n",
       "        text-align: right;\n",
       "    }\n",
       "</style>\n",
       "<table border=\"1\" class=\"dataframe\">\n",
       "  <thead>\n",
       "    <tr style=\"text-align: right;\">\n",
       "      <th></th>\n",
       "      <th>fl_date</th>\n",
       "      <th>op_unique_carrier</th>\n",
       "      <th>tail_num</th>\n",
       "      <th>op_carrier_fl_num</th>\n",
       "      <th>origin_airport_id</th>\n",
       "      <th>dest_airport_id</th>\n",
       "      <th>crs_dep_time</th>\n",
       "      <th>dep_time</th>\n",
       "      <th>dep_delay</th>\n",
       "      <th>taxi_out</th>\n",
       "      <th>...</th>\n",
       "      <th>arr_hr_sin</th>\n",
       "      <th>arr_hr_cos</th>\n",
       "      <th>fl_mnth_sin</th>\n",
       "      <th>fl_mnth_cos</th>\n",
       "      <th>fl_wkday_sin</th>\n",
       "      <th>fl_wkday_cos</th>\n",
       "      <th>day_num_of_flights</th>\n",
       "      <th>num_flights_6hrs</th>\n",
       "      <th>inbound_fl_num</th>\n",
       "      <th>inbound_fl</th>\n",
       "    </tr>\n",
       "  </thead>\n",
       "  <tbody>\n",
       "    <tr>\n",
       "      <th>0</th>\n",
       "      <td>2019-04-08</td>\n",
       "      <td>PT</td>\n",
       "      <td>N645AE</td>\n",
       "      <td>4857</td>\n",
       "      <td>14100</td>\n",
       "      <td>11577</td>\n",
       "      <td>1900-01-01 21:30:00</td>\n",
       "      <td>2129.0</td>\n",
       "      <td>-1.0</td>\n",
       "      <td>37.0</td>\n",
       "      <td>...</td>\n",
       "      <td>-0.500000</td>\n",
       "      <td>0.866025</td>\n",
       "      <td>0.866025</td>\n",
       "      <td>-0.500000</td>\n",
       "      <td>0.000000</td>\n",
       "      <td>1.000000</td>\n",
       "      <td>10</td>\n",
       "      <td>6</td>\n",
       "      <td>0</td>\n",
       "      <td>0</td>\n",
       "    </tr>\n",
       "    <tr>\n",
       "      <th>1</th>\n",
       "      <td>2018-11-29</td>\n",
       "      <td>UA</td>\n",
       "      <td>N817UA</td>\n",
       "      <td>1249</td>\n",
       "      <td>12953</td>\n",
       "      <td>13930</td>\n",
       "      <td>1900-01-01 21:00:00</td>\n",
       "      <td>2058.0</td>\n",
       "      <td>-2.0</td>\n",
       "      <td>25.0</td>\n",
       "      <td>...</td>\n",
       "      <td>-0.500000</td>\n",
       "      <td>0.866025</td>\n",
       "      <td>-0.500000</td>\n",
       "      <td>0.866025</td>\n",
       "      <td>0.433884</td>\n",
       "      <td>-0.900969</td>\n",
       "      <td>1</td>\n",
       "      <td>1</td>\n",
       "      <td>0</td>\n",
       "      <td>0</td>\n",
       "    </tr>\n",
       "    <tr>\n",
       "      <th>2</th>\n",
       "      <td>2018-08-03</td>\n",
       "      <td>AX</td>\n",
       "      <td>N14116</td>\n",
       "      <td>4650</td>\n",
       "      <td>11292</td>\n",
       "      <td>14783</td>\n",
       "      <td>1900-01-01 12:30:00</td>\n",
       "      <td>1237.0</td>\n",
       "      <td>7.0</td>\n",
       "      <td>13.0</td>\n",
       "      <td>...</td>\n",
       "      <td>-0.707107</td>\n",
       "      <td>-0.707107</td>\n",
       "      <td>-0.866025</td>\n",
       "      <td>-0.500000</td>\n",
       "      <td>-0.433884</td>\n",
       "      <td>-0.900969</td>\n",
       "      <td>5</td>\n",
       "      <td>11</td>\n",
       "      <td>0</td>\n",
       "      <td>0</td>\n",
       "    </tr>\n",
       "  </tbody>\n",
       "</table>\n",
       "<p>3 rows × 62 columns</p>\n",
       "</div>"
      ],
      "text/plain": [
       "      fl_date op_unique_carrier tail_num  op_carrier_fl_num  \\\n",
       "0  2019-04-08                PT   N645AE               4857   \n",
       "1  2018-11-29                UA   N817UA               1249   \n",
       "2  2018-08-03                AX   N14116               4650   \n",
       "\n",
       "   origin_airport_id  dest_airport_id         crs_dep_time  dep_time  \\\n",
       "0              14100            11577  1900-01-01 21:30:00    2129.0   \n",
       "1              12953            13930  1900-01-01 21:00:00    2058.0   \n",
       "2              11292            14783  1900-01-01 12:30:00    1237.0   \n",
       "\n",
       "   dep_delay  taxi_out  ...  arr_hr_sin  arr_hr_cos  fl_mnth_sin fl_mnth_cos  \\\n",
       "0       -1.0      37.0  ...   -0.500000    0.866025     0.866025   -0.500000   \n",
       "1       -2.0      25.0  ...   -0.500000    0.866025    -0.500000    0.866025   \n",
       "2        7.0      13.0  ...   -0.707107   -0.707107    -0.866025   -0.500000   \n",
       "\n",
       "   fl_wkday_sin  fl_wkday_cos  day_num_of_flights num_flights_6hrs  \\\n",
       "0      0.000000      1.000000                  10                6   \n",
       "1      0.433884     -0.900969                   1                1   \n",
       "2     -0.433884     -0.900969                   5               11   \n",
       "\n",
       "   inbound_fl_num  inbound_fl  \n",
       "0               0           0  \n",
       "1               0           0  \n",
       "2               0           0  \n",
       "\n",
       "[3 rows x 62 columns]"
      ]
     },
     "execution_count": 29,
     "metadata": {},
     "output_type": "execute_result"
    }
   ],
   "source": [
    "# load data\n",
    "df = pd.read_csv(\"data/flights_preprocessed_37k.csv\", index_col=0)\n",
    "df.head(3)"
   ]
  },
  {
   "cell_type": "code",
   "execution_count": 30,
   "metadata": {},
   "outputs": [
    {
     "data": {
      "text/plain": [
       "(37439, 62)"
      ]
     },
     "execution_count": 30,
     "metadata": {},
     "output_type": "execute_result"
    }
   ],
   "source": [
    "df.shape"
   ]
  },
  {
   "cell_type": "code",
   "execution_count": 31,
   "metadata": {},
   "outputs": [],
   "source": [
    "# reset dtypes\n",
    "categorical_features = ['op_unique_carrier',\n",
    "                        'tail_num', \n",
    "                        'op_carrier_fl_num',\n",
    "                        'origin_airport_id',\n",
    "                        'dest_airport_id',\n",
    "                        # 'share_code',\n",
    "                        'origin_city',\n",
    "                        'origin_state',\n",
    "                        'dest_city',\n",
    "                        'dest_state',\n",
    "                        'fl_month',\n",
    "                        'fl_weekday',\n",
    "                        'season',\n",
    "                        'inbound_fl']\n",
    "\n",
    "df[categorical_features] = df[categorical_features].astype('str')\n",
    "# df_train[categorical_features] = df_train[categorical_features].astype('str')\n",
    "# df_test[categorical_features] =df_test[categorical_features].astype('str')"
   ]
  },
  {
   "cell_type": "markdown",
   "metadata": {
    "tags": []
   },
   "source": [
    "#### Transform Target Variable"
   ]
  },
  {
   "cell_type": "code",
   "execution_count": 32,
   "metadata": {},
   "outputs": [
    {
     "data": {
      "image/png": "[encoded data removed]",
      "text/plain": [
       "<Figure size 432x288 with 1 Axes>"
      ]
     },
     "metadata": {
      "needs_background": "light"
     },
     "output_type": "display_data"
    }
   ],
   "source": [
    "# target variable distribution\n",
    "# left skewed with long tail\n",
    "# target_train = df_train['arr_delay']\n",
    "# target_test = df_test['arr_delay']\n",
    "target = df['arr_delay']\n",
    "sns.histplot(data=target)\n",
    "plt.show()"
   ]
  },
  {
   "cell_type": "code",
   "execution_count": 33,
   "metadata": {},
   "outputs": [
    {
     "data": {
      "image/png": "[encoded data removed]",
      "text/plain": [
       "<Figure size 432x288 with 1 Axes>"
      ]
     },
     "metadata": {
      "needs_background": "light"
     },
     "output_type": "display_data"
    }
   ],
   "source": [
    "# target variable distribution after log transformation in training set\n",
    "# If use transformed target variable to train, when evaluate prediction results, REMEMBER to transform predicted value back first\n",
    "diff = df['arr_delay'].min() - 10 # min value of whole dataset\n",
    "# target_train_log = np.log(target_train - diff)\n",
    "target_log = np.log(target - diff)\n",
    "sns.histplot(data=target_log)\n",
    "plt.show()"
   ]
  },
  {
   "cell_type": "code",
   "execution_count": 34,
   "metadata": {},
   "outputs": [],
   "source": [
    "# use target for this case\n",
    "# df['arr_delay'] = target_log"
   ]
  },
  {
   "cell_type": "markdown",
   "metadata": {
    "tags": []
   },
   "source": [
    "#### More Feature Engineering"
   ]
  },
  {
   "cell_type": "markdown",
   "metadata": {
    "tags": []
   },
   "source": [
    "##### Transform some new features by using 'arr_delay'"
   ]
  },
  {
   "cell_type": "markdown",
   "metadata": {
    "tags": []
   },
   "source": [
    "##### Target Encoding after splitting dataset\n",
    "Target Encoding on training set only, then mapping the values into test set "
   ]
  },
  {
   "cell_type": "code",
   "execution_count": 35,
   "metadata": {},
   "outputs": [],
   "source": [
    "# Split traing and test set first\n",
    "# In training set, I'm going to add more feature generated by combining 'arr_delay' and some categorial features\n",
    "# For test set, same features as above mentioned should be added with values computed from training set\n",
    "# i.e. DON NOT touch target variable in test set from now on\n",
    "df_train, df_test = train_test_split(df, test_size=0.3, random_state=888)\n",
    "df_train.reset_index(drop=True, inplace=True)\n",
    "df_test.reset_index(drop=True, inplace=True)"
   ]
  },
  {
   "cell_type": "code",
   "execution_count": 36,
   "metadata": {},
   "outputs": [],
   "source": [
    "def leave_one_out_pct(df, i, d='arr_delay'):\n",
    "    \"\"\"\n",
    "    Caculate group occurance percentage with cross calculation for interested categorical column, and imput leave_one_out_mean value into dataframe\n",
    "    PARAMS:\n",
    "        df (pd.DataFrame): \n",
    "        i (str): categorial independent variable\n",
    "        d (str): dependent variable\n",
    "    RETURNS (pd.Series):\n",
    "        pandas series containing leave-one-out occurance percentage\n",
    "    \"\"\"\n",
    "    data = df.copy()[[i, d]]\n",
    "    group_ct = data.groupby(i, as_index=False).count().rename(columns={d: 'ct'})\n",
    "    group_delay_ct = data[data[d] >= np.log(15 - diff)].groupby(i, as_index=False).count().rename(columns={d: 'delay_ct'})\n",
    "    data = pd.merge(data, group_ct, how='left', on=i)\n",
    "    data = pd.merge(data, group_delay_ct, how='left', on=i)\n",
    "    data['leftout_pct'] = (data['delay_ct'] - 1) / (data['ct'] - 1)\n",
    "        \n",
    "    data = data.fillna(0)\n",
    "    return data['leftout_pct']"
   ]
  },
  {
   "cell_type": "code",
   "execution_count": 37,
   "metadata": {},
   "outputs": [],
   "source": [
    "def leave_one_out_mean(df, i, d='arr_delay'):\n",
    "    \"\"\"\n",
    "    Caculate group means with cross calculation for interested categorical column, and imput leave_one_out_mean value into dataframe\n",
    "    PARAMS:\n",
    "        df (pd.DataFrame): \n",
    "        i (str): categorial independent variable\n",
    "        d (str): dependent variable\n",
    "    RETURNS (pd.Series):\n",
    "        pandas series containing leave-one-out mean values\n",
    "    \"\"\"\n",
    "    data = df.copy()[[i, d]]\n",
    "    group_sum_count = data.groupby(i)[d].agg(['sum', 'count']).reset_index()\n",
    "    data = pd.merge(data, group_sum_count, how='left', on=i)\n",
    "    data['leftout_sum'] = data['sum'] - data[d]\n",
    "    data['leftout_mean'] = data['leftout_sum'] / (data['count'] - 1)\n",
    "    data = data.fillna(0)\n",
    "    return data['leftout_mean']"
   ]
  },
  {
   "cell_type": "code",
   "execution_count": 38,
   "metadata": {},
   "outputs": [
    {
     "data": {
      "text/plain": [
       "(26207, 62)"
      ]
     },
     "execution_count": 38,
     "metadata": {},
     "output_type": "execute_result"
    }
   ],
   "source": [
    "df_train.shape"
   ]
  },
  {
   "cell_type": "code",
   "execution_count": 39,
   "metadata": {},
   "outputs": [],
   "source": [
    "# calculate how many times has delay ('arr_delay' > 15) happened on each carrier/flight_num/tail_num/carrier/origin_airport/dest_airport/origin_city/origin_state/dest_city/dest_state \n",
    "# calculate average/median delay time of each ... (same as above)\n",
    "# merge with df\n",
    "\n",
    "tran_features = ['op_unique_carrier', 'tail_num',  'op_carrier_fl_num', 'origin_airport_id', 'dest_airport_id', 'origin_city', 'origin_state', 'dest_city', 'dest_state']\n",
    "\n",
    "for col in tran_features:    \n",
    "    df_train[f'{col}_leftout_pct'] = leave_one_out_pct(df_train, col)\n",
    "    df_train[f'{col}_leftout_mean'] = leave_one_out_mean(df_train, col)\n",
    "    \n",
    "    # # median delay time group by col\n",
    "    # median_all = df['arr_delay'].median() # overall median delay time\n",
    "    # cat_delay_median = df[[col, 'arr_delay']].groupby(col, as_index=False).median().rename(columns={'arr_delay': f'{col}_delaymedian'}) # median delay time for each category\n",
    "    # df = pd.merge(df, cat_delay_median, on=col, how='left').fillna(median_all)"
   ]
  },
  {
   "cell_type": "code",
   "execution_count": 40,
   "metadata": {},
   "outputs": [
    {
     "data": {
      "text/plain": [
       "(26207, 80)"
      ]
     },
     "execution_count": 40,
     "metadata": {},
     "output_type": "execute_result"
    }
   ],
   "source": [
    "df_train.shape"
   ]
  },
  {
   "cell_type": "code",
   "execution_count": 41,
   "metadata": {},
   "outputs": [
    {
     "data": {
      "text/plain": [
       "dest_airport_id_leftout_mean    0\n",
       "origin_city_leftout_pct         0\n",
       "origin_city_leftout_mean        0\n",
       "origin_state_leftout_pct        0\n",
       "origin_state_leftout_mean       0\n",
       "dest_city_leftout_pct           0\n",
       "dest_city_leftout_mean          0\n",
       "dest_state_leftout_pct          0\n",
       "dest_state_leftout_mean         0\n",
       "dtype: int64"
      ]
     },
     "execution_count": 41,
     "metadata": {},
     "output_type": "execute_result"
    }
   ],
   "source": [
    "df_train.iloc[:, -9:].isnull().sum()"
   ]
  },
  {
   "cell_type": "code",
   "execution_count": 42,
   "metadata": {},
   "outputs": [
    {
     "data": {
      "text/plain": [
       "(11232, 62)"
      ]
     },
     "execution_count": 42,
     "metadata": {},
     "output_type": "execute_result"
    }
   ],
   "source": [
    "df_test.shape"
   ]
  },
  {
   "cell_type": "code",
   "execution_count": 43,
   "metadata": {},
   "outputs": [
    {
     "data": {
      "text/html": [
       "<div>\n",
       "<style scoped>\n",
       "    .dataframe tbody tr th:only-of-type {\n",
       "        vertical-align: middle;\n",
       "    }\n",
       "\n",
       "    .dataframe tbody tr th {\n",
       "        vertical-align: top;\n",
       "    }\n",
       "\n",
       "    .dataframe thead th {\n",
       "        text-align: right;\n",
       "    }\n",
       "</style>\n",
       "<table border=\"1\" class=\"dataframe\">\n",
       "  <thead>\n",
       "    <tr style=\"text-align: right;\">\n",
       "      <th></th>\n",
       "      <th>fl_date</th>\n",
       "      <th>op_unique_carrier</th>\n",
       "      <th>tail_num</th>\n",
       "      <th>op_carrier_fl_num</th>\n",
       "      <th>origin_airport_id</th>\n",
       "      <th>dest_airport_id</th>\n",
       "      <th>crs_dep_time</th>\n",
       "      <th>dep_time</th>\n",
       "      <th>dep_delay</th>\n",
       "      <th>taxi_out</th>\n",
       "      <th>...</th>\n",
       "      <th>arr_hr_sin</th>\n",
       "      <th>arr_hr_cos</th>\n",
       "      <th>fl_mnth_sin</th>\n",
       "      <th>fl_mnth_cos</th>\n",
       "      <th>fl_wkday_sin</th>\n",
       "      <th>fl_wkday_cos</th>\n",
       "      <th>day_num_of_flights</th>\n",
       "      <th>num_flights_6hrs</th>\n",
       "      <th>inbound_fl_num</th>\n",
       "      <th>inbound_fl</th>\n",
       "    </tr>\n",
       "  </thead>\n",
       "  <tbody>\n",
       "    <tr>\n",
       "      <th>0</th>\n",
       "      <td>2018-03-24</td>\n",
       "      <td>YV</td>\n",
       "      <td>N93305</td>\n",
       "      <td>6222</td>\n",
       "      <td>15016</td>\n",
       "      <td>12266</td>\n",
       "      <td>1900-01-01 11:05:00</td>\n",
       "      <td>1055.0</td>\n",
       "      <td>-10.0</td>\n",
       "      <td>13.0</td>\n",
       "      <td>...</td>\n",
       "      <td>-0.258819</td>\n",
       "      <td>-9.659258e-01</td>\n",
       "      <td>1.000000</td>\n",
       "      <td>6.123234e-17</td>\n",
       "      <td>-0.974928</td>\n",
       "      <td>-0.222521</td>\n",
       "      <td>1</td>\n",
       "      <td>1</td>\n",
       "      <td>0</td>\n",
       "      <td>0</td>\n",
       "    </tr>\n",
       "    <tr>\n",
       "      <th>1</th>\n",
       "      <td>2018-11-29</td>\n",
       "      <td>AS</td>\n",
       "      <td>N263AK</td>\n",
       "      <td>315</td>\n",
       "      <td>14771</td>\n",
       "      <td>14747</td>\n",
       "      <td>1900-01-01 16:00:00</td>\n",
       "      <td>1602.0</td>\n",
       "      <td>2.0</td>\n",
       "      <td>45.0</td>\n",
       "      <td>...</td>\n",
       "      <td>-1.000000</td>\n",
       "      <td>-1.836970e-16</td>\n",
       "      <td>-0.500000</td>\n",
       "      <td>8.660254e-01</td>\n",
       "      <td>0.433884</td>\n",
       "      <td>-0.900969</td>\n",
       "      <td>6</td>\n",
       "      <td>1</td>\n",
       "      <td>0</td>\n",
       "      <td>0</td>\n",
       "    </tr>\n",
       "    <tr>\n",
       "      <th>2</th>\n",
       "      <td>2019-10-13</td>\n",
       "      <td>OO</td>\n",
       "      <td>N804SK</td>\n",
       "      <td>4082</td>\n",
       "      <td>13487</td>\n",
       "      <td>13485</td>\n",
       "      <td>1900-01-01 15:47:00</td>\n",
       "      <td>1720.0</td>\n",
       "      <td>93.0</td>\n",
       "      <td>19.0</td>\n",
       "      <td>...</td>\n",
       "      <td>-0.866025</td>\n",
       "      <td>-5.000000e-01</td>\n",
       "      <td>-0.866025</td>\n",
       "      <td>5.000000e-01</td>\n",
       "      <td>-0.781831</td>\n",
       "      <td>0.623490</td>\n",
       "      <td>3</td>\n",
       "      <td>4</td>\n",
       "      <td>0</td>\n",
       "      <td>0</td>\n",
       "    </tr>\n",
       "    <tr>\n",
       "      <th>3</th>\n",
       "      <td>2018-05-03</td>\n",
       "      <td>AS</td>\n",
       "      <td>N632VA</td>\n",
       "      <td>1108</td>\n",
       "      <td>12892</td>\n",
       "      <td>12264</td>\n",
       "      <td>1900-01-01 07:00:00</td>\n",
       "      <td>658.0</td>\n",
       "      <td>-2.0</td>\n",
       "      <td>30.0</td>\n",
       "      <td>...</td>\n",
       "      <td>-0.500000</td>\n",
       "      <td>-8.660254e-01</td>\n",
       "      <td>0.500000</td>\n",
       "      <td>-8.660254e-01</td>\n",
       "      <td>0.433884</td>\n",
       "      <td>-0.900969</td>\n",
       "      <td>4</td>\n",
       "      <td>4</td>\n",
       "      <td>0</td>\n",
       "      <td>0</td>\n",
       "    </tr>\n",
       "    <tr>\n",
       "      <th>4</th>\n",
       "      <td>2018-03-23</td>\n",
       "      <td>OO</td>\n",
       "      <td>N593ML</td>\n",
       "      <td>5342</td>\n",
       "      <td>11292</td>\n",
       "      <td>10800</td>\n",
       "      <td>1900-01-01 11:27:00</td>\n",
       "      <td>1123.0</td>\n",
       "      <td>-4.0</td>\n",
       "      <td>51.0</td>\n",
       "      <td>...</td>\n",
       "      <td>-0.258819</td>\n",
       "      <td>-9.659258e-01</td>\n",
       "      <td>1.000000</td>\n",
       "      <td>6.123234e-17</td>\n",
       "      <td>-0.433884</td>\n",
       "      <td>-0.900969</td>\n",
       "      <td>2</td>\n",
       "      <td>7</td>\n",
       "      <td>0</td>\n",
       "      <td>0</td>\n",
       "    </tr>\n",
       "  </tbody>\n",
       "</table>\n",
       "<p>5 rows × 62 columns</p>\n",
       "</div>"
      ],
      "text/plain": [
       "      fl_date op_unique_carrier tail_num op_carrier_fl_num origin_airport_id  \\\n",
       "0  2018-03-24                YV   N93305              6222             15016   \n",
       "1  2018-11-29                AS   N263AK               315             14771   \n",
       "2  2019-10-13                OO   N804SK              4082             13487   \n",
       "3  2018-05-03                AS   N632VA              1108             12892   \n",
       "4  2018-03-23                OO   N593ML              5342             11292   \n",
       "\n",
       "  dest_airport_id         crs_dep_time  dep_time  dep_delay  taxi_out  ...  \\\n",
       "0           12266  1900-01-01 11:05:00    1055.0      -10.0      13.0  ...   \n",
       "1           14747  1900-01-01 16:00:00    1602.0        2.0      45.0  ...   \n",
       "2           13485  1900-01-01 15:47:00    1720.0       93.0      19.0  ...   \n",
       "3           12264  1900-01-01 07:00:00     658.0       -2.0      30.0  ...   \n",
       "4           10800  1900-01-01 11:27:00    1123.0       -4.0      51.0  ...   \n",
       "\n",
       "   arr_hr_sin    arr_hr_cos  fl_mnth_sin   fl_mnth_cos  fl_wkday_sin  \\\n",
       "0   -0.258819 -9.659258e-01     1.000000  6.123234e-17     -0.974928   \n",
       "1   -1.000000 -1.836970e-16    -0.500000  8.660254e-01      0.433884   \n",
       "2   -0.866025 -5.000000e-01    -0.866025  5.000000e-01     -0.781831   \n",
       "3   -0.500000 -8.660254e-01     0.500000 -8.660254e-01      0.433884   \n",
       "4   -0.258819 -9.659258e-01     1.000000  6.123234e-17     -0.433884   \n",
       "\n",
       "   fl_wkday_cos  day_num_of_flights num_flights_6hrs  inbound_fl_num  \\\n",
       "0     -0.222521                   1                1               0   \n",
       "1     -0.900969                   6                1               0   \n",
       "2      0.623490                   3                4               0   \n",
       "3     -0.900969                   4                4               0   \n",
       "4     -0.900969                   2                7               0   \n",
       "\n",
       "   inbound_fl  \n",
       "0           0  \n",
       "1           0  \n",
       "2           0  \n",
       "3           0  \n",
       "4           0  \n",
       "\n",
       "[5 rows x 62 columns]"
      ]
     },
     "execution_count": 43,
     "metadata": {},
     "output_type": "execute_result"
    }
   ],
   "source": [
    "df_test.head()"
   ]
  },
  {
   "cell_type": "code",
   "execution_count": 44,
   "metadata": {
    "tags": []
   },
   "outputs": [
    {
     "data": {
      "text/html": [
       "<div>\n",
       "<style scoped>\n",
       "    .dataframe tbody tr th:only-of-type {\n",
       "        vertical-align: middle;\n",
       "    }\n",
       "\n",
       "    .dataframe tbody tr th {\n",
       "        vertical-align: top;\n",
       "    }\n",
       "\n",
       "    .dataframe thead th {\n",
       "        text-align: right;\n",
       "    }\n",
       "</style>\n",
       "<table border=\"1\" class=\"dataframe\">\n",
       "  <thead>\n",
       "    <tr style=\"text-align: right;\">\n",
       "      <th></th>\n",
       "      <th>op_unique_carrier</th>\n",
       "      <th>op_unique_carrier_leftout_mean</th>\n",
       "    </tr>\n",
       "  </thead>\n",
       "  <tbody>\n",
       "    <tr>\n",
       "      <th>0</th>\n",
       "      <td>WN</td>\n",
       "      <td>4.441220</td>\n",
       "    </tr>\n",
       "    <tr>\n",
       "      <th>1</th>\n",
       "      <td>WN</td>\n",
       "      <td>4.437807</td>\n",
       "    </tr>\n",
       "    <tr>\n",
       "      <th>2</th>\n",
       "      <td>UA</td>\n",
       "      <td>6.491565</td>\n",
       "    </tr>\n",
       "    <tr>\n",
       "      <th>3</th>\n",
       "      <td>DL</td>\n",
       "      <td>-0.531850</td>\n",
       "    </tr>\n",
       "    <tr>\n",
       "      <th>4</th>\n",
       "      <td>WN</td>\n",
       "      <td>4.436100</td>\n",
       "    </tr>\n",
       "    <tr>\n",
       "      <th>...</th>\n",
       "      <td>...</td>\n",
       "      <td>...</td>\n",
       "    </tr>\n",
       "    <tr>\n",
       "      <th>26116</th>\n",
       "      <td>OH</td>\n",
       "      <td>5.757180</td>\n",
       "    </tr>\n",
       "    <tr>\n",
       "      <th>26148</th>\n",
       "      <td>YX</td>\n",
       "      <td>0.887410</td>\n",
       "    </tr>\n",
       "    <tr>\n",
       "      <th>26180</th>\n",
       "      <td>OH</td>\n",
       "      <td>5.686684</td>\n",
       "    </tr>\n",
       "    <tr>\n",
       "      <th>26190</th>\n",
       "      <td>MQ</td>\n",
       "      <td>4.262897</td>\n",
       "    </tr>\n",
       "    <tr>\n",
       "      <th>26198</th>\n",
       "      <td>OO</td>\n",
       "      <td>8.068608</td>\n",
       "    </tr>\n",
       "  </tbody>\n",
       "</table>\n",
       "<p>3376 rows × 2 columns</p>\n",
       "</div>"
      ],
      "text/plain": [
       "      op_unique_carrier  op_unique_carrier_leftout_mean\n",
       "0                    WN                        4.441220\n",
       "1                    WN                        4.437807\n",
       "2                    UA                        6.491565\n",
       "3                    DL                       -0.531850\n",
       "4                    WN                        4.436100\n",
       "...                 ...                             ...\n",
       "26116                OH                        5.757180\n",
       "26148                YX                        0.887410\n",
       "26180                OH                        5.686684\n",
       "26190                MQ                        4.262897\n",
       "26198                OO                        8.068608\n",
       "\n",
       "[3376 rows x 2 columns]"
      ]
     },
     "execution_count": 44,
     "metadata": {},
     "output_type": "execute_result"
    }
   ],
   "source": [
    "df_train[['op_unique_carrier', 'op_unique_carrier_leftout_mean']].drop_duplicates()"
   ]
  },
  {
   "cell_type": "code",
   "execution_count": 45,
   "metadata": {
    "tags": []
   },
   "outputs": [],
   "source": [
    "# add features to test set with values computed by training set\n",
    "# NOTICE: THE VALUES ADDED HERE ARE STILL FROM TRAINING SET\n",
    "# for example, flight No.#### used to have 7 delays in training set, then add 7 to same flight No. in test set\n",
    "# It's like assigning weight to categories (assign weight of 7 to flight No.##### in this example)\n",
    "\n",
    "# origin_new = [['op_unique_carrier', 'op_unique_carrier_delayct', 'op_unique_carrier_delaymedian', 'op_unique_carrier_delayavg'],\n",
    "#               ['tail_num', 'tail_num_delayct', 'tail_num_delaymedian', 'tail_num_delayavg'],\n",
    "#               ['op_carrier_fl_num', 'op_carrier_fl_num_delayct', 'op_carrier_fl_num_delaymedian', 'op_carrier_fl_num_delayavg'],\n",
    "#               ['origin_airport_id', 'origin_airport_id_delayct', 'origin_airport_id_delaymedian', 'origin_airport_id_delayavg'],\n",
    "#               ['dest_airport_id', 'dest_airport_id_delayct', 'dest_airport_id_delaymedian', 'dest_airport_id_delayavg'],\n",
    "#               ['origin_city', 'origin_city_delayct', 'origin_city_delaymedian', 'origin_city_delayavg'],\n",
    "#               ['origin_state', 'origin_state_delayct', 'origin_state_delaymedian', 'origin_state_delayavg'],\n",
    "#               ['dest_city', 'dest_city_delayct', 'dest_city_delaymedian', 'dest_city_delayavg'],\n",
    "#               ['dest_state', 'dest_state_delayct', 'dest_state_delaymedian', 'dest_state_delayavg']]\n",
    "\n",
    "origin_new = [['op_unique_carrier', 'op_unique_carrier_leftout_mean', 'op_unique_carrier_leftout_pct'],\n",
    "              ['tail_num', 'tail_num_leftout_mean', 'tail_num_leftout_pct'],\n",
    "              ['op_carrier_fl_num', 'op_carrier_fl_num_leftout_mean', 'op_carrier_fl_num_leftout_pct'],\n",
    "              ['origin_airport_id', 'origin_airport_id_leftout_mean', 'origin_airport_id_leftout_pct'],\n",
    "              ['dest_airport_id', 'dest_airport_id_leftout_mean', 'dest_airport_id_leftout_pct'],\n",
    "              ['origin_city', 'origin_city_leftout_mean', 'origin_city_leftout_pct'],\n",
    "              ['origin_state', 'origin_state_leftout_mean', 'origin_state_leftout_pct'],\n",
    "              ['dest_city', 'dest_city_leftout_mean', 'dest_city_leftout_pct'],\n",
    "              ['dest_state', 'dest_state_leftout_mean', 'dest_state_leftout_pct']\n",
    "             ]\n",
    "delay_mean = df_train['arr_delay'].mean()\n",
    "\n",
    "for cols in origin_new:\n",
    "    cats_means = df_train[cols].groupby(cols[0], as_index=False).mean()\n",
    "    df_test = pd.merge(df_test, cats_means, on=cols[0], how='left').fillna(delay_mean)"
   ]
  },
  {
   "cell_type": "code",
   "execution_count": 46,
   "metadata": {},
   "outputs": [
    {
     "data": {
      "text/plain": [
       "(11232, 80)"
      ]
     },
     "execution_count": 46,
     "metadata": {},
     "output_type": "execute_result"
    }
   ],
   "source": [
    "df_test.shape"
   ]
  },
  {
   "cell_type": "markdown",
   "metadata": {
    "tags": []
   },
   "source": [
    "## Main Task: Regression Problem"
   ]
  },
  {
   "cell_type": "markdown",
   "metadata": {},
   "source": [
    "The target variable is **ARR_DELAY**. We need to be careful which columns to use and which don't. For example, DEP_DELAY is going to be the perfect predictor, but we can't use it because in real-life scenario, we want to predict the delay before the flight takes of --> We can use average delay from earlier days but not the one from the actual flight we predict.  \n",
    "\n",
    "For example, variables **CARRIER_DELAY, WEATHER_DELAY, NAS_DELAY, SECURITY_DELAY, LATE_AIRCRAFT_DELAY** shouldn't be used directly as predictors as well. However, we can create various transformations from earlier values.\n",
    "\n",
    "We will be evaluating your models by predicting the ARR_DELAY for all flights **1 week in advance**."
   ]
  },
  {
   "cell_type": "markdown",
   "metadata": {
    "tags": []
   },
   "source": [
    "### Feature Selection / Dimensionality Reduction"
   ]
  },
  {
   "cell_type": "markdown",
   "metadata": {},
   "source": [
    "We need to apply different selection techniques to find out which one will be the best for our problems.\n",
    "\n",
    "- Original Features vs. PCA conponents?"
   ]
  },
  {
   "cell_type": "markdown",
   "metadata": {
    "tags": []
   },
   "source": [
    "### Modeling"
   ]
  },
  {
   "cell_type": "markdown",
   "metadata": {},
   "source": [
    "Use different ML techniques to predict each problem.\n",
    "\n",
    "- linear / logistic / multinomial logistic regression\n",
    "- Naive Bayes\n",
    "- Random Forest\n",
    "- SVM\n",
    "- XGBoost\n",
    "- The ensemble of your own choice"
   ]
  },
  {
   "cell_type": "markdown",
   "metadata": {},
   "source": [
    "#### Linear Regression"
   ]
  },
  {
   "cell_type": "code",
   "execution_count": 47,
   "metadata": {},
   "outputs": [
    {
     "data": {
      "text/plain": [
       "Index(['fl_date', 'op_unique_carrier', 'tail_num', 'op_carrier_fl_num',\n",
       "       'origin_airport_id', 'dest_airport_id', 'crs_dep_time', 'dep_time',\n",
       "       'dep_delay', 'taxi_out', 'wheels_off', 'wheels_on', 'taxi_in',\n",
       "       'crs_arr_time', 'arr_time', 'arr_delay', 'cancelled',\n",
       "       'cancellation_code', 'diverted', 'crs_elapsed_time',\n",
       "       'actual_elapsed_time', 'air_time', 'distance', 'carrier_delay',\n",
       "       'weather_delay', 'nas_delay', 'security_delay', 'late_aircraft_delay',\n",
       "       'first_dep_time', 'total_add_gtime', 'longest_add_gtime', 'share_code',\n",
       "       'origin_city', 'origin_state', 'dest_city', 'dest_state', 'arr_date',\n",
       "       'dep_datetime', 'arr_datetime', 'fl_month', 'fl_weekday', 'season',\n",
       "       'dep_min_of_day', 'arr_min_of_day', 'dep_hr', 'arr_hr', 'dep_min_sin',\n",
       "       'dep_min_cos', 'dep_hr_sin', 'dep_hr_cos', 'arr_min_sin', 'arr_min_cos',\n",
       "       'arr_hr_sin', 'arr_hr_cos', 'fl_mnth_sin', 'fl_mnth_cos',\n",
       "       'fl_wkday_sin', 'fl_wkday_cos', 'day_num_of_flights',\n",
       "       'num_flights_6hrs', 'inbound_fl_num', 'inbound_fl',\n",
       "       'op_unique_carrier_leftout_pct', 'op_unique_carrier_leftout_mean',\n",
       "       'tail_num_leftout_pct', 'tail_num_leftout_mean',\n",
       "       'op_carrier_fl_num_leftout_pct', 'op_carrier_fl_num_leftout_mean',\n",
       "       'origin_airport_id_leftout_pct', 'origin_airport_id_leftout_mean',\n",
       "       'dest_airport_id_leftout_pct', 'dest_airport_id_leftout_mean',\n",
       "       'origin_city_leftout_pct', 'origin_city_leftout_mean',\n",
       "       'origin_state_leftout_pct', 'origin_state_leftout_mean',\n",
       "       'dest_city_leftout_pct', 'dest_city_leftout_mean',\n",
       "       'dest_state_leftout_pct', 'dest_state_leftout_mean'],\n",
       "      dtype='object')"
      ]
     },
     "execution_count": 47,
     "metadata": {},
     "output_type": "execute_result"
    }
   ],
   "source": [
    "df_train.columns"
   ]
  },
  {
   "cell_type": "code",
   "execution_count": 48,
   "metadata": {},
   "outputs": [
    {
     "data": {
      "text/html": [
       "<div>\n",
       "<style scoped>\n",
       "    .dataframe tbody tr th:only-of-type {\n",
       "        vertical-align: middle;\n",
       "    }\n",
       "\n",
       "    .dataframe tbody tr th {\n",
       "        vertical-align: top;\n",
       "    }\n",
       "\n",
       "    .dataframe thead th {\n",
       "        text-align: right;\n",
       "    }\n",
       "</style>\n",
       "<table border=\"1\" class=\"dataframe\">\n",
       "  <thead>\n",
       "    <tr style=\"text-align: right;\">\n",
       "      <th></th>\n",
       "      <th>fl_date</th>\n",
       "      <th>op_unique_carrier</th>\n",
       "      <th>tail_num</th>\n",
       "      <th>op_carrier_fl_num</th>\n",
       "      <th>origin_airport_id</th>\n",
       "      <th>dest_airport_id</th>\n",
       "      <th>crs_dep_time</th>\n",
       "      <th>dep_time</th>\n",
       "      <th>dep_delay</th>\n",
       "      <th>taxi_out</th>\n",
       "      <th>...</th>\n",
       "      <th>dest_airport_id_leftout_pct</th>\n",
       "      <th>dest_airport_id_leftout_mean</th>\n",
       "      <th>origin_city_leftout_pct</th>\n",
       "      <th>origin_city_leftout_mean</th>\n",
       "      <th>origin_state_leftout_pct</th>\n",
       "      <th>origin_state_leftout_mean</th>\n",
       "      <th>dest_city_leftout_pct</th>\n",
       "      <th>dest_city_leftout_mean</th>\n",
       "      <th>dest_state_leftout_pct</th>\n",
       "      <th>dest_state_leftout_mean</th>\n",
       "    </tr>\n",
       "  </thead>\n",
       "  <tbody>\n",
       "    <tr>\n",
       "      <th>0</th>\n",
       "      <td>2019-03-16</td>\n",
       "      <td>WN</td>\n",
       "      <td>N8673F</td>\n",
       "      <td>5590</td>\n",
       "      <td>11697</td>\n",
       "      <td>10821</td>\n",
       "      <td>1900-01-01 22:10:00</td>\n",
       "      <td>2202.0</td>\n",
       "      <td>-8.0</td>\n",
       "      <td>12.0</td>\n",
       "      <td>...</td>\n",
       "      <td>0.266667</td>\n",
       "      <td>1.980247</td>\n",
       "      <td>0.313953</td>\n",
       "      <td>7.049419</td>\n",
       "      <td>0.294619</td>\n",
       "      <td>5.539691</td>\n",
       "      <td>0.266667</td>\n",
       "      <td>1.980247</td>\n",
       "      <td>0.269608</td>\n",
       "      <td>2.186275</td>\n",
       "    </tr>\n",
       "    <tr>\n",
       "      <th>1</th>\n",
       "      <td>2018-10-04</td>\n",
       "      <td>WN</td>\n",
       "      <td>N8678E</td>\n",
       "      <td>359</td>\n",
       "      <td>10821</td>\n",
       "      <td>10721</td>\n",
       "      <td>1900-01-01 06:30:00</td>\n",
       "      <td>625.0</td>\n",
       "      <td>-5.0</td>\n",
       "      <td>11.0</td>\n",
       "      <td>...</td>\n",
       "      <td>0.338809</td>\n",
       "      <td>11.772074</td>\n",
       "      <td>0.327635</td>\n",
       "      <td>3.894587</td>\n",
       "      <td>0.319444</td>\n",
       "      <td>3.538889</td>\n",
       "      <td>0.338809</td>\n",
       "      <td>11.772074</td>\n",
       "      <td>0.344064</td>\n",
       "      <td>11.712274</td>\n",
       "    </tr>\n",
       "    <tr>\n",
       "      <th>2</th>\n",
       "      <td>2018-08-08</td>\n",
       "      <td>UA</td>\n",
       "      <td>N16701</td>\n",
       "      <td>1293</td>\n",
       "      <td>14908</td>\n",
       "      <td>11618</td>\n",
       "      <td>1900-01-01 06:45:00</td>\n",
       "      <td>645.0</td>\n",
       "      <td>0.0</td>\n",
       "      <td>32.0</td>\n",
       "      <td>...</td>\n",
       "      <td>0.374477</td>\n",
       "      <td>20.815900</td>\n",
       "      <td>0.282443</td>\n",
       "      <td>3.396947</td>\n",
       "      <td>0.271205</td>\n",
       "      <td>3.785103</td>\n",
       "      <td>0.374477</td>\n",
       "      <td>20.815900</td>\n",
       "      <td>0.378543</td>\n",
       "      <td>20.813765</td>\n",
       "    </tr>\n",
       "    <tr>\n",
       "      <th>3</th>\n",
       "      <td>2019-06-07</td>\n",
       "      <td>DL</td>\n",
       "      <td>N984DL</td>\n",
       "      <td>2694</td>\n",
       "      <td>12448</td>\n",
       "      <td>10397</td>\n",
       "      <td>1900-01-01 16:00:00</td>\n",
       "      <td>1711.0</td>\n",
       "      <td>71.0</td>\n",
       "      <td>12.0</td>\n",
       "      <td>...</td>\n",
       "      <td>0.250189</td>\n",
       "      <td>3.430839</td>\n",
       "      <td>0.315789</td>\n",
       "      <td>3.315789</td>\n",
       "      <td>0.258621</td>\n",
       "      <td>3.706897</td>\n",
       "      <td>0.250189</td>\n",
       "      <td>3.430839</td>\n",
       "      <td>0.251599</td>\n",
       "      <td>3.583511</td>\n",
       "    </tr>\n",
       "    <tr>\n",
       "      <th>4</th>\n",
       "      <td>2018-05-23</td>\n",
       "      <td>WN</td>\n",
       "      <td>N937WN</td>\n",
       "      <td>136</td>\n",
       "      <td>12892</td>\n",
       "      <td>13495</td>\n",
       "      <td>1900-01-01 05:45:00</td>\n",
       "      <td>545.0</td>\n",
       "      <td>0.0</td>\n",
       "      <td>12.0</td>\n",
       "      <td>...</td>\n",
       "      <td>0.297619</td>\n",
       "      <td>7.708333</td>\n",
       "      <td>0.274738</td>\n",
       "      <td>4.793946</td>\n",
       "      <td>0.271205</td>\n",
       "      <td>3.783321</td>\n",
       "      <td>0.297619</td>\n",
       "      <td>7.708333</td>\n",
       "      <td>0.289362</td>\n",
       "      <td>5.472340</td>\n",
       "    </tr>\n",
       "  </tbody>\n",
       "</table>\n",
       "<p>5 rows × 80 columns</p>\n",
       "</div>"
      ],
      "text/plain": [
       "      fl_date op_unique_carrier tail_num op_carrier_fl_num origin_airport_id  \\\n",
       "0  2019-03-16                WN   N8673F              5590             11697   \n",
       "1  2018-10-04                WN   N8678E               359             10821   \n",
       "2  2018-08-08                UA   N16701              1293             14908   \n",
       "3  2019-06-07                DL   N984DL              2694             12448   \n",
       "4  2018-05-23                WN   N937WN               136             12892   \n",
       "\n",
       "  dest_airport_id         crs_dep_time  dep_time  dep_delay  taxi_out  ...  \\\n",
       "0           10821  1900-01-01 22:10:00    2202.0       -8.0      12.0  ...   \n",
       "1           10721  1900-01-01 06:30:00     625.0       -5.0      11.0  ...   \n",
       "2           11618  1900-01-01 06:45:00     645.0        0.0      32.0  ...   \n",
       "3           10397  1900-01-01 16:00:00    1711.0       71.0      12.0  ...   \n",
       "4           13495  1900-01-01 05:45:00     545.0        0.0      12.0  ...   \n",
       "\n",
       "   dest_airport_id_leftout_pct  dest_airport_id_leftout_mean  \\\n",
       "0                     0.266667                      1.980247   \n",
       "1                     0.338809                     11.772074   \n",
       "2                     0.374477                     20.815900   \n",
       "3                     0.250189                      3.430839   \n",
       "4                     0.297619                      7.708333   \n",
       "\n",
       "   origin_city_leftout_pct origin_city_leftout_mean  origin_state_leftout_pct  \\\n",
       "0                 0.313953                 7.049419                  0.294619   \n",
       "1                 0.327635                 3.894587                  0.319444   \n",
       "2                 0.282443                 3.396947                  0.271205   \n",
       "3                 0.315789                 3.315789                  0.258621   \n",
       "4                 0.274738                 4.793946                  0.271205   \n",
       "\n",
       "   origin_state_leftout_mean  dest_city_leftout_pct dest_city_leftout_mean  \\\n",
       "0                   5.539691               0.266667               1.980247   \n",
       "1                   3.538889               0.338809              11.772074   \n",
       "2                   3.785103               0.374477              20.815900   \n",
       "3                   3.706897               0.250189               3.430839   \n",
       "4                   3.783321               0.297619               7.708333   \n",
       "\n",
       "   dest_state_leftout_pct  dest_state_leftout_mean  \n",
       "0                0.269608                 2.186275  \n",
       "1                0.344064                11.712274  \n",
       "2                0.378543                20.813765  \n",
       "3                0.251599                 3.583511  \n",
       "4                0.289362                 5.472340  \n",
       "\n",
       "[5 rows x 80 columns]"
      ]
     },
     "execution_count": 48,
     "metadata": {},
     "output_type": "execute_result"
    }
   ],
   "source": [
    "df_train.head()"
   ]
  },
  {
   "cell_type": "code",
   "execution_count": 307,
   "metadata": {},
   "outputs": [],
   "source": [
    "avail_features = [\n",
    "    # 'fl_date',\n",
    "    # 'op_unique_carrier',\n",
    "    # 'tail_num', \n",
    "    # 'op_carrier_fl_num',\n",
    "    # 'origin_airport_id',\n",
    "    # 'dest_airport_id',\n",
    "    # 'crs_dep_time',\n",
    "    # 'crs_arr_time',\n",
    "    # 'crs_elapsed_time',\n",
    "    'distance',\n",
    "    'share_code',\n",
    "    # 'origin_city',\n",
    "    # 'origin_state',\n",
    "    # 'dest_city',\n",
    "    # 'dest_state',\n",
    "    # 'arr_date',\n",
    "    # 'dep_datetime',\n",
    "    # 'arr_datetime',\n",
    "    # 'fl_month',\n",
    "    # 'fl_weekday',\n",
    "    # 'season',\n",
    "    # 'day_num_of_flights',\n",
    "    'num_flights_6hrs',\n",
    "    'inbound_fl_num',\n",
    "    # 'inbound_fl',\n",
    "    # 'dep_min_of_day',\n",
    "    # 'arr_min_of_day',\n",
    "    # 'dep_hr',\n",
    "    # 'arr_hr',\n",
    "    'arr_min_sin',\n",
    "    'arr_min_cos',\n",
    "    # 'arr_hr_sin',\n",
    "    # 'arr_hr_cos',\n",
    "    'dep_min_sin', \n",
    "    'dep_min_cos', \n",
    "    # 'dep_hr_sin', \n",
    "    # 'dep_hr_cos',\n",
    "    'fl_mnth_sin', \n",
    "    'fl_mnth_cos',\n",
    "    'fl_wkday_sin',\n",
    "    'fl_wkday_cos',\n",
    "    # 'op_unique_carrier_leftout_pct',\n",
    "    'op_unique_carrier_leftout_mean',\n",
    "    # 'tail_num_leftout_pct', \n",
    "    # 'tail_num_leftout_mean',\n",
    "    # 'op_carrier_fl_num_leftout_pct',\n",
    "    'op_carrier_fl_num_leftout_mean',\n",
    "    # 'origin_airport_id_leftout_pct', \n",
    "    'origin_airport_id_leftout_mean',\n",
    "    # 'dest_airport_id_leftout_pct',\n",
    "    'dest_airport_id_leftout_mean',\n",
    "    # 'origin_city_leftout_pct',\n",
    "    # 'origin_city_leftout_mean',\n",
    "    # 'origin_state_leftout_pct', \n",
    "    # 'origin_state_leftout_mean',\n",
    "    # 'dest_city_leftout_pct', \n",
    "    'dest_city_leftout_mean',\n",
    "    # 'dest_state_leftout_pct',\n",
    "    # 'dest_state_leftout_mean'\n",
    "]"
   ]
  },
  {
   "cell_type": "code",
   "execution_count": 316,
   "metadata": {},
   "outputs": [],
   "source": [
    "X_train_scaled = scaler.fit_transform(df_train[avail_features])\n",
    "y_train_scaled = scaler.fit_transform(df_train[['arr_delay']])\n",
    "X_test_scaled = scaler.fit_transform(df_test[avail_features])\n",
    "y_test_scaled = scaler.fit_transform(df_test[['arr_delay']])\n",
    "rr = Ridge(alpha = 0.2)\n",
    "rr.fit(X_train_scaled, y_train_scaled)\n",
    "y_pred = rr.predict(X_test_scaled)"
   ]
  },
  {
   "cell_type": "code",
   "execution_count": 317,
   "metadata": {},
   "outputs": [
    {
     "data": {
      "text/plain": [
       "0.018544520976411905"
      ]
     },
     "execution_count": 317,
     "metadata": {},
     "output_type": "execute_result"
    }
   ],
   "source": [
    "r2_score(y_test_scaled, y_pred)"
   ]
  },
  {
   "cell_type": "code",
   "execution_count": 318,
   "metadata": {},
   "outputs": [
    {
     "data": {
      "text/plain": [
       "0.018276429456522303"
      ]
     },
     "execution_count": 318,
     "metadata": {},
     "output_type": "execute_result"
    }
   ],
   "source": [
    "rr.score(X_train_scaled, y_train_scaled)"
   ]
  },
  {
   "cell_type": "markdown",
   "metadata": {},
   "source": [
    "#### XGBoost"
   ]
  },
  {
   "cell_type": "code",
   "execution_count": null,
   "metadata": {},
   "outputs": [],
   "source": [
    "avail_features = [\n",
    "    # 'fl_date',\n",
    "    # 'op_unique_carrier',\n",
    "    # 'tail_num', \n",
    "    # 'op_carrier_fl_num',\n",
    "    # 'origin_airport_id',\n",
    "    # 'dest_airport_id',\n",
    "    # 'crs_dep_time',\n",
    "    # 'crs_arr_time',\n",
    "    # 'crs_elapsed_time',\n",
    "    'distance',\n",
    "    'share_code',\n",
    "    # 'origin_city',\n",
    "    # 'origin_state',\n",
    "    # 'dest_city',\n",
    "    # 'dest_state',\n",
    "    # 'arr_date',\n",
    "    # 'dep_datetime',\n",
    "    # 'arr_datetime',\n",
    "    # 'fl_month',\n",
    "    # 'fl_weekday',\n",
    "    # 'season',\n",
    "    # 'day_num_of_flights',\n",
    "    'num_flights_6hrs',\n",
    "    'inbound_fl_num',\n",
    "    # 'inbound_fl',\n",
    "    # 'dep_min_of_day',\n",
    "    # 'arr_min_of_day',\n",
    "    # 'dep_hr',\n",
    "    # 'arr_hr',\n",
    "    'arr_min_sin',\n",
    "    'arr_min_cos',\n",
    "    # 'arr_hr_sin',\n",
    "    # 'arr_hr_cos',\n",
    "    'dep_min_sin', \n",
    "    'dep_min_cos', \n",
    "    # 'dep_hr_sin', \n",
    "    # 'dep_hr_cos',\n",
    "    'fl_mnth_sin', \n",
    "    'fl_mnth_cos',\n",
    "    'fl_wkday_sin',\n",
    "    'fl_wkday_cos',\n",
    "    # 'op_unique_carrier_leftout_pct',\n",
    "    'op_unique_carrier_leftout_mean',\n",
    "    # 'tail_num_leftout_pct', \n",
    "    # 'tail_num_leftout_mean',\n",
    "    # 'op_carrier_fl_num_leftout_pct',\n",
    "    'op_carrier_fl_num_leftout_mean',\n",
    "    # 'origin_airport_id_leftout_pct', \n",
    "    'origin_airport_id_leftout_mean',\n",
    "    # 'dest_airport_id_leftout_pct',\n",
    "    'dest_airport_id_leftout_mean',\n",
    "    # 'origin_city_leftout_pct',\n",
    "    # 'origin_city_leftout_mean',\n",
    "    # 'origin_state_leftout_pct', \n",
    "    # 'origin_state_leftout_mean',\n",
    "    # 'dest_city_leftout_pct', \n",
    "    'dest_city_leftout_mean',\n",
    "    # 'dest_state_leftout_pct',\n",
    "    # 'dest_state_leftout_mean'\n",
    "]"
   ]
  },
  {
   "cell_type": "code",
   "execution_count": 325,
   "metadata": {},
   "outputs": [],
   "source": [
    "# X_train, X_test, y_train, y_test = train_test_split(df[avail_features], df['arr_delay'], train_size=0.7, test_size=0.3, random_state=888)\n",
    "X_train = df_train[avail_features]\n",
    "y_train = df_train['arr_delay']\n",
    "# y_train = df_train['arr_delay']\n",
    "\n",
    "X_test = df_test[avail_features]\n",
    "y_test = df_test['arr_delay']\n",
    "\n",
    "xg_reg = XGBRegressor(objective ='reg:squarederror',\n",
    "                      learning_rate = 0.01,\n",
    "                      max_depth = 2,\n",
    "                      # reg_lambda = 15,\n",
    "                      # gamma = 10,\n",
    "                      n_estimators = 500)\n",
    "xg_reg.fit(X_train, y_train)\n",
    "y_pred = xg_reg.predict(X_test)\n",
    "# y_pred = np.exp(xg_reg.predict(X_test)) + diff"
   ]
  },
  {
   "cell_type": "code",
   "execution_count": 326,
   "metadata": {},
   "outputs": [
    {
     "data": {
      "text/plain": [
       "0.013520683493049357"
      ]
     },
     "execution_count": 326,
     "metadata": {},
     "output_type": "execute_result"
    }
   ],
   "source": [
    "r2_score(y_test, y_pred)"
   ]
  },
  {
   "cell_type": "code",
   "execution_count": 201,
   "metadata": {},
   "outputs": [
    {
     "data": {
      "text/plain": [
       "0.6666222675130924"
      ]
     },
     "execution_count": 201,
     "metadata": {},
     "output_type": "execute_result"
    }
   ],
   "source": [
    "xg_reg.score(X_train, y_train)"
   ]
  },
  {
   "cell_type": "code",
   "execution_count": 151,
   "metadata": {},
   "outputs": [],
   "source": [
    "# read file\n",
    "df_pred = pd.read_csv('data/flights_preprocessed_pred_9k.csv', index_col=0)\n",
    "\n",
    "# reset dtypes\n",
    "# reset dtypes\n",
    "categorical_features = ['op_unique_carrier',\n",
    "                        'tail_num', \n",
    "                        'op_carrier_fl_num',\n",
    "                        'origin_airport_id',\n",
    "                        'dest_airport_id',\n",
    "                        # 'share_code',\n",
    "                        'origin_city',\n",
    "                        'origin_state',\n",
    "                        'dest_city',\n",
    "                        'dest_state',\n",
    "                        'fl_month',\n",
    "                        'fl_weekday',\n",
    "                        'season',\n",
    "                        'inbound_fl']\n",
    "df_pred[categorical_features] = df_pred[categorical_features].astype('str')\n",
    "\n",
    "# df_train[categorical_features] = df_train[categorical_features].astype('str')\n",
    "# df_test[categorical_features] =df_test[categorical_features].astype('str')\n",
    "# Feature imputation\n",
    "# add features to predict set with values computed by above dataset\n",
    "# for example, flight No.#### used to have 7 delays in training set, then add 7 to same flight No. in test set\n",
    "# assign 7 to flight No.##### in this example\n",
    "feature_add = [['op_unique_carrier', 'op_unique_carrier_leftout_pct', 'op_unique_carrier_leftout_mean'],\n",
    "               ['tail_num', 'tail_num_leftout_pct', 'tail_num_leftout_mean'],\n",
    "               ['op_carrier_fl_num', 'op_carrier_fl_num_leftout_pct', 'op_carrier_fl_num_leftout_mean'],\n",
    "               ['origin_airport_id', 'origin_airport_id_leftout_pct', 'origin_airport_id_leftout_mean'],\n",
    "               ['dest_airport_id', 'dest_airport_id_leftout_pct', 'dest_airport_id_leftout_mean'],\n",
    "               ['origin_city', 'origin_city_leftout_pct', 'origin_city_leftout_mean'],\n",
    "               ['origin_state', 'origin_state_leftout_pct', 'origin_state_leftout_mean'],\n",
    "               ['dest_city', 'dest_city_leftout_pct', 'dest_city_leftout_mean'],\n",
    "               ['dest_state', 'dest_state_leftout_pct', 'dest_state_leftout_mean']]\n",
    "              \n",
    "delay_mean = df['arr_delay'].mean()\n",
    "\n",
    "for cols in feature_add:\n",
    "    cats_means = df_train[cols].groupby(cols[0], as_index=False).mean()\n",
    "    df_pred = pd.merge(df_pred, cats_means, on=cols[0], how='left').fillna(delay_mean)"
   ]
  },
  {
   "cell_type": "code",
   "execution_count": 152,
   "metadata": {},
   "outputs": [
    {
     "data": {
      "text/plain": [
       "0.00828366814250503"
      ]
     },
     "execution_count": 152,
     "metadata": {},
     "output_type": "execute_result"
    }
   ],
   "source": [
    "X_pred = df_pred[avail_features]\n",
    "y_pred = xg_reg.predict(X_pred)\n",
    "y_true = df_pred['arr_delay']\n",
    "r2_score(y_true, y_pred)"
   ]
  },
  {
   "cell_type": "code",
   "execution_count": 28,
   "metadata": {
    "jupyter": {
     "source_hidden": true
    },
    "tags": []
   },
   "outputs": [],
   "source": [
    "# X_train = df_train[avail_features]\n",
    "# # y_train = target_train_log\n",
    "# y_train = target_train\n",
    "# X_test = df_test[avail_features]\n",
    "# y_test = target_test\n",
    "\n",
    "# xg_reg = XGBRegressor(objective ='reg:squarederror',\n",
    "#                       learning_rate = 0.1,\n",
    "#                       max_depth = 6,\n",
    "#                       # reg_lambda = 10,\n",
    "#                       n_estimators = 300)\n",
    "# xg_reg.fit(X_train, y_train)\n",
    "# y_pred = xg_reg.predict(X_test)\n",
    "# y_pred = np.exp(xg_reg.predict(X_test)) + diff"
   ]
  },
  {
   "cell_type": "code",
   "execution_count": 29,
   "metadata": {},
   "outputs": [
    {
     "data": {
      "text/plain": [
       "0.9530710560765032"
      ]
     },
     "execution_count": 29,
     "metadata": {},
     "output_type": "execute_result"
    }
   ],
   "source": [
    "# xg_reg.score(X_train, y_train)"
   ]
  },
  {
   "cell_type": "code",
   "execution_count": 30,
   "metadata": {},
   "outputs": [
    {
     "data": {
      "text/plain": [
       "0.49758117556661596"
      ]
     },
     "execution_count": 30,
     "metadata": {},
     "output_type": "execute_result"
    }
   ],
   "source": [
    "# xg_reg.score(X_test, y_test)"
   ]
  },
  {
   "cell_type": "code",
   "execution_count": 31,
   "metadata": {},
   "outputs": [
    {
     "data": {
      "text/plain": [
       "0.49758117556661596"
      ]
     },
     "execution_count": 31,
     "metadata": {},
     "output_type": "execute_result"
    }
   ],
   "source": [
    "## Best Score got so far\n",
    "# r2_score(y_test, y_pred)"
   ]
  },
  {
   "cell_type": "code",
   "execution_count": 43,
   "metadata": {},
   "outputs": [],
   "source": [
    "# features = [\n",
    "#     # 'op_unique_carrier',\n",
    "#     # 'tail_num'.\n",
    "#     # 'op_carrier_fl_num',\n",
    "#     # 'origin_airport_id',\n",
    "#     # 'dest_airport_id',\n",
    "#     # 'crs_elapsed_time',\n",
    "#     'distance',\n",
    "#     'share_code',\n",
    "#     # 'origin_city',\n",
    "#     # 'origin_state',\n",
    "#     # 'dest_city',\n",
    "#     # 'dest_state',\n",
    "#     # 'fl_month',\n",
    "#     # 'fl_weekday',\n",
    "#     # 'season',\n",
    "#     # 'day_num_of_flights',\n",
    "#     # 'num_flights_6hr',\n",
    "#     # 'inbound_fl_num',\n",
    "#     # 'inbound_fl',\n",
    "#     # 'dep_min_of_day',\n",
    "#     # 'arr_min_of_day',\n",
    "#     # 'dep_hr',\n",
    "#     # 'arr_hr',\n",
    "#     # 'arr_hr_sin',\n",
    "#     # 'arr_hr_cos',\n",
    "#     # 'arr_min_sin',\n",
    "#     # 'arr_min_cos',\n",
    "#     'dep_min_sin',\n",
    "#     # 'dep_min_cos',\n",
    "#     # 'dep_hr_sin',\n",
    "#     # 'dep_hr_cos',\n",
    "#     # 'fl_mnth_sin',\n",
    "#     # 'fl_mnth_cos',\n",
    "#     # 'fl_wkday_sin',\n",
    "#     # 'fl_wkday_cos',\n",
    "#     # 'op_unique_carrier_delayct',\n",
    "#     # 'op_unique_carrier_delaymedian',\n",
    "#     'tail_num_delayct',\n",
    "#     # 'tail_num_delaymedian',\n",
    "#     'op_carrier_fl_num_delayct',\n",
    "#     # 'op_carrier_fl_num_delaymedian',\n",
    "#     # 'origin_airport_id_delayct',\n",
    "#     # 'origin_airport_id_delaymedian',\n",
    "#     # 'dest_airport_id_delayct',\n",
    "#     # 'dest_airport_id_delaymedian',\n",
    "#     # 'origin_city_delayct',\n",
    "#     'origin_city_delaymedian',\n",
    "#     # 'origin_state_delayct',\n",
    "#     'origin_state_delaymedian',\n",
    "#     'dest_city_delayct',\n",
    "#     # 'dest_city_delaymedian',\n",
    "#     # 'dest_state_delayct',\n",
    "#     'dest_state_delaymedian'\n",
    "# ]"
   ]
  },
  {
   "cell_type": "code",
   "execution_count": 44,
   "metadata": {},
   "outputs": [],
   "source": [
    "# scores = []\n",
    "# for f in features:\n",
    "#     X_train = df_train[[f]]\n",
    "#     y_train = target_train_log\n",
    "#     X_test = df_test[[f]]\n",
    "#     y_test = target_test\n",
    "    \n",
    "#     xg_reg = XGBRegressor(objective ='reg:squarederror',\n",
    "#                       learning_rate = 0.1,\n",
    "#                       max_depth = 6,\n",
    "#                       # reg_lambda = 10,\n",
    "#                       n_estimators = 300)\n",
    "#     xg_reg.fit(X_train, y_train)\n",
    "#     y_pred = np.exp(xg_reg.predict(X_test)) + diff\n",
    "#     # y_pred = xg_reg.predict(X_test)\n",
    "    \n",
    "#     scores.append([f, xg_reg.score(X_train, y_train), r2_score(y_test, y_pred)])"
   ]
  },
  {
   "cell_type": "code",
   "execution_count": 45,
   "metadata": {
    "collapsed": true,
    "jupyter": {
     "outputs_hidden": true
    },
    "tags": []
   },
   "outputs": [
    {
     "data": {
      "text/html": [
       "<div>\n",
       "<style scoped>\n",
       "    .dataframe tbody tr th:only-of-type {\n",
       "        vertical-align: middle;\n",
       "    }\n",
       "\n",
       "    .dataframe tbody tr th {\n",
       "        vertical-align: top;\n",
       "    }\n",
       "\n",
       "    .dataframe thead th {\n",
       "        text-align: right;\n",
       "    }\n",
       "</style>\n",
       "<table border=\"1\" class=\"dataframe\">\n",
       "  <thead>\n",
       "    <tr style=\"text-align: right;\">\n",
       "      <th></th>\n",
       "      <th>0</th>\n",
       "      <th>1</th>\n",
       "      <th>2</th>\n",
       "    </tr>\n",
       "  </thead>\n",
       "  <tbody>\n",
       "    <tr>\n",
       "      <th>5</th>\n",
       "      <td>origin_city_delaymedian</td>\n",
       "      <td>0.824356</td>\n",
       "      <td>0.240021</td>\n",
       "    </tr>\n",
       "  </tbody>\n",
       "</table>\n",
       "</div>"
      ],
      "text/plain": [
       "                         0         1         2\n",
       "5  origin_city_delaymedian  0.824356  0.240021"
      ]
     },
     "execution_count": 45,
     "metadata": {},
     "output_type": "execute_result"
    }
   ],
   "source": [
    "# s = pd.DataFrame(scores)\n",
    "# s[s[2]==s[2].max()]"
   ]
  },
  {
   "cell_type": "code",
   "execution_count": null,
   "metadata": {},
   "outputs": [],
   "source": []
  },
  {
   "cell_type": "code",
   "execution_count": null,
   "metadata": {},
   "outputs": [],
   "source": []
  },
  {
   "cell_type": "code",
   "execution_count": null,
   "metadata": {},
   "outputs": [],
   "source": []
  },
  {
   "cell_type": "markdown",
   "metadata": {},
   "source": [
    "### Evaluation"
   ]
  },
  {
   "cell_type": "markdown",
   "metadata": {},
   "source": [
    "You have data from 2018 and 2019 to develop models. Use different evaluation metrics for each problem and compare the performance of different models.\n",
    "\n",
    "You are required to predict delays on **out of sample** data from **first 7 days (1st-7th) of January 2020** and to share the file with LighthouseLabs. Sample submission can be found in the file **_sample_submission.csv_**"
   ]
  },
  {
   "cell_type": "code",
   "execution_count": null,
   "metadata": {},
   "outputs": [],
   "source": []
  },
  {
   "cell_type": "code",
   "execution_count": null,
   "metadata": {},
   "outputs": [],
   "source": []
  },
  {
   "cell_type": "code",
   "execution_count": null,
   "metadata": {},
   "outputs": [],
   "source": []
  },
  {
   "cell_type": "code",
   "execution_count": null,
   "metadata": {},
   "outputs": [],
   "source": []
  },
  {
   "cell_type": "markdown",
   "metadata": {},
   "source": [
    "======================================================================\n",
    "## Stretch Tasks"
   ]
  },
  {
   "cell_type": "markdown",
   "metadata": {},
   "source": [
    "### Multiclass Classification"
   ]
  },
  {
   "cell_type": "markdown",
   "metadata": {},
   "source": [
    "The target variables are **CARRIER_DELAY, WEATHER_DELAY, NAS_DELAY, SECURITY_DELAY, LATE_AIRCRAFT_DELAY**. We need to do additional transformations because these variables are not binary but continuos. For each flight that was delayed, we need to have one of these variables as 1 and others 0.\n",
    "\n",
    "It can happen that we have two types of delays with more than 0 minutes. In this case, take the bigger one as 1 and others as 0."
   ]
  },
  {
   "cell_type": "code",
   "execution_count": null,
   "metadata": {},
   "outputs": [],
   "source": []
  },
  {
   "cell_type": "code",
   "execution_count": null,
   "metadata": {},
   "outputs": [],
   "source": []
  },
  {
   "cell_type": "code",
   "execution_count": null,
   "metadata": {},
   "outputs": [],
   "source": []
  },
  {
   "cell_type": "markdown",
   "metadata": {},
   "source": [
    "### Binary Classification"
   ]
  },
  {
   "cell_type": "markdown",
   "metadata": {},
   "source": [
    "The target variable is **CANCELLED**. The main problem here is going to be huge class imbalance. We have only very little cancelled flights with comparison to all flights. It is important to do the right sampling before training and to choose correct evaluation metrics."
   ]
  },
  {
   "cell_type": "code",
   "execution_count": null,
   "metadata": {},
   "outputs": [],
   "source": []
  },
  {
   "cell_type": "code",
   "execution_count": null,
   "metadata": {},
   "outputs": [],
   "source": []
  },
  {
   "cell_type": "code",
   "execution_count": null,
   "metadata": {},
   "outputs": [],
   "source": []
  }
 ],
 "metadata": {
  "kernelspec": {
   "display_name": "Python 3 (ipykernel)",
   "language": "python",
   "name": "python3"
  },
  "language_info": {
   "codemirror_mode": {
    "name": "ipython",
    "version": 3
   },
   "file_extension": ".py",
   "mimetype": "text/x-python",
   "name": "python",
   "nbconvert_exporter": "python",
   "pygments_lexer": "ipython3",
   "version": "3.9.7"
  }
 },
 "nbformat": 4,
 "nbformat_minor": 4
}
