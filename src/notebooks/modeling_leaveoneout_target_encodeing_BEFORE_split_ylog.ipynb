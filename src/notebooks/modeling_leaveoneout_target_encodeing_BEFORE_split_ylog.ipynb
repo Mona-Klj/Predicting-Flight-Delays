{
 "cells": [
  {
   "cell_type": "markdown",
   "metadata": {},
   "source": [
    "# Machine Learning\n",
    "\n",
    "In this file, instructions how to approach the challenge can be found."
   ]
  },
  {
   "cell_type": "markdown",
   "metadata": {},
   "source": [
    "We are going to work on different types of Machine Learning problems:\n",
    "\n",
    "- **Regression Problem**: The goal is to predict delay of flights.\n",
    "- **(Stretch) Multiclass Classification**: If the plane was delayed, we will predict what type of delay it is (will be).\n",
    "- **(Stretch) Binary Classification**: The goal is to predict if the flight will be cancelled."
   ]
  },
  {
   "cell_type": "code",
   "execution_count": 1,
   "metadata": {},
   "outputs": [
    {
     "name": "stderr",
     "output_type": "stream",
     "text": [
      "C:\\Users\\cfsui\\anaconda3\\lib\\site-packages\\xgboost\\compat.py:36: FutureWarning: pandas.Int64Index is deprecated and will be removed from pandas in a future version. Use pandas.Index with the appropriate dtype instead.\n",
      "  from pandas import MultiIndex, Int64Index\n"
     ]
    }
   ],
   "source": [
    "# import pandas\n",
    "import pandas as pd\n",
    "import numpy as np\n",
    "import copy\n",
    "\n",
    "import seaborn as sns\n",
    "import matplotlib.pyplot as plt\n",
    "\n",
    "from scipy import stats\n",
    "from sklearn.preprocessing import StandardScaler\n",
    "scaler = StandardScaler()\n",
    "from sklearn.decomposition import PCA\n",
    "\n",
    "from sklearn.model_selection import train_test_split, GridSearchCV, cross_validate, cross_val_score\n",
    "from sklearn.linear_model import LinearRegression, Ridge, Lasso\n",
    "from sklearn.ensemble import GradientBoostingRegressor, RandomForestRegressor\n",
    "from sklearn.svm import SVR\n",
    "from xgboost import XGBRegressor, XGBClassifier, plot_importance\n",
    "from sklearn.metrics import r2_score, mean_squared_error\n",
    "\n",
    "import warnings\n",
    "warnings.simplefilter(action='ignore', category=FutureWarning)"
   ]
  },
  {
   "cell_type": "markdown",
   "metadata": {},
   "source": [
    "### Read Preprocessed Data"
   ]
  },
  {
   "cell_type": "code",
   "execution_count": 32,
   "metadata": {},
   "outputs": [
    {
     "data": {
      "text/html": [
       "<div>\n",
       "<style scoped>\n",
       "    .dataframe tbody tr th:only-of-type {\n",
       "        vertical-align: middle;\n",
       "    }\n",
       "\n",
       "    .dataframe tbody tr th {\n",
       "        vertical-align: top;\n",
       "    }\n",
       "\n",
       "    .dataframe thead th {\n",
       "        text-align: right;\n",
       "    }\n",
       "</style>\n",
       "<table border=\"1\" class=\"dataframe\">\n",
       "  <thead>\n",
       "    <tr style=\"text-align: right;\">\n",
       "      <th></th>\n",
       "      <th>fl_date</th>\n",
       "      <th>op_unique_carrier</th>\n",
       "      <th>tail_num</th>\n",
       "      <th>op_carrier_fl_num</th>\n",
       "      <th>origin_airport_id</th>\n",
       "      <th>dest_airport_id</th>\n",
       "      <th>crs_dep_time</th>\n",
       "      <th>dep_time</th>\n",
       "      <th>dep_delay</th>\n",
       "      <th>taxi_out</th>\n",
       "      <th>...</th>\n",
       "      <th>arr_hr_sin</th>\n",
       "      <th>arr_hr_cos</th>\n",
       "      <th>fl_mnth_sin</th>\n",
       "      <th>fl_mnth_cos</th>\n",
       "      <th>fl_wkday_sin</th>\n",
       "      <th>fl_wkday_cos</th>\n",
       "      <th>day_num_of_flights</th>\n",
       "      <th>num_flights_6hrs</th>\n",
       "      <th>inbound_fl_num</th>\n",
       "      <th>inbound_fl</th>\n",
       "    </tr>\n",
       "  </thead>\n",
       "  <tbody>\n",
       "    <tr>\n",
       "      <th>0</th>\n",
       "      <td>2019-06-07</td>\n",
       "      <td>WN</td>\n",
       "      <td>N8683D</td>\n",
       "      <td>2784</td>\n",
       "      <td>12889</td>\n",
       "      <td>11066</td>\n",
       "      <td>1900-01-01 18:30:00</td>\n",
       "      <td>1825.0</td>\n",
       "      <td>-5.0</td>\n",
       "      <td>18.0</td>\n",
       "      <td>...</td>\n",
       "      <td>0.258819</td>\n",
       "      <td>0.965926</td>\n",
       "      <td>1.224647e-16</td>\n",
       "      <td>-1.000000</td>\n",
       "      <td>-0.433884</td>\n",
       "      <td>-0.900969</td>\n",
       "      <td>25</td>\n",
       "      <td>9</td>\n",
       "      <td>0</td>\n",
       "      <td>0</td>\n",
       "    </tr>\n",
       "    <tr>\n",
       "      <th>1</th>\n",
       "      <td>2019-07-26</td>\n",
       "      <td>B6</td>\n",
       "      <td>N535JB</td>\n",
       "      <td>1347</td>\n",
       "      <td>11278</td>\n",
       "      <td>14843</td>\n",
       "      <td>1900-01-01 08:00:00</td>\n",
       "      <td>808.0</td>\n",
       "      <td>8.0</td>\n",
       "      <td>15.0</td>\n",
       "      <td>...</td>\n",
       "      <td>0.258819</td>\n",
       "      <td>-0.965926</td>\n",
       "      <td>-5.000000e-01</td>\n",
       "      <td>-0.866025</td>\n",
       "      <td>-0.433884</td>\n",
       "      <td>-0.900969</td>\n",
       "      <td>4</td>\n",
       "      <td>2</td>\n",
       "      <td>0</td>\n",
       "      <td>0</td>\n",
       "    </tr>\n",
       "    <tr>\n",
       "      <th>2</th>\n",
       "      <td>2019-06-03</td>\n",
       "      <td>CP</td>\n",
       "      <td>N217NN</td>\n",
       "      <td>6092</td>\n",
       "      <td>12892</td>\n",
       "      <td>11292</td>\n",
       "      <td>1900-01-01 19:43:00</td>\n",
       "      <td>2014.0</td>\n",
       "      <td>31.0</td>\n",
       "      <td>14.0</td>\n",
       "      <td>...</td>\n",
       "      <td>-0.258819</td>\n",
       "      <td>0.965926</td>\n",
       "      <td>1.224647e-16</td>\n",
       "      <td>-1.000000</td>\n",
       "      <td>0.000000</td>\n",
       "      <td>1.000000</td>\n",
       "      <td>15</td>\n",
       "      <td>12</td>\n",
       "      <td>1</td>\n",
       "      <td>1</td>\n",
       "    </tr>\n",
       "  </tbody>\n",
       "</table>\n",
       "<p>3 rows × 62 columns</p>\n",
       "</div>"
      ],
      "text/plain": [
       "      fl_date op_unique_carrier tail_num  op_carrier_fl_num  \\\n",
       "0  2019-06-07                WN   N8683D               2784   \n",
       "1  2019-07-26                B6   N535JB               1347   \n",
       "2  2019-06-03                CP   N217NN               6092   \n",
       "\n",
       "   origin_airport_id  dest_airport_id         crs_dep_time  dep_time  \\\n",
       "0              12889            11066  1900-01-01 18:30:00    1825.0   \n",
       "1              11278            14843  1900-01-01 08:00:00     808.0   \n",
       "2              12892            11292  1900-01-01 19:43:00    2014.0   \n",
       "\n",
       "   dep_delay  taxi_out  ...  arr_hr_sin  arr_hr_cos   fl_mnth_sin fl_mnth_cos  \\\n",
       "0       -5.0      18.0  ...    0.258819    0.965926  1.224647e-16   -1.000000   \n",
       "1        8.0      15.0  ...    0.258819   -0.965926 -5.000000e-01   -0.866025   \n",
       "2       31.0      14.0  ...   -0.258819    0.965926  1.224647e-16   -1.000000   \n",
       "\n",
       "   fl_wkday_sin  fl_wkday_cos  day_num_of_flights num_flights_6hrs  \\\n",
       "0     -0.433884     -0.900969                  25                9   \n",
       "1     -0.433884     -0.900969                   4                2   \n",
       "2      0.000000      1.000000                  15               12   \n",
       "\n",
       "   inbound_fl_num  inbound_fl  \n",
       "0               0           0  \n",
       "1               0           0  \n",
       "2               1           1  \n",
       "\n",
       "[3 rows x 62 columns]"
      ]
     },
     "execution_count": 32,
     "metadata": {},
     "output_type": "execute_result"
    }
   ],
   "source": [
    "# load data\n",
    "df = pd.read_csv(\"data/flights_preprocessed_42k.csv\", index_col=0)\n",
    "df.head(3)"
   ]
  },
  {
   "cell_type": "code",
   "execution_count": 33,
   "metadata": {},
   "outputs": [
    {
     "data": {
      "text/plain": [
       "(42127, 62)"
      ]
     },
     "execution_count": 33,
     "metadata": {},
     "output_type": "execute_result"
    }
   ],
   "source": [
    "df.shape"
   ]
  },
  {
   "cell_type": "code",
   "execution_count": 34,
   "metadata": {},
   "outputs": [],
   "source": [
    "# reset dtypes\n",
    "categorical_features = ['op_unique_carrier',\n",
    "                        'tail_num', \n",
    "                        'op_carrier_fl_num',\n",
    "                        'origin_airport_id',\n",
    "                        'dest_airport_id',\n",
    "                        # 'share_code',\n",
    "                        'origin_city',\n",
    "                        'origin_state',\n",
    "                        'dest_city',\n",
    "                        'dest_state',\n",
    "                        'fl_month',\n",
    "                        'fl_weekday',\n",
    "                        'season',\n",
    "                        'inbound_fl']\n",
    "\n",
    "df[categorical_features] = df[categorical_features].astype('str')\n",
    "# df_train[categorical_features] = df_train[categorical_features].astype('str')\n",
    "# df_test[categorical_features] =df_test[categorical_features].astype('str')"
   ]
  },
  {
   "cell_type": "markdown",
   "metadata": {
    "tags": []
   },
   "source": [
    "#### Transform Target Variable"
   ]
  },
  {
   "cell_type": "code",
   "execution_count": 35,
   "metadata": {},
   "outputs": [
    {
     "data": {
      "image/png": "[encoded data removed]",
      "text/plain": [
       "<Figure size 432x288 with 1 Axes>"
      ]
     },
     "metadata": {
      "needs_background": "light"
     },
     "output_type": "display_data"
    }
   ],
   "source": [
    "# target variable distribution\n",
    "# left skewed with long tail\n",
    "# target_train = df_train['arr_delay']\n",
    "# target_test = df_test['arr_delay']\n",
    "target = df['arr_delay']\n",
    "sns.histplot(data=target)\n",
    "plt.show()"
   ]
  },
  {
   "cell_type": "code",
   "execution_count": 36,
   "metadata": {},
   "outputs": [
    {
     "data": {
      "image/png": "[encoded data removed]",
      "text/plain": [
       "<Figure size 432x288 with 1 Axes>"
      ]
     },
     "metadata": {
      "needs_background": "light"
     },
     "output_type": "display_data"
    }
   ],
   "source": [
    "# target variable distribution after log transformation in training set\n",
    "# If use transformed target variable to train, when evaluate prediction results, REMEMBER to transform predicted value back first\n",
    "diff = df['arr_delay'].min() - 10 # min value of whole dataset\n",
    "# target_train_log = np.log(target_train - diff)\n",
    "target_log = np.log(target - diff)\n",
    "sns.histplot(data=target_log)\n",
    "plt.show()"
   ]
  },
  {
   "cell_type": "code",
   "execution_count": 37,
   "metadata": {},
   "outputs": [],
   "source": [
    "# use target for this case\n",
    "df['arr_delay'] = target_log"
   ]
  },
  {
   "cell_type": "markdown",
   "metadata": {
    "tags": []
   },
   "source": [
    "#### More Feature Engineering"
   ]
  },
  {
   "cell_type": "markdown",
   "metadata": {
    "tags": []
   },
   "source": [
    "##### Transform some new features by using 'arr_delay'"
   ]
  },
  {
   "cell_type": "markdown",
   "metadata": {
    "tags": []
   },
   "source": [
    "##### Target Encoding before splitting dataset"
   ]
  },
  {
   "cell_type": "code",
   "execution_count": 38,
   "metadata": {},
   "outputs": [],
   "source": [
    "def leave_one_out_pct(df, i, d='arr_delay'):\n",
    "    \"\"\"\n",
    "    Caculate group occurance percentage with cross calculation for interested categorical column, and imput leave_one_out_mean value into dataframe\n",
    "    PARAMS:\n",
    "        df (pd.DataFrame): \n",
    "        i (str): categorial independent variable\n",
    "        d (str): dependent variable\n",
    "    RETURNS (pd.Series):\n",
    "        pandas series containing leave-one-out occurance percentage\n",
    "    \"\"\"\n",
    "    data = df.copy()[[i, d]]\n",
    "    group_ct = data.groupby(i, as_index=False).count().rename(columns={d: 'ct'})\n",
    "    group_delay_ct = data[data[d] >= np.log(15 - diff)].groupby(i, as_index=False).count().rename(columns={d: 'delay_ct'})\n",
    "    data = pd.merge(data, group_ct, how='left', on=i)\n",
    "    data = pd.merge(data, group_delay_ct, how='left', on=i)\n",
    "    data['leftout_pct'] = (data['delay_ct'] - 1) / (data['ct'] - 1)\n",
    "        \n",
    "    data = data.fillna(0)\n",
    "    return data['leftout_pct']"
   ]
  },
  {
   "cell_type": "code",
   "execution_count": 39,
   "metadata": {},
   "outputs": [],
   "source": [
    "def leave_one_out_mean(df, i, d='arr_delay'):\n",
    "    \"\"\"\n",
    "    Caculate group means with cross calculation for interested categorical column, and imput leave_one_out_mean value into dataframe\n",
    "    PARAMS:\n",
    "        df (pd.DataFrame): \n",
    "        i (str): categorial independent variable\n",
    "        d (str): dependent variable\n",
    "    RETURNS (pd.Series):\n",
    "        pandas series containing leave-one-out mean values\n",
    "    \"\"\"\n",
    "    data = df.copy()[[i, d]]\n",
    "    group_sum_count = data.groupby(i)[d].agg(['sum', 'count']).reset_index()\n",
    "    data = pd.merge(data, group_sum_count, how='left', on=i)\n",
    "    data['leftout_sum'] = data['sum'] - data[d]\n",
    "    data['leftout_mean'] = data['leftout_sum'] / (data['count'] - 1)\n",
    "    data = data.fillna(0)\n",
    "    return data['leftout_mean']"
   ]
  },
  {
   "cell_type": "code",
   "execution_count": 40,
   "metadata": {},
   "outputs": [
    {
     "data": {
      "text/plain": [
       "(42127, 62)"
      ]
     },
     "execution_count": 40,
     "metadata": {},
     "output_type": "execute_result"
    }
   ],
   "source": [
    "df.shape"
   ]
  },
  {
   "cell_type": "code",
   "execution_count": 41,
   "metadata": {},
   "outputs": [],
   "source": [
    "# calculate how many delay count percentage ('arr_delay' > 15) happened on each carrier/flight_num/tail_num/carrier/origin_airport/dest_airport/origin_city/origin_state/dest_city/dest_state \n",
    "# calculate average delay time of each ... (same as above)\n",
    "# merge with df\n",
    "\n",
    "tran_features = ['op_unique_carrier', 'tail_num',  'op_carrier_fl_num', 'origin_airport_id', 'dest_airport_id', 'origin_city', 'origin_state', 'dest_city', 'dest_state']\n",
    "\n",
    "for col in tran_features:    \n",
    "    df[f'{col}_leftout_pct'] = leave_one_out_pct(df, col)\n",
    "    df[f'{col}_leftout_mean'] = leave_one_out_mean(df, col)\n",
    "    "
   ]
  },
  {
   "cell_type": "code",
   "execution_count": 42,
   "metadata": {},
   "outputs": [
    {
     "data": {
      "text/plain": [
       "(42127, 80)"
      ]
     },
     "execution_count": 42,
     "metadata": {},
     "output_type": "execute_result"
    }
   ],
   "source": [
    "df.shape"
   ]
  },
  {
   "cell_type": "code",
   "execution_count": 43,
   "metadata": {},
   "outputs": [
    {
     "data": {
      "text/plain": [
       "dest_airport_id_leftout_mean    0\n",
       "origin_city_leftout_pct         0\n",
       "origin_city_leftout_mean        0\n",
       "origin_state_leftout_pct        0\n",
       "origin_state_leftout_mean       0\n",
       "dest_city_leftout_pct           0\n",
       "dest_city_leftout_mean          0\n",
       "dest_state_leftout_pct          0\n",
       "dest_state_leftout_mean         0\n",
       "dtype: int64"
      ]
     },
     "execution_count": 43,
     "metadata": {},
     "output_type": "execute_result"
    }
   ],
   "source": [
    "df.iloc[:, -9:].isnull().sum()"
   ]
  },
  {
   "cell_type": "markdown",
   "metadata": {
    "tags": []
   },
   "source": [
    "## Main Task: Regression Problem"
   ]
  },
  {
   "cell_type": "markdown",
   "metadata": {},
   "source": [
    "The target variable is **ARR_DELAY**. We need to be careful which columns to use and which don't. For example, DEP_DELAY is going to be the perfect predictor, but we can't use it because in real-life scenario, we want to predict the delay before the flight takes of --> We can use average delay from earlier days but not the one from the actual flight we predict.  \n",
    "\n",
    "For example, variables **CARRIER_DELAY, WEATHER_DELAY, NAS_DELAY, SECURITY_DELAY, LATE_AIRCRAFT_DELAY** shouldn't be used directly as predictors as well. However, we can create various transformations from earlier values.\n",
    "\n",
    "We will be evaluating your models by predicting the ARR_DELAY for all flights **1 week in advance**."
   ]
  },
  {
   "cell_type": "markdown",
   "metadata": {
    "tags": []
   },
   "source": [
    "### Feature Selection / Dimensionality Reduction"
   ]
  },
  {
   "cell_type": "markdown",
   "metadata": {
    "tags": []
   },
   "source": [
    "### Modeling"
   ]
  },
  {
   "cell_type": "markdown",
   "metadata": {},
   "source": [
    "Use different ML techniques to predict each problem.\n",
    "\n",
    "- linear / logistic / multinomial logistic regression\n",
    "- Naive Bayes\n",
    "- Random Forest\n",
    "- SVM\n",
    "- XGBoost\n",
    "- The ensemble of your own choice"
   ]
  },
  {
   "cell_type": "markdown",
   "metadata": {},
   "source": [
    "#### XGBoost"
   ]
  },
  {
   "cell_type": "code",
   "execution_count": 44,
   "metadata": {},
   "outputs": [
    {
     "data": {
      "text/plain": [
       "Index(['fl_date', 'op_unique_carrier', 'tail_num', 'op_carrier_fl_num',\n",
       "       'origin_airport_id', 'dest_airport_id', 'crs_dep_time', 'dep_time',\n",
       "       'dep_delay', 'taxi_out', 'wheels_off', 'wheels_on', 'taxi_in',\n",
       "       'crs_arr_time', 'arr_time', 'arr_delay', 'cancelled',\n",
       "       'cancellation_code', 'diverted', 'crs_elapsed_time',\n",
       "       'actual_elapsed_time', 'air_time', 'distance', 'carrier_delay',\n",
       "       'weather_delay', 'nas_delay', 'security_delay', 'late_aircraft_delay',\n",
       "       'first_dep_time', 'total_add_gtime', 'longest_add_gtime', 'share_code',\n",
       "       'origin_city', 'origin_state', 'dest_city', 'dest_state', 'arr_date',\n",
       "       'dep_datetime', 'arr_datetime', 'fl_month', 'fl_weekday', 'season',\n",
       "       'dep_min_of_day', 'arr_min_of_day', 'dep_hr', 'arr_hr', 'dep_min_sin',\n",
       "       'dep_min_cos', 'dep_hr_sin', 'dep_hr_cos', 'arr_min_sin', 'arr_min_cos',\n",
       "       'arr_hr_sin', 'arr_hr_cos', 'fl_mnth_sin', 'fl_mnth_cos',\n",
       "       'fl_wkday_sin', 'fl_wkday_cos', 'day_num_of_flights',\n",
       "       'num_flights_6hrs', 'inbound_fl_num', 'inbound_fl',\n",
       "       'op_unique_carrier_leftout_pct', 'op_unique_carrier_leftout_mean',\n",
       "       'tail_num_leftout_pct', 'tail_num_leftout_mean',\n",
       "       'op_carrier_fl_num_leftout_pct', 'op_carrier_fl_num_leftout_mean',\n",
       "       'origin_airport_id_leftout_pct', 'origin_airport_id_leftout_mean',\n",
       "       'dest_airport_id_leftout_pct', 'dest_airport_id_leftout_mean',\n",
       "       'origin_city_leftout_pct', 'origin_city_leftout_mean',\n",
       "       'origin_state_leftout_pct', 'origin_state_leftout_mean',\n",
       "       'dest_city_leftout_pct', 'dest_city_leftout_mean',\n",
       "       'dest_state_leftout_pct', 'dest_state_leftout_mean'],\n",
       "      dtype='object')"
      ]
     },
     "execution_count": 44,
     "metadata": {},
     "output_type": "execute_result"
    }
   ],
   "source": [
    "df.columns"
   ]
  },
  {
   "cell_type": "code",
   "execution_count": 45,
   "metadata": {},
   "outputs": [
    {
     "data": {
      "text/html": [
       "<div>\n",
       "<style scoped>\n",
       "    .dataframe tbody tr th:only-of-type {\n",
       "        vertical-align: middle;\n",
       "    }\n",
       "\n",
       "    .dataframe tbody tr th {\n",
       "        vertical-align: top;\n",
       "    }\n",
       "\n",
       "    .dataframe thead th {\n",
       "        text-align: right;\n",
       "    }\n",
       "</style>\n",
       "<table border=\"1\" class=\"dataframe\">\n",
       "  <thead>\n",
       "    <tr style=\"text-align: right;\">\n",
       "      <th></th>\n",
       "      <th>fl_date</th>\n",
       "      <th>op_unique_carrier</th>\n",
       "      <th>tail_num</th>\n",
       "      <th>op_carrier_fl_num</th>\n",
       "      <th>origin_airport_id</th>\n",
       "      <th>dest_airport_id</th>\n",
       "      <th>crs_dep_time</th>\n",
       "      <th>dep_time</th>\n",
       "      <th>dep_delay</th>\n",
       "      <th>taxi_out</th>\n",
       "      <th>...</th>\n",
       "      <th>dest_airport_id_leftout_pct</th>\n",
       "      <th>dest_airport_id_leftout_mean</th>\n",
       "      <th>origin_city_leftout_pct</th>\n",
       "      <th>origin_city_leftout_mean</th>\n",
       "      <th>origin_state_leftout_pct</th>\n",
       "      <th>origin_state_leftout_mean</th>\n",
       "      <th>dest_city_leftout_pct</th>\n",
       "      <th>dest_city_leftout_mean</th>\n",
       "      <th>dest_state_leftout_pct</th>\n",
       "      <th>dest_state_leftout_mean</th>\n",
       "    </tr>\n",
       "  </thead>\n",
       "  <tbody>\n",
       "    <tr>\n",
       "      <th>0</th>\n",
       "      <td>2019-06-07</td>\n",
       "      <td>WN</td>\n",
       "      <td>N8683D</td>\n",
       "      <td>2784</td>\n",
       "      <td>12889</td>\n",
       "      <td>11066</td>\n",
       "      <td>1900-01-01 18:30:00</td>\n",
       "      <td>1825.0</td>\n",
       "      <td>-5.0</td>\n",
       "      <td>18.0</td>\n",
       "      <td>...</td>\n",
       "      <td>0.189591</td>\n",
       "      <td>4.428604</td>\n",
       "      <td>0.204225</td>\n",
       "      <td>4.430758</td>\n",
       "      <td>0.190772</td>\n",
       "      <td>4.420726</td>\n",
       "      <td>0.193333</td>\n",
       "      <td>4.428913</td>\n",
       "      <td>0.202454</td>\n",
       "      <td>4.420298</td>\n",
       "    </tr>\n",
       "    <tr>\n",
       "      <th>1</th>\n",
       "      <td>2019-07-26</td>\n",
       "      <td>B6</td>\n",
       "      <td>N535JB</td>\n",
       "      <td>1347</td>\n",
       "      <td>11278</td>\n",
       "      <td>14843</td>\n",
       "      <td>1900-01-01 08:00:00</td>\n",
       "      <td>808.0</td>\n",
       "      <td>8.0</td>\n",
       "      <td>15.0</td>\n",
       "      <td>...</td>\n",
       "      <td>0.226950</td>\n",
       "      <td>4.480207</td>\n",
       "      <td>0.185584</td>\n",
       "      <td>4.401217</td>\n",
       "      <td>0.185584</td>\n",
       "      <td>4.401217</td>\n",
       "      <td>0.226950</td>\n",
       "      <td>4.480207</td>\n",
       "      <td>0.246753</td>\n",
       "      <td>4.482764</td>\n",
       "    </tr>\n",
       "    <tr>\n",
       "      <th>2</th>\n",
       "      <td>2019-06-03</td>\n",
       "      <td>CP</td>\n",
       "      <td>N217NN</td>\n",
       "      <td>6092</td>\n",
       "      <td>12892</td>\n",
       "      <td>11292</td>\n",
       "      <td>1900-01-01 19:43:00</td>\n",
       "      <td>2014.0</td>\n",
       "      <td>31.0</td>\n",
       "      <td>14.0</td>\n",
       "      <td>...</td>\n",
       "      <td>0.182115</td>\n",
       "      <td>4.415133</td>\n",
       "      <td>0.184659</td>\n",
       "      <td>4.390099</td>\n",
       "      <td>0.180026</td>\n",
       "      <td>4.406197</td>\n",
       "      <td>0.182115</td>\n",
       "      <td>4.415133</td>\n",
       "      <td>0.180980</td>\n",
       "      <td>4.416226</td>\n",
       "    </tr>\n",
       "    <tr>\n",
       "      <th>3</th>\n",
       "      <td>2018-05-09</td>\n",
       "      <td>CP</td>\n",
       "      <td>N614CZ</td>\n",
       "      <td>5823</td>\n",
       "      <td>12889</td>\n",
       "      <td>14831</td>\n",
       "      <td>1900-01-01 10:15:00</td>\n",
       "      <td>1005.0</td>\n",
       "      <td>-10.0</td>\n",
       "      <td>12.0</td>\n",
       "      <td>...</td>\n",
       "      <td>0.157895</td>\n",
       "      <td>4.384688</td>\n",
       "      <td>0.204225</td>\n",
       "      <td>4.430918</td>\n",
       "      <td>0.190772</td>\n",
       "      <td>4.420867</td>\n",
       "      <td>0.157895</td>\n",
       "      <td>4.384688</td>\n",
       "      <td>0.198671</td>\n",
       "      <td>4.407906</td>\n",
       "    </tr>\n",
       "    <tr>\n",
       "      <th>4</th>\n",
       "      <td>2019-09-21</td>\n",
       "      <td>DL</td>\n",
       "      <td>N905DL</td>\n",
       "      <td>1281</td>\n",
       "      <td>10397</td>\n",
       "      <td>13244</td>\n",
       "      <td>1900-01-01 15:02:00</td>\n",
       "      <td>1503.0</td>\n",
       "      <td>1.0</td>\n",
       "      <td>11.0</td>\n",
       "      <td>...</td>\n",
       "      <td>0.178571</td>\n",
       "      <td>4.378191</td>\n",
       "      <td>0.170505</td>\n",
       "      <td>4.403825</td>\n",
       "      <td>0.170877</td>\n",
       "      <td>4.404697</td>\n",
       "      <td>0.178571</td>\n",
       "      <td>4.378191</td>\n",
       "      <td>0.157333</td>\n",
       "      <td>4.395858</td>\n",
       "    </tr>\n",
       "  </tbody>\n",
       "</table>\n",
       "<p>5 rows × 80 columns</p>\n",
       "</div>"
      ],
      "text/plain": [
       "      fl_date op_unique_carrier tail_num op_carrier_fl_num origin_airport_id  \\\n",
       "0  2019-06-07                WN   N8683D              2784             12889   \n",
       "1  2019-07-26                B6   N535JB              1347             11278   \n",
       "2  2019-06-03                CP   N217NN              6092             12892   \n",
       "3  2018-05-09                CP   N614CZ              5823             12889   \n",
       "4  2019-09-21                DL   N905DL              1281             10397   \n",
       "\n",
       "  dest_airport_id         crs_dep_time  dep_time  dep_delay  taxi_out  ...  \\\n",
       "0           11066  1900-01-01 18:30:00    1825.0       -5.0      18.0  ...   \n",
       "1           14843  1900-01-01 08:00:00     808.0        8.0      15.0  ...   \n",
       "2           11292  1900-01-01 19:43:00    2014.0       31.0      14.0  ...   \n",
       "3           14831  1900-01-01 10:15:00    1005.0      -10.0      12.0  ...   \n",
       "4           13244  1900-01-01 15:02:00    1503.0        1.0      11.0  ...   \n",
       "\n",
       "   dest_airport_id_leftout_pct  dest_airport_id_leftout_mean  \\\n",
       "0                     0.189591                      4.428604   \n",
       "1                     0.226950                      4.480207   \n",
       "2                     0.182115                      4.415133   \n",
       "3                     0.157895                      4.384688   \n",
       "4                     0.178571                      4.378191   \n",
       "\n",
       "   origin_city_leftout_pct origin_city_leftout_mean  origin_state_leftout_pct  \\\n",
       "0                 0.204225                 4.430758                  0.190772   \n",
       "1                 0.185584                 4.401217                  0.185584   \n",
       "2                 0.184659                 4.390099                  0.180026   \n",
       "3                 0.204225                 4.430918                  0.190772   \n",
       "4                 0.170505                 4.403825                  0.170877   \n",
       "\n",
       "   origin_state_leftout_mean  dest_city_leftout_pct dest_city_leftout_mean  \\\n",
       "0                   4.420726               0.193333               4.428913   \n",
       "1                   4.401217               0.226950               4.480207   \n",
       "2                   4.406197               0.182115               4.415133   \n",
       "3                   4.420867               0.157895               4.384688   \n",
       "4                   4.404697               0.178571               4.378191   \n",
       "\n",
       "   dest_state_leftout_pct  dest_state_leftout_mean  \n",
       "0                0.202454                 4.420298  \n",
       "1                0.246753                 4.482764  \n",
       "2                0.180980                 4.416226  \n",
       "3                0.198671                 4.407906  \n",
       "4                0.157333                 4.395858  \n",
       "\n",
       "[5 rows x 80 columns]"
      ]
     },
     "execution_count": 45,
     "metadata": {},
     "output_type": "execute_result"
    }
   ],
   "source": [
    "df.head()"
   ]
  },
  {
   "cell_type": "code",
   "execution_count": 46,
   "metadata": {},
   "outputs": [],
   "source": [
    "avail_features = [\n",
    "    # 'fl_date',\n",
    "    # 'op_unique_carrier',\n",
    "    # 'tail_num', \n",
    "    # 'op_carrier_fl_num',\n",
    "    # 'origin_airport_id',\n",
    "    # 'dest_airport_id',\n",
    "    # 'crs_dep_time',\n",
    "    # 'crs_arr_time',\n",
    "    # 'crs_elapsed_time',\n",
    "    'distance',\n",
    "    'share_code',\n",
    "    # 'origin_city',\n",
    "    # 'origin_state',\n",
    "    # 'dest_city',\n",
    "    # 'dest_state',\n",
    "    # 'arr_date',\n",
    "    # 'dep_datetime',\n",
    "    # 'arr_datetime',\n",
    "    # 'fl_month',\n",
    "    # 'fl_weekday',\n",
    "    # 'season',\n",
    "    # 'day_num_of_flights',\n",
    "    'num_flights_6hrs',\n",
    "    'inbound_fl_num',\n",
    "    # 'inbound_fl',\n",
    "    # 'dep_min_of_day',\n",
    "    # 'arr_min_of_day',\n",
    "    # 'dep_hr',\n",
    "    # 'arr_hr',\n",
    "    'arr_min_sin',\n",
    "    'arr_min_cos',\n",
    "    # 'arr_hr_sin',\n",
    "    # 'arr_hr_cos',\n",
    "    'dep_min_sin', \n",
    "    'dep_min_cos', \n",
    "    # 'dep_hr_sin', \n",
    "    # 'dep_hr_cos',\n",
    "    'fl_mnth_sin', \n",
    "    'fl_mnth_cos',\n",
    "    'fl_wkday_sin',\n",
    "    'fl_wkday_cos',\n",
    "    'op_unique_carrier_leftout_pct',\n",
    "    'op_unique_carrier_leftout_mean',\n",
    "    # 'tail_num_leftout_pct', \n",
    "    # 'tail_num_leftout_mean',\n",
    "    # 'op_carrier_fl_num_leftout_pct',\n",
    "    'op_carrier_fl_num_leftout_mean',\n",
    "    # 'origin_airport_id_leftout_pct', \n",
    "    'origin_airport_id_leftout_mean',\n",
    "    # 'dest_airport_id_leftout_pct',\n",
    "    # 'dest_airport_id_leftout_mean',\n",
    "    # 'origin_city_leftout_pct',\n",
    "    # 'origin_city_leftout_mean',\n",
    "    # 'origin_state_leftout_pct', \n",
    "    'origin_state_leftout_mean',\n",
    "    # 'dest_city_leftout_pct', \n",
    "    # 'dest_city_leftout_mean',\n",
    "    # 'dest_state_leftout_pct',\n",
    "    'dest_state_leftout_mean'\n",
    "]"
   ]
  },
  {
   "cell_type": "code",
   "execution_count": 47,
   "metadata": {},
   "outputs": [],
   "source": [
    "X_train, X_test, y_train, y_test = train_test_split(df[avail_features], df['arr_delay'], train_size=0.7, test_size=0.3, random_state=888)\n",
    "\n",
    "xg_reg = XGBRegressor(objective ='reg:squarederror',\n",
    "                      learning_rate = 0.05,\n",
    "                      max_depth = 3,\n",
    "                      # reg_lambda = 15,\n",
    "                      # gamma = 10,\n",
    "                      n_estimators = 150)\n",
    "xg_reg.fit(X_train, y_train)\n",
    "y_pred = xg_reg.predict(X_test)\n",
    "# y_pred = np.exp(xg_reg.predict(X_test)) + diff"
   ]
  },
  {
   "cell_type": "code",
   "execution_count": 48,
   "metadata": {},
   "outputs": [
    {
     "data": {
      "text/plain": [
       "0.5425405560035701"
      ]
     },
     "execution_count": 48,
     "metadata": {},
     "output_type": "execute_result"
    }
   ],
   "source": [
    "r2_score(y_test, y_pred)"
   ]
  },
  {
   "cell_type": "code",
   "execution_count": 49,
   "metadata": {},
   "outputs": [
    {
     "data": {
      "text/plain": [
       "0.5545296165585925"
      ]
     },
     "execution_count": 49,
     "metadata": {},
     "output_type": "execute_result"
    }
   ],
   "source": [
    "xg_reg.score(X_train, y_train)"
   ]
  },
  {
   "cell_type": "markdown",
   "metadata": {},
   "source": [
    "#### Predict"
   ]
  },
  {
   "cell_type": "code",
   "execution_count": 54,
   "metadata": {},
   "outputs": [],
   "source": [
    "# read test file\n",
    "df_pred = pd.read_csv('data/flights_test_preprocessed.csv', index_col=0)\n",
    "\n",
    "# reset dtypes\n",
    "categorical_features = ['op_unique_carrier',\n",
    "                        'tail_num', \n",
    "                        'op_carrier_fl_num',\n",
    "                        'origin_airport_id',\n",
    "                        'dest_airport_id',\n",
    "                        # 'share_code',\n",
    "                        'origin_city',\n",
    "                        'origin_state',\n",
    "                        'dest_city',\n",
    "                        'dest_state',\n",
    "                        'fl_month',\n",
    "                        'fl_weekday',\n",
    "                        'season',\n",
    "                        'inbound_fl']\n",
    "df_pred[categorical_features] = df_pred[categorical_features].astype('str')\n",
    "\n",
    "# Feature imputation\n",
    "# add features to predict set with values computed by above dataset\n",
    "# for example, flight No.#### used to have 7 delays in training set, then add 7 to same flight No. in test set\n",
    "# assign 7 to flight No.##### in this example\n",
    "feature_add = [['op_unique_carrier', 'op_unique_carrier_leftout_pct', 'op_unique_carrier_leftout_mean'],\n",
    "               ['tail_num', 'tail_num_leftout_pct', 'tail_num_leftout_mean'],\n",
    "               ['op_carrier_fl_num', 'op_carrier_fl_num_leftout_pct', 'op_carrier_fl_num_leftout_mean'],\n",
    "               ['origin_airport_id', 'origin_airport_id_leftout_pct', 'origin_airport_id_leftout_mean'],\n",
    "               ['dest_airport_id', 'dest_airport_id_leftout_pct', 'dest_airport_id_leftout_mean'],\n",
    "               ['origin_city', 'origin_city_leftout_pct', 'origin_city_leftout_mean'],\n",
    "               ['origin_state', 'origin_state_leftout_pct', 'origin_state_leftout_mean'],\n",
    "               ['dest_city', 'dest_city_leftout_pct', 'dest_city_leftout_mean'],\n",
    "               ['dest_state', 'dest_state_leftout_pct', 'dest_state_leftout_mean']]\n",
    "              \n",
    "delay_mean = np.log(df['arr_delay'].mean() - diff)\n",
    "\n",
    "for cols in feature_add:\n",
    "    cats_means = df[cols].groupby(cols[0], as_index=False).mean()\n",
    "    df_pred = pd.merge(df_pred, cats_means, on=cols[0], how='left').fillna(delay_mean)"
   ]
  },
  {
   "cell_type": "code",
   "execution_count": 55,
   "metadata": {},
   "outputs": [],
   "source": [
    "X_pred = df_pred[avail_features]\n",
    "y_pred = np.exp(xg_reg.predict(X_pred)) + diff # transform back"
   ]
  },
  {
   "cell_type": "code",
   "execution_count": 72,
   "metadata": {},
   "outputs": [
    {
     "data": {
      "text/html": [
       "<div>\n",
       "<style scoped>\n",
       "    .dataframe tbody tr th:only-of-type {\n",
       "        vertical-align: middle;\n",
       "    }\n",
       "\n",
       "    .dataframe tbody tr th {\n",
       "        vertical-align: top;\n",
       "    }\n",
       "\n",
       "    .dataframe thead th {\n",
       "        text-align: right;\n",
       "    }\n",
       "</style>\n",
       "<table border=\"1\" class=\"dataframe\">\n",
       "  <thead>\n",
       "    <tr style=\"text-align: right;\">\n",
       "      <th></th>\n",
       "      <th>fl_date</th>\n",
       "      <th>op_unique_carrier</th>\n",
       "      <th>tail_num</th>\n",
       "      <th>op_carrier_fl_num</th>\n",
       "      <th>origin_airport_id</th>\n",
       "      <th>dest_airport_id</th>\n",
       "      <th>crs_dep_time</th>\n",
       "      <th>crs_arr_time</th>\n",
       "      <th>crs_elapsed_time</th>\n",
       "      <th>distance</th>\n",
       "      <th>...</th>\n",
       "      <th>dest_airport_id_leftout_mean</th>\n",
       "      <th>origin_city_leftout_pct</th>\n",
       "      <th>origin_city_leftout_mean</th>\n",
       "      <th>origin_state_leftout_pct</th>\n",
       "      <th>origin_state_leftout_mean</th>\n",
       "      <th>dest_city_leftout_pct</th>\n",
       "      <th>dest_city_leftout_mean</th>\n",
       "      <th>dest_state_leftout_pct</th>\n",
       "      <th>dest_state_leftout_mean</th>\n",
       "      <th>predicted_delay</th>\n",
       "    </tr>\n",
       "  </thead>\n",
       "  <tbody>\n",
       "    <tr>\n",
       "      <th>0</th>\n",
       "      <td>2020-01-01</td>\n",
       "      <td>WN</td>\n",
       "      <td>N951WN</td>\n",
       "      <td>5888</td>\n",
       "      <td>13891</td>\n",
       "      <td>14771</td>\n",
       "      <td>1900-01-01 18:10:00</td>\n",
       "      <td>1900-01-01 19:45:00</td>\n",
       "      <td>95</td>\n",
       "      <td>363</td>\n",
       "      <td>...</td>\n",
       "      <td>4.437163</td>\n",
       "      <td>0.075581</td>\n",
       "      <td>4.367186</td>\n",
       "      <td>0.180026</td>\n",
       "      <td>4.40628</td>\n",
       "      <td>0.256044</td>\n",
       "      <td>4.437163</td>\n",
       "      <td>0.198671</td>\n",
       "      <td>4.407851</td>\n",
       "      <td>2.135284</td>\n",
       "    </tr>\n",
       "    <tr>\n",
       "      <th>1</th>\n",
       "      <td>2020-01-01</td>\n",
       "      <td>WN</td>\n",
       "      <td>N467WN</td>\n",
       "      <td>6276</td>\n",
       "      <td>13891</td>\n",
       "      <td>14771</td>\n",
       "      <td>1900-01-01 11:50:00</td>\n",
       "      <td>1900-01-01 13:20:00</td>\n",
       "      <td>90</td>\n",
       "      <td>363</td>\n",
       "      <td>...</td>\n",
       "      <td>4.437163</td>\n",
       "      <td>0.075581</td>\n",
       "      <td>4.367186</td>\n",
       "      <td>0.180026</td>\n",
       "      <td>4.40628</td>\n",
       "      <td>0.256044</td>\n",
       "      <td>4.437163</td>\n",
       "      <td>0.198671</td>\n",
       "      <td>4.407851</td>\n",
       "      <td>2.041267</td>\n",
       "    </tr>\n",
       "    <tr>\n",
       "      <th>2</th>\n",
       "      <td>2020-01-01</td>\n",
       "      <td>WN</td>\n",
       "      <td>N7885A</td>\n",
       "      <td>4598</td>\n",
       "      <td>13891</td>\n",
       "      <td>14831</td>\n",
       "      <td>1900-01-01 20:20:00</td>\n",
       "      <td>1900-01-01 21:30:00</td>\n",
       "      <td>70</td>\n",
       "      <td>333</td>\n",
       "      <td>...</td>\n",
       "      <td>4.384030</td>\n",
       "      <td>0.075581</td>\n",
       "      <td>4.367186</td>\n",
       "      <td>0.180026</td>\n",
       "      <td>4.40628</td>\n",
       "      <td>0.157895</td>\n",
       "      <td>4.384030</td>\n",
       "      <td>0.198671</td>\n",
       "      <td>4.407851</td>\n",
       "      <td>2.135284</td>\n",
       "    </tr>\n",
       "    <tr>\n",
       "      <th>3</th>\n",
       "      <td>2020-01-01</td>\n",
       "      <td>WN</td>\n",
       "      <td>N551WN</td>\n",
       "      <td>4761</td>\n",
       "      <td>13891</td>\n",
       "      <td>14831</td>\n",
       "      <td>1900-01-01 13:40:00</td>\n",
       "      <td>1900-01-01 14:55:00</td>\n",
       "      <td>75</td>\n",
       "      <td>333</td>\n",
       "      <td>...</td>\n",
       "      <td>4.384030</td>\n",
       "      <td>0.075581</td>\n",
       "      <td>4.367186</td>\n",
       "      <td>0.180026</td>\n",
       "      <td>4.40628</td>\n",
       "      <td>0.157895</td>\n",
       "      <td>4.384030</td>\n",
       "      <td>0.198671</td>\n",
       "      <td>4.407851</td>\n",
       "      <td>2.135284</td>\n",
       "    </tr>\n",
       "    <tr>\n",
       "      <th>4</th>\n",
       "      <td>2020-01-01</td>\n",
       "      <td>WN</td>\n",
       "      <td>N968WN</td>\n",
       "      <td>5162</td>\n",
       "      <td>13891</td>\n",
       "      <td>14831</td>\n",
       "      <td>1900-01-01 09:15:00</td>\n",
       "      <td>1900-01-01 10:35:00</td>\n",
       "      <td>80</td>\n",
       "      <td>333</td>\n",
       "      <td>...</td>\n",
       "      <td>4.384030</td>\n",
       "      <td>0.075581</td>\n",
       "      <td>4.367186</td>\n",
       "      <td>0.180026</td>\n",
       "      <td>4.40628</td>\n",
       "      <td>0.157895</td>\n",
       "      <td>4.384030</td>\n",
       "      <td>0.198671</td>\n",
       "      <td>4.407851</td>\n",
       "      <td>-0.912796</td>\n",
       "    </tr>\n",
       "  </tbody>\n",
       "</table>\n",
       "<p>5 rows × 60 columns</p>\n",
       "</div>"
      ],
      "text/plain": [
       "      fl_date op_unique_carrier tail_num op_carrier_fl_num origin_airport_id  \\\n",
       "0  2020-01-01                WN   N951WN              5888             13891   \n",
       "1  2020-01-01                WN   N467WN              6276             13891   \n",
       "2  2020-01-01                WN   N7885A              4598             13891   \n",
       "3  2020-01-01                WN   N551WN              4761             13891   \n",
       "4  2020-01-01                WN   N968WN              5162             13891   \n",
       "\n",
       "  dest_airport_id         crs_dep_time         crs_arr_time  crs_elapsed_time  \\\n",
       "0           14771  1900-01-01 18:10:00  1900-01-01 19:45:00                95   \n",
       "1           14771  1900-01-01 11:50:00  1900-01-01 13:20:00                90   \n",
       "2           14831  1900-01-01 20:20:00  1900-01-01 21:30:00                70   \n",
       "3           14831  1900-01-01 13:40:00  1900-01-01 14:55:00                75   \n",
       "4           14831  1900-01-01 09:15:00  1900-01-01 10:35:00                80   \n",
       "\n",
       "   distance  ...  dest_airport_id_leftout_mean origin_city_leftout_pct  \\\n",
       "0       363  ...                      4.437163                0.075581   \n",
       "1       363  ...                      4.437163                0.075581   \n",
       "2       333  ...                      4.384030                0.075581   \n",
       "3       333  ...                      4.384030                0.075581   \n",
       "4       333  ...                      4.384030                0.075581   \n",
       "\n",
       "  origin_city_leftout_mean origin_state_leftout_pct origin_state_leftout_mean  \\\n",
       "0                 4.367186                 0.180026                   4.40628   \n",
       "1                 4.367186                 0.180026                   4.40628   \n",
       "2                 4.367186                 0.180026                   4.40628   \n",
       "3                 4.367186                 0.180026                   4.40628   \n",
       "4                 4.367186                 0.180026                   4.40628   \n",
       "\n",
       "  dest_city_leftout_pct dest_city_leftout_mean dest_state_leftout_pct  \\\n",
       "0              0.256044               4.437163               0.198671   \n",
       "1              0.256044               4.437163               0.198671   \n",
       "2              0.157895               4.384030               0.198671   \n",
       "3              0.157895               4.384030               0.198671   \n",
       "4              0.157895               4.384030               0.198671   \n",
       "\n",
       "  dest_state_leftout_mean predicted_delay  \n",
       "0                4.407851        2.135284  \n",
       "1                4.407851        2.041267  \n",
       "2                4.407851        2.135284  \n",
       "3                4.407851        2.135284  \n",
       "4                4.407851       -0.912796  \n",
       "\n",
       "[5 rows x 60 columns]"
      ]
     },
     "execution_count": 72,
     "metadata": {},
     "output_type": "execute_result"
    }
   ],
   "source": [
    "df_pred.head()"
   ]
  },
  {
   "cell_type": "code",
   "execution_count": 100,
   "metadata": {},
   "outputs": [],
   "source": [
    "test_raw = pd.read_csv('data/flights_test_raw_wk1.csv', index_col=0)\n",
    "keys = ['fl_date', 'op_unique_carrier', 'tail_num', 'op_carrier_fl_num', 'origin_airport_id', 'dest_airport_id', 'crs_elapsed_time', 'distance']\n",
    "test_raw[keys] = test_raw[keys].astype('str')\n",
    "df_pred[keys] = df_pred[keys].astype('str')\n",
    "test_raw['fl_date'] = pd.to_datetime(test_raw['fl_date'])\n",
    "df_pred['fl_date'] = pd.to_datetime(test_raw['fl_date'])"
   ]
  },
  {
   "cell_type": "code",
   "execution_count": 101,
   "metadata": {},
   "outputs": [],
   "source": [
    "f = ['fl_date', 'op_unique_carrier', 'tail_num', 'op_carrier_fl_num', 'origin_airport_id', 'dest_airport_id', 'crs_elapsed_time', 'distance', 'predicted_delay']"
   ]
  },
  {
   "cell_type": "code",
   "execution_count": 102,
   "metadata": {},
   "outputs": [],
   "source": [
    "df_pred['predicted_delay'] = y_pred"
   ]
  },
  {
   "cell_type": "code",
   "execution_count": 103,
   "metadata": {},
   "outputs": [
    {
     "data": {
      "text/plain": [
       "(150623, 20)"
      ]
     },
     "execution_count": 103,
     "metadata": {},
     "output_type": "execute_result"
    }
   ],
   "source": [
    "test_raw.shape"
   ]
  },
  {
   "cell_type": "code",
   "execution_count": 105,
   "metadata": {},
   "outputs": [],
   "source": [
    "df_submit = pd.merge(test_raw, df_pred[f], on=keys, how='left')\n",
    "df_submit.to_csv('data/submission.csv')"
   ]
  },
  {
   "cell_type": "code",
   "execution_count": 20,
   "metadata": {},
   "outputs": [],
   "source": [
    "# pca_features = [\n",
    "#     # 'op_unique_carrier',\n",
    "#     # 'tail_num'.\n",
    "#     # 'op_carrier_fl_num',\n",
    "#     # 'origin_airport_id',\n",
    "#     # 'dest_airport_id',\n",
    "#     'crs_elapsed_time',\n",
    "#     'distance',\n",
    "#     'share_code',\n",
    "#     # 'origin_city',\n",
    "#     # 'origin_state',\n",
    "#     # 'dest_city',\n",
    "#     # 'dest_state',\n",
    "#     'fl_month',\n",
    "#     'fl_weekday',\n",
    "#     'season',\n",
    "#     'day_num_of_flights',\n",
    "#     'num_flights_6hr',\n",
    "#     'inbound_fl_num',\n",
    "#     'inbound_fl',\n",
    "#     'dep_min_of_day',\n",
    "#     'arr_min_of_day',\n",
    "#     'dep_hr',\n",
    "#     'arr_hr',\n",
    "#     'arr_hr_sin',\n",
    "#     'arr_hr_cos',\n",
    "#     'arr_min_sin',\n",
    "#     'arr_min_cos',\n",
    "#     'dep_min_sin',\n",
    "#     'dep_min_cos',\n",
    "#     'dep_hr_sin',\n",
    "#     'dep_hr_cos',\n",
    "#     'fl_mnth_sin',\n",
    "#     'fl_mnth_cos',\n",
    "#     'fl_wkday_sin',\n",
    "#     'fl_wkday_cos',\n",
    "#     'op_unique_carrier_delayct',\n",
    "#     'op_unique_carrier_delaymedian',\n",
    "#     'tail_num_delayct',\n",
    "#     'tail_num_delaymedian',\n",
    "#     'op_carrier_fl_num_delayct',\n",
    "#     'op_carrier_fl_num_delaymedian',\n",
    "#     'origin_airport_id_delayct',\n",
    "#     'origin_airport_id_delaymedian',\n",
    "#     'dest_airport_id_delayct',\n",
    "#     'dest_airport_id_delaymedian',\n",
    "#     'origin_city_delayct',\n",
    "#     'origin_city_delaymedian',\n",
    "#     'origin_state_delayct',\n",
    "#     'origin_state_delaymedian',\n",
    "#     'dest_city_delayct',\n",
    "#     'dest_city_delaymedian',\n",
    "#     'dest_state_delayct',\n",
    "#     'dest_state_delaymedian'\n",
    "# ]"
   ]
  },
  {
   "cell_type": "code",
   "execution_count": 21,
   "metadata": {},
   "outputs": [
    {
     "data": {
      "text/plain": [
       "10609"
      ]
     },
     "execution_count": 21,
     "metadata": {},
     "output_type": "execute_result"
    }
   ],
   "source": [
    "# df_X = pd.concat([df_train[pca_features], df_test[pca_features]])\n",
    "# df_train.shape[0]"
   ]
  },
  {
   "cell_type": "code",
   "execution_count": 25,
   "metadata": {},
   "outputs": [],
   "source": [
    "# X_scaled = scaler.fit_transform(df_X)\n",
    "\n",
    "# pca = PCA(n_components='mle')\n",
    "# pca.fit(X_scaled)\n",
    "# X_pca = pca.transform(X_scaled)"
   ]
  },
  {
   "cell_type": "code",
   "execution_count": 26,
   "metadata": {},
   "outputs": [],
   "source": [
    "# X_scaled_train = X_pca[:10609, :]\n",
    "# X_scaled_test = X_pca[10609:, :]\n",
    "# y_train = target_train_log\n",
    "# y_test = target_test\n",
    "\n",
    "# xg_reg = XGBRegressor(objective ='reg:squarederror',\n",
    "#                       learning_rate = 0.1,\n",
    "#                       max_depth = 6,\n",
    "#                       # reg_lambda = 10,\n",
    "#                       n_estimators = 300)\n",
    "# xg_reg.fit(X_scaled_train, y_train)\n",
    "# # y_pred = xg_reg.predict(X_test)\n",
    "# y_pred = np.exp(xg_reg.predict(X_scaled_test)) + diff"
   ]
  },
  {
   "cell_type": "code",
   "execution_count": 27,
   "metadata": {},
   "outputs": [
    {
     "data": {
      "text/plain": [
       "0.11846731863060067"
      ]
     },
     "execution_count": 27,
     "metadata": {},
     "output_type": "execute_result"
    }
   ],
   "source": [
    "# r2_score(y_test, y_pred)"
   ]
  },
  {
   "cell_type": "code",
   "execution_count": 43,
   "metadata": {},
   "outputs": [],
   "source": [
    "# features = [\n",
    "#     # 'op_unique_carrier',\n",
    "#     # 'tail_num'.\n",
    "#     # 'op_carrier_fl_num',\n",
    "#     # 'origin_airport_id',\n",
    "#     # 'dest_airport_id',\n",
    "#     # 'crs_elapsed_time',\n",
    "#     'distance',\n",
    "#     'share_code',\n",
    "#     # 'origin_city',\n",
    "#     # 'origin_state',\n",
    "#     # 'dest_city',\n",
    "#     # 'dest_state',\n",
    "#     # 'fl_month',\n",
    "#     # 'fl_weekday',\n",
    "#     # 'season',\n",
    "#     # 'day_num_of_flights',\n",
    "#     # 'num_flights_6hr',\n",
    "#     # 'inbound_fl_num',\n",
    "#     # 'inbound_fl',\n",
    "#     # 'dep_min_of_day',\n",
    "#     # 'arr_min_of_day',\n",
    "#     # 'dep_hr',\n",
    "#     # 'arr_hr',\n",
    "#     # 'arr_hr_sin',\n",
    "#     # 'arr_hr_cos',\n",
    "#     # 'arr_min_sin',\n",
    "#     # 'arr_min_cos',\n",
    "#     'dep_min_sin',\n",
    "#     # 'dep_min_cos',\n",
    "#     # 'dep_hr_sin',\n",
    "#     # 'dep_hr_cos',\n",
    "#     # 'fl_mnth_sin',\n",
    "#     # 'fl_mnth_cos',\n",
    "#     # 'fl_wkday_sin',\n",
    "#     # 'fl_wkday_cos',\n",
    "#     # 'op_unique_carrier_delayct',\n",
    "#     # 'op_unique_carrier_delaymedian',\n",
    "#     'tail_num_delayct',\n",
    "#     # 'tail_num_delaymedian',\n",
    "#     'op_carrier_fl_num_delayct',\n",
    "#     # 'op_carrier_fl_num_delaymedian',\n",
    "#     # 'origin_airport_id_delayct',\n",
    "#     # 'origin_airport_id_delaymedian',\n",
    "#     # 'dest_airport_id_delayct',\n",
    "#     # 'dest_airport_id_delaymedian',\n",
    "#     # 'origin_city_delayct',\n",
    "#     'origin_city_delaymedian',\n",
    "#     # 'origin_state_delayct',\n",
    "#     'origin_state_delaymedian',\n",
    "#     'dest_city_delayct',\n",
    "#     # 'dest_city_delaymedian',\n",
    "#     # 'dest_state_delayct',\n",
    "#     'dest_state_delaymedian'\n",
    "# ]"
   ]
  },
  {
   "cell_type": "code",
   "execution_count": 44,
   "metadata": {},
   "outputs": [],
   "source": [
    "# scores = []\n",
    "# for f in features:\n",
    "#     X_train = df_train[[f]]\n",
    "#     y_train = target_train_log\n",
    "#     X_test = df_test[[f]]\n",
    "#     y_test = target_test\n",
    "    \n",
    "#     xg_reg = XGBRegressor(objective ='reg:squarederror',\n",
    "#                       learning_rate = 0.1,\n",
    "#                       max_depth = 6,\n",
    "#                       # reg_lambda = 10,\n",
    "#                       n_estimators = 300)\n",
    "#     xg_reg.fit(X_train, y_train)\n",
    "#     y_pred = np.exp(xg_reg.predict(X_test)) + diff\n",
    "#     # y_pred = xg_reg.predict(X_test)\n",
    "    \n",
    "#     scores.append([f, xg_reg.score(X_train, y_train), r2_score(y_test, y_pred)])"
   ]
  },
  {
   "cell_type": "code",
   "execution_count": 45,
   "metadata": {
    "collapsed": true,
    "jupyter": {
     "outputs_hidden": true
    },
    "tags": []
   },
   "outputs": [
    {
     "data": {
      "text/html": [
       "<div>\n",
       "<style scoped>\n",
       "    .dataframe tbody tr th:only-of-type {\n",
       "        vertical-align: middle;\n",
       "    }\n",
       "\n",
       "    .dataframe tbody tr th {\n",
       "        vertical-align: top;\n",
       "    }\n",
       "\n",
       "    .dataframe thead th {\n",
       "        text-align: right;\n",
       "    }\n",
       "</style>\n",
       "<table border=\"1\" class=\"dataframe\">\n",
       "  <thead>\n",
       "    <tr style=\"text-align: right;\">\n",
       "      <th></th>\n",
       "      <th>0</th>\n",
       "      <th>1</th>\n",
       "      <th>2</th>\n",
       "    </tr>\n",
       "  </thead>\n",
       "  <tbody>\n",
       "    <tr>\n",
       "      <th>5</th>\n",
       "      <td>origin_city_delaymedian</td>\n",
       "      <td>0.824356</td>\n",
       "      <td>0.240021</td>\n",
       "    </tr>\n",
       "  </tbody>\n",
       "</table>\n",
       "</div>"
      ],
      "text/plain": [
       "                         0         1         2\n",
       "5  origin_city_delaymedian  0.824356  0.240021"
      ]
     },
     "execution_count": 45,
     "metadata": {},
     "output_type": "execute_result"
    }
   ],
   "source": [
    "# s = pd.DataFrame(scores)\n",
    "# s[s[2]==s[2].max()]"
   ]
  },
  {
   "cell_type": "code",
   "execution_count": null,
   "metadata": {},
   "outputs": [],
   "source": []
  },
  {
   "cell_type": "code",
   "execution_count": null,
   "metadata": {},
   "outputs": [],
   "source": []
  },
  {
   "cell_type": "code",
   "execution_count": null,
   "metadata": {},
   "outputs": [],
   "source": []
  }
 ],
 "metadata": {
  "kernelspec": {
   "display_name": "Python 3 (ipykernel)",
   "language": "python",
   "name": "python3"
  },
  "language_info": {
   "codemirror_mode": {
    "name": "ipython",
    "version": 3
   },
   "file_extension": ".py",
   "mimetype": "text/x-python",
   "name": "python",
   "nbconvert_exporter": "python",
   "pygments_lexer": "ipython3",
   "version": "3.9.7"
  }
 },
 "nbformat": 4,
 "nbformat_minor": 4
}
